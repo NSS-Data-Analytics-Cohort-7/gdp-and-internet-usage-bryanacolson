{
 "cells": [
  {
   "cell_type": "markdown",
   "id": "2d76a29c",
   "metadata": {},
   "source": [
    "3"
   ]
  },
  {
   "cell_type": "code",
   "execution_count": 5,
   "id": "18a9e5d7",
   "metadata": {},
   "outputs": [],
   "source": [
    "import pandas as pd\n",
    "import numpy as np\n",
    "import matplotlib.pyplot as plt\n",
    "import seaborn as sns"
   ]
  },
  {
   "cell_type": "markdown",
   "id": "d5e3c0a8",
   "metadata": {},
   "source": [
    "4"
   ]
  },
  {
   "cell_type": "code",
   "execution_count": 6,
   "id": "0f4caa00",
   "metadata": {},
   "outputs": [],
   "source": [
    "%matplotlib inline"
   ]
  },
  {
   "cell_type": "markdown",
   "id": "cc3a023f",
   "metadata": {},
   "source": [
    "5"
   ]
  },
  {
   "cell_type": "code",
   "execution_count": 7,
   "id": "e8f88fbd",
   "metadata": {
    "scrolled": true
   },
   "outputs": [],
   "source": [
    "gdp_df = pd.read_csv(\"../Data/gdp_percapita.csv\", nrows=6868)"
   ]
  },
  {
   "cell_type": "code",
   "execution_count": 8,
   "id": "d6a334de",
   "metadata": {},
   "outputs": [
    {
     "name": "stdout",
     "output_type": "stream",
     "text": [
      "<class 'pandas.core.frame.DataFrame'>\n",
      "RangeIndex: 6868 entries, 0 to 6867\n",
      "Data columns (total 4 columns):\n",
      " #   Column           Non-Null Count  Dtype  \n",
      "---  ------           --------------  -----  \n",
      " 0   Country or Area  6868 non-null   object \n",
      " 1   Year             6868 non-null   int64  \n",
      " 2   Value            6868 non-null   float64\n",
      " 3   Value Footnotes  1 non-null      float64\n",
      "dtypes: float64(2), int64(1), object(1)\n",
      "memory usage: 214.8+ KB\n"
     ]
    }
   ],
   "source": [
    "gdp_df.info()"
   ]
  },
  {
   "cell_type": "markdown",
   "id": "491116eb",
   "metadata": {},
   "source": [
    "6"
   ]
  },
  {
   "cell_type": "code",
   "execution_count": 9,
   "id": "cd0d34dd",
   "metadata": {},
   "outputs": [],
   "source": [
    "internet_df = pd.read_csv(\"../Data/internet_use.csv\", nrows=4495)"
   ]
  },
  {
   "cell_type": "markdown",
   "id": "6130490c",
   "metadata": {},
   "source": [
    "7"
   ]
  },
  {
   "cell_type": "code",
   "execution_count": 10,
   "id": "33973983",
   "metadata": {},
   "outputs": [
    {
     "data": {
      "text/plain": [
       "(4495, 4)"
      ]
     },
     "execution_count": 10,
     "metadata": {},
     "output_type": "execute_result"
    }
   ],
   "source": [
    "internet_df.shape"
   ]
  },
  {
   "cell_type": "code",
   "execution_count": 11,
   "id": "e53ff1c8",
   "metadata": {},
   "outputs": [
    {
     "data": {
      "text/plain": [
       "(6868, 4)"
      ]
     },
     "execution_count": 11,
     "metadata": {},
     "output_type": "execute_result"
    }
   ],
   "source": [
    "gdp_df.shape"
   ]
  },
  {
   "cell_type": "markdown",
   "id": "aa988f6f",
   "metadata": {},
   "source": [
    "8 - module error"
   ]
  },
  {
   "cell_type": "code",
   "execution_count": 12,
   "id": "01c412dd",
   "metadata": {},
   "outputs": [
    {
     "data": {
      "text/plain": [
       "Country or Area     object\n",
       "Year                 int64\n",
       "Value              float64\n",
       "Value Footnotes    float64\n",
       "dtype: object"
      ]
     },
     "execution_count": 12,
     "metadata": {},
     "output_type": "execute_result"
    }
   ],
   "source": [
    "internet_df.dtypes"
   ]
  },
  {
   "cell_type": "code",
   "execution_count": 13,
   "id": "319f811b",
   "metadata": {},
   "outputs": [
    {
     "data": {
      "text/plain": [
       "Country or Area     object\n",
       "Year                 int64\n",
       "Value              float64\n",
       "Value Footnotes    float64\n",
       "dtype: object"
      ]
     },
     "execution_count": 13,
     "metadata": {},
     "output_type": "execute_result"
    }
   ],
   "source": [
    "gdp_df.dtypes"
   ]
  },
  {
   "cell_type": "markdown",
   "id": "e91609c9",
   "metadata": {},
   "source": [
    "9"
   ]
  },
  {
   "cell_type": "code",
   "execution_count": 14,
   "id": "36445320",
   "metadata": {},
   "outputs": [
    {
     "data": {
      "text/html": [
       "<div>\n",
       "<style scoped>\n",
       "    .dataframe tbody tr th:only-of-type {\n",
       "        vertical-align: middle;\n",
       "    }\n",
       "\n",
       "    .dataframe tbody tr th {\n",
       "        vertical-align: top;\n",
       "    }\n",
       "\n",
       "    .dataframe thead th {\n",
       "        text-align: right;\n",
       "    }\n",
       "</style>\n",
       "<table border=\"1\" class=\"dataframe\">\n",
       "  <thead>\n",
       "    <tr style=\"text-align: right;\">\n",
       "      <th></th>\n",
       "      <th>Country or Area</th>\n",
       "      <th>Year</th>\n",
       "      <th>Value</th>\n",
       "      <th>Value Footnotes</th>\n",
       "    </tr>\n",
       "  </thead>\n",
       "  <tbody>\n",
       "    <tr>\n",
       "      <th>4485</th>\n",
       "      <td>Zimbabwe</td>\n",
       "      <td>2002</td>\n",
       "      <td>3.994356</td>\n",
       "      <td>NaN</td>\n",
       "    </tr>\n",
       "    <tr>\n",
       "      <th>4486</th>\n",
       "      <td>Zimbabwe</td>\n",
       "      <td>2001</td>\n",
       "      <td>0.799846</td>\n",
       "      <td>NaN</td>\n",
       "    </tr>\n",
       "    <tr>\n",
       "      <th>4487</th>\n",
       "      <td>Zimbabwe</td>\n",
       "      <td>2000</td>\n",
       "      <td>0.401434</td>\n",
       "      <td>NaN</td>\n",
       "    </tr>\n",
       "    <tr>\n",
       "      <th>4488</th>\n",
       "      <td>Zimbabwe</td>\n",
       "      <td>1999</td>\n",
       "      <td>0.161676</td>\n",
       "      <td>NaN</td>\n",
       "    </tr>\n",
       "    <tr>\n",
       "      <th>4489</th>\n",
       "      <td>Zimbabwe</td>\n",
       "      <td>1998</td>\n",
       "      <td>0.081648</td>\n",
       "      <td>NaN</td>\n",
       "    </tr>\n",
       "    <tr>\n",
       "      <th>4490</th>\n",
       "      <td>Zimbabwe</td>\n",
       "      <td>1997</td>\n",
       "      <td>0.033080</td>\n",
       "      <td>NaN</td>\n",
       "    </tr>\n",
       "    <tr>\n",
       "      <th>4491</th>\n",
       "      <td>Zimbabwe</td>\n",
       "      <td>1996</td>\n",
       "      <td>0.016790</td>\n",
       "      <td>NaN</td>\n",
       "    </tr>\n",
       "    <tr>\n",
       "      <th>4492</th>\n",
       "      <td>Zimbabwe</td>\n",
       "      <td>1995</td>\n",
       "      <td>0.007684</td>\n",
       "      <td>NaN</td>\n",
       "    </tr>\n",
       "    <tr>\n",
       "      <th>4493</th>\n",
       "      <td>Zimbabwe</td>\n",
       "      <td>1994</td>\n",
       "      <td>0.001739</td>\n",
       "      <td>NaN</td>\n",
       "    </tr>\n",
       "    <tr>\n",
       "      <th>4494</th>\n",
       "      <td>Zimbabwe</td>\n",
       "      <td>1990</td>\n",
       "      <td>0.000000</td>\n",
       "      <td>NaN</td>\n",
       "    </tr>\n",
       "  </tbody>\n",
       "</table>\n",
       "</div>"
      ],
      "text/plain": [
       "     Country or Area  Year     Value  Value Footnotes\n",
       "4485        Zimbabwe  2002  3.994356              NaN\n",
       "4486        Zimbabwe  2001  0.799846              NaN\n",
       "4487        Zimbabwe  2000  0.401434              NaN\n",
       "4488        Zimbabwe  1999  0.161676              NaN\n",
       "4489        Zimbabwe  1998  0.081648              NaN\n",
       "4490        Zimbabwe  1997  0.033080              NaN\n",
       "4491        Zimbabwe  1996  0.016790              NaN\n",
       "4492        Zimbabwe  1995  0.007684              NaN\n",
       "4493        Zimbabwe  1994  0.001739              NaN\n",
       "4494        Zimbabwe  1990  0.000000              NaN"
      ]
     },
     "execution_count": 14,
     "metadata": {},
     "output_type": "execute_result"
    }
   ],
   "source": [
    "internet_df.tail(10)\n"
   ]
  },
  {
   "cell_type": "code",
   "execution_count": 15,
   "id": "ac6be449",
   "metadata": {},
   "outputs": [
    {
     "data": {
      "text/html": [
       "<div>\n",
       "<style scoped>\n",
       "    .dataframe tbody tr th:only-of-type {\n",
       "        vertical-align: middle;\n",
       "    }\n",
       "\n",
       "    .dataframe tbody tr th {\n",
       "        vertical-align: top;\n",
       "    }\n",
       "\n",
       "    .dataframe thead th {\n",
       "        text-align: right;\n",
       "    }\n",
       "</style>\n",
       "<table border=\"1\" class=\"dataframe\">\n",
       "  <thead>\n",
       "    <tr style=\"text-align: right;\">\n",
       "      <th></th>\n",
       "      <th>Country or Area</th>\n",
       "      <th>Year</th>\n",
       "      <th>Value</th>\n",
       "      <th>Value Footnotes</th>\n",
       "    </tr>\n",
       "  </thead>\n",
       "  <tbody>\n",
       "    <tr>\n",
       "      <th>6858</th>\n",
       "      <td>Zimbabwe</td>\n",
       "      <td>1999</td>\n",
       "      <td>3600.849291</td>\n",
       "      <td>NaN</td>\n",
       "    </tr>\n",
       "    <tr>\n",
       "      <th>6859</th>\n",
       "      <td>Zimbabwe</td>\n",
       "      <td>1998</td>\n",
       "      <td>3653.920016</td>\n",
       "      <td>NaN</td>\n",
       "    </tr>\n",
       "    <tr>\n",
       "      <th>6860</th>\n",
       "      <td>Zimbabwe</td>\n",
       "      <td>1997</td>\n",
       "      <td>3580.048793</td>\n",
       "      <td>NaN</td>\n",
       "    </tr>\n",
       "    <tr>\n",
       "      <th>6861</th>\n",
       "      <td>Zimbabwe</td>\n",
       "      <td>1996</td>\n",
       "      <td>3520.430146</td>\n",
       "      <td>NaN</td>\n",
       "    </tr>\n",
       "    <tr>\n",
       "      <th>6862</th>\n",
       "      <td>Zimbabwe</td>\n",
       "      <td>1995</td>\n",
       "      <td>3226.413930</td>\n",
       "      <td>NaN</td>\n",
       "    </tr>\n",
       "    <tr>\n",
       "      <th>6863</th>\n",
       "      <td>Zimbabwe</td>\n",
       "      <td>1994</td>\n",
       "      <td>3263.934978</td>\n",
       "      <td>NaN</td>\n",
       "    </tr>\n",
       "    <tr>\n",
       "      <th>6864</th>\n",
       "      <td>Zimbabwe</td>\n",
       "      <td>1993</td>\n",
       "      <td>3033.504852</td>\n",
       "      <td>NaN</td>\n",
       "    </tr>\n",
       "    <tr>\n",
       "      <th>6865</th>\n",
       "      <td>Zimbabwe</td>\n",
       "      <td>1992</td>\n",
       "      <td>3054.889178</td>\n",
       "      <td>NaN</td>\n",
       "    </tr>\n",
       "    <tr>\n",
       "      <th>6866</th>\n",
       "      <td>Zimbabwe</td>\n",
       "      <td>1991</td>\n",
       "      <td>3426.598094</td>\n",
       "      <td>NaN</td>\n",
       "    </tr>\n",
       "    <tr>\n",
       "      <th>6867</th>\n",
       "      <td>Zimbabwe</td>\n",
       "      <td>1990</td>\n",
       "      <td>3324.348171</td>\n",
       "      <td>NaN</td>\n",
       "    </tr>\n",
       "  </tbody>\n",
       "</table>\n",
       "</div>"
      ],
      "text/plain": [
       "     Country or Area  Year        Value  Value Footnotes\n",
       "6858        Zimbabwe  1999  3600.849291              NaN\n",
       "6859        Zimbabwe  1998  3653.920016              NaN\n",
       "6860        Zimbabwe  1997  3580.048793              NaN\n",
       "6861        Zimbabwe  1996  3520.430146              NaN\n",
       "6862        Zimbabwe  1995  3226.413930              NaN\n",
       "6863        Zimbabwe  1994  3263.934978              NaN\n",
       "6864        Zimbabwe  1993  3033.504852              NaN\n",
       "6865        Zimbabwe  1992  3054.889178              NaN\n",
       "6866        Zimbabwe  1991  3426.598094              NaN\n",
       "6867        Zimbabwe  1990  3324.348171              NaN"
      ]
     },
     "execution_count": 15,
     "metadata": {},
     "output_type": "execute_result"
    }
   ],
   "source": [
    "gdp_df.tail(10)"
   ]
  },
  {
   "cell_type": "markdown",
   "id": "e0555f85",
   "metadata": {},
   "source": [
    "10"
   ]
  },
  {
   "cell_type": "code",
   "execution_count": 16,
   "id": "c02f6067",
   "metadata": {},
   "outputs": [],
   "source": [
    "del internet_df['Value Footnotes']"
   ]
  },
  {
   "cell_type": "code",
   "execution_count": 17,
   "id": "21a70ad5",
   "metadata": {},
   "outputs": [],
   "source": [
    "del gdp_df['Value Footnotes']"
   ]
  },
  {
   "cell_type": "code",
   "execution_count": 18,
   "id": "2c4576d5",
   "metadata": {},
   "outputs": [
    {
     "data": {
      "text/plain": [
       "11"
      ]
     },
     "execution_count": 18,
     "metadata": {},
     "output_type": "execute_result"
    }
   ],
   "source": [
    "11"
   ]
  },
  {
   "cell_type": "code",
   "execution_count": 19,
   "id": "a34144a2",
   "metadata": {},
   "outputs": [
    {
     "data": {
      "text/html": [
       "<div>\n",
       "<style scoped>\n",
       "    .dataframe tbody tr th:only-of-type {\n",
       "        vertical-align: middle;\n",
       "    }\n",
       "\n",
       "    .dataframe tbody tr th {\n",
       "        vertical-align: top;\n",
       "    }\n",
       "\n",
       "    .dataframe thead th {\n",
       "        text-align: right;\n",
       "    }\n",
       "</style>\n",
       "<table border=\"1\" class=\"dataframe\">\n",
       "  <thead>\n",
       "    <tr style=\"text-align: right;\">\n",
       "      <th></th>\n",
       "      <th>Country</th>\n",
       "      <th>Year</th>\n",
       "      <th>Internet_users_Pct</th>\n",
       "    </tr>\n",
       "  </thead>\n",
       "  <tbody>\n",
       "    <tr>\n",
       "      <th>0</th>\n",
       "      <td>Afghanistan</td>\n",
       "      <td>2014</td>\n",
       "      <td>6.390000</td>\n",
       "    </tr>\n",
       "    <tr>\n",
       "      <th>1</th>\n",
       "      <td>Afghanistan</td>\n",
       "      <td>2013</td>\n",
       "      <td>5.900000</td>\n",
       "    </tr>\n",
       "    <tr>\n",
       "      <th>2</th>\n",
       "      <td>Afghanistan</td>\n",
       "      <td>2012</td>\n",
       "      <td>5.454545</td>\n",
       "    </tr>\n",
       "    <tr>\n",
       "      <th>3</th>\n",
       "      <td>Afghanistan</td>\n",
       "      <td>2011</td>\n",
       "      <td>5.000000</td>\n",
       "    </tr>\n",
       "    <tr>\n",
       "      <th>4</th>\n",
       "      <td>Afghanistan</td>\n",
       "      <td>2010</td>\n",
       "      <td>4.000000</td>\n",
       "    </tr>\n",
       "    <tr>\n",
       "      <th>...</th>\n",
       "      <td>...</td>\n",
       "      <td>...</td>\n",
       "      <td>...</td>\n",
       "    </tr>\n",
       "    <tr>\n",
       "      <th>4490</th>\n",
       "      <td>Zimbabwe</td>\n",
       "      <td>1997</td>\n",
       "      <td>0.033080</td>\n",
       "    </tr>\n",
       "    <tr>\n",
       "      <th>4491</th>\n",
       "      <td>Zimbabwe</td>\n",
       "      <td>1996</td>\n",
       "      <td>0.016790</td>\n",
       "    </tr>\n",
       "    <tr>\n",
       "      <th>4492</th>\n",
       "      <td>Zimbabwe</td>\n",
       "      <td>1995</td>\n",
       "      <td>0.007684</td>\n",
       "    </tr>\n",
       "    <tr>\n",
       "      <th>4493</th>\n",
       "      <td>Zimbabwe</td>\n",
       "      <td>1994</td>\n",
       "      <td>0.001739</td>\n",
       "    </tr>\n",
       "    <tr>\n",
       "      <th>4494</th>\n",
       "      <td>Zimbabwe</td>\n",
       "      <td>1990</td>\n",
       "      <td>0.000000</td>\n",
       "    </tr>\n",
       "  </tbody>\n",
       "</table>\n",
       "<p>4495 rows × 3 columns</p>\n",
       "</div>"
      ],
      "text/plain": [
       "          Country  Year  Internet_users_Pct\n",
       "0     Afghanistan  2014            6.390000\n",
       "1     Afghanistan  2013            5.900000\n",
       "2     Afghanistan  2012            5.454545\n",
       "3     Afghanistan  2011            5.000000\n",
       "4     Afghanistan  2010            4.000000\n",
       "...           ...   ...                 ...\n",
       "4490     Zimbabwe  1997            0.033080\n",
       "4491     Zimbabwe  1996            0.016790\n",
       "4492     Zimbabwe  1995            0.007684\n",
       "4493     Zimbabwe  1994            0.001739\n",
       "4494     Zimbabwe  1990            0.000000\n",
       "\n",
       "[4495 rows x 3 columns]"
      ]
     },
     "execution_count": 19,
     "metadata": {},
     "output_type": "execute_result"
    }
   ],
   "source": [
    "internet_df.rename(columns={'Country or Area':'Country', 'Value': 'Internet_users_Pct'})"
   ]
  },
  {
   "cell_type": "markdown",
   "id": "1b460b35",
   "metadata": {},
   "source": [
    "13"
   ]
  },
  {
   "cell_type": "code",
   "execution_count": 20,
   "id": "1cf8f805",
   "metadata": {},
   "outputs": [
    {
     "data": {
      "text/html": [
       "<div>\n",
       "<style scoped>\n",
       "    .dataframe tbody tr th:only-of-type {\n",
       "        vertical-align: middle;\n",
       "    }\n",
       "\n",
       "    .dataframe tbody tr th {\n",
       "        vertical-align: top;\n",
       "    }\n",
       "\n",
       "    .dataframe thead th {\n",
       "        text-align: right;\n",
       "    }\n",
       "</style>\n",
       "<table border=\"1\" class=\"dataframe\">\n",
       "  <thead>\n",
       "    <tr style=\"text-align: right;\">\n",
       "      <th></th>\n",
       "      <th>Country</th>\n",
       "      <th>Year</th>\n",
       "      <th>GDP_Per_Capita</th>\n",
       "    </tr>\n",
       "  </thead>\n",
       "  <tbody>\n",
       "    <tr>\n",
       "      <th>0</th>\n",
       "      <td>Afghanistan</td>\n",
       "      <td>2019</td>\n",
       "      <td>2065.036398</td>\n",
       "    </tr>\n",
       "    <tr>\n",
       "      <th>1</th>\n",
       "      <td>Afghanistan</td>\n",
       "      <td>2018</td>\n",
       "      <td>2033.779002</td>\n",
       "    </tr>\n",
       "    <tr>\n",
       "      <th>2</th>\n",
       "      <td>Afghanistan</td>\n",
       "      <td>2017</td>\n",
       "      <td>2058.383832</td>\n",
       "    </tr>\n",
       "    <tr>\n",
       "      <th>3</th>\n",
       "      <td>Afghanistan</td>\n",
       "      <td>2016</td>\n",
       "      <td>2057.062164</td>\n",
       "    </tr>\n",
       "    <tr>\n",
       "      <th>4</th>\n",
       "      <td>Afghanistan</td>\n",
       "      <td>2015</td>\n",
       "      <td>2068.265904</td>\n",
       "    </tr>\n",
       "    <tr>\n",
       "      <th>...</th>\n",
       "      <td>...</td>\n",
       "      <td>...</td>\n",
       "      <td>...</td>\n",
       "    </tr>\n",
       "    <tr>\n",
       "      <th>6863</th>\n",
       "      <td>Zimbabwe</td>\n",
       "      <td>1994</td>\n",
       "      <td>3263.934978</td>\n",
       "    </tr>\n",
       "    <tr>\n",
       "      <th>6864</th>\n",
       "      <td>Zimbabwe</td>\n",
       "      <td>1993</td>\n",
       "      <td>3033.504852</td>\n",
       "    </tr>\n",
       "    <tr>\n",
       "      <th>6865</th>\n",
       "      <td>Zimbabwe</td>\n",
       "      <td>1992</td>\n",
       "      <td>3054.889178</td>\n",
       "    </tr>\n",
       "    <tr>\n",
       "      <th>6866</th>\n",
       "      <td>Zimbabwe</td>\n",
       "      <td>1991</td>\n",
       "      <td>3426.598094</td>\n",
       "    </tr>\n",
       "    <tr>\n",
       "      <th>6867</th>\n",
       "      <td>Zimbabwe</td>\n",
       "      <td>1990</td>\n",
       "      <td>3324.348171</td>\n",
       "    </tr>\n",
       "  </tbody>\n",
       "</table>\n",
       "<p>6868 rows × 3 columns</p>\n",
       "</div>"
      ],
      "text/plain": [
       "          Country  Year  GDP_Per_Capita\n",
       "0     Afghanistan  2019     2065.036398\n",
       "1     Afghanistan  2018     2033.779002\n",
       "2     Afghanistan  2017     2058.383832\n",
       "3     Afghanistan  2016     2057.062164\n",
       "4     Afghanistan  2015     2068.265904\n",
       "...           ...   ...             ...\n",
       "6863     Zimbabwe  1994     3263.934978\n",
       "6864     Zimbabwe  1993     3033.504852\n",
       "6865     Zimbabwe  1992     3054.889178\n",
       "6866     Zimbabwe  1991     3426.598094\n",
       "6867     Zimbabwe  1990     3324.348171\n",
       "\n",
       "[6868 rows x 3 columns]"
      ]
     },
     "execution_count": 20,
     "metadata": {},
     "output_type": "execute_result"
    }
   ],
   "source": [
    "gdp_df.rename(columns={'Country or Area':'Country', 'Value': 'GDP_Per_Capita'})"
   ]
  },
  {
   "cell_type": "markdown",
   "id": "71c57865",
   "metadata": {},
   "source": [
    "14"
   ]
  },
  {
   "cell_type": "code",
   "execution_count": 21,
   "id": "36cc2506",
   "metadata": {},
   "outputs": [
    {
     "data": {
      "text/html": [
       "<div>\n",
       "<style scoped>\n",
       "    .dataframe tbody tr th:only-of-type {\n",
       "        vertical-align: middle;\n",
       "    }\n",
       "\n",
       "    .dataframe tbody tr th {\n",
       "        vertical-align: top;\n",
       "    }\n",
       "\n",
       "    .dataframe thead th {\n",
       "        text-align: right;\n",
       "    }\n",
       "</style>\n",
       "<table border=\"1\" class=\"dataframe\">\n",
       "  <thead>\n",
       "    <tr style=\"text-align: right;\">\n",
       "      <th></th>\n",
       "      <th>Country or Area_x</th>\n",
       "      <th>Year</th>\n",
       "      <th>Internet_Users_Pct</th>\n",
       "      <th>Country or Area_y</th>\n",
       "      <th>GDP</th>\n",
       "    </tr>\n",
       "  </thead>\n",
       "  <tbody>\n",
       "    <tr>\n",
       "      <th>0</th>\n",
       "      <td>Afghanistan</td>\n",
       "      <td>2014</td>\n",
       "      <td>6.390000</td>\n",
       "      <td>Afghanistan</td>\n",
       "      <td>2102.385234</td>\n",
       "    </tr>\n",
       "    <tr>\n",
       "      <th>1</th>\n",
       "      <td>Afghanistan</td>\n",
       "      <td>2014</td>\n",
       "      <td>6.390000</td>\n",
       "      <td>Albania</td>\n",
       "      <td>11623.866679</td>\n",
       "    </tr>\n",
       "    <tr>\n",
       "      <th>2</th>\n",
       "      <td>Afghanistan</td>\n",
       "      <td>2014</td>\n",
       "      <td>6.390000</td>\n",
       "      <td>Algeria</td>\n",
       "      <td>11512.705405</td>\n",
       "    </tr>\n",
       "    <tr>\n",
       "      <th>3</th>\n",
       "      <td>Afghanistan</td>\n",
       "      <td>2014</td>\n",
       "      <td>6.390000</td>\n",
       "      <td>Angola</td>\n",
       "      <td>8239.828837</td>\n",
       "    </tr>\n",
       "    <tr>\n",
       "      <th>4</th>\n",
       "      <td>Afghanistan</td>\n",
       "      <td>2014</td>\n",
       "      <td>6.390000</td>\n",
       "      <td>Antigua and Barbuda</td>\n",
       "      <td>18104.241470</td>\n",
       "    </tr>\n",
       "    <tr>\n",
       "      <th>...</th>\n",
       "      <td>...</td>\n",
       "      <td>...</td>\n",
       "      <td>...</td>\n",
       "      <td>...</td>\n",
       "      <td>...</td>\n",
       "    </tr>\n",
       "    <tr>\n",
       "      <th>1003631</th>\n",
       "      <td>United States</td>\n",
       "      <td>1991</td>\n",
       "      <td>1.163194</td>\n",
       "      <td>Vanuatu</td>\n",
       "      <td>2897.327707</td>\n",
       "    </tr>\n",
       "    <tr>\n",
       "      <th>1003632</th>\n",
       "      <td>United States</td>\n",
       "      <td>1991</td>\n",
       "      <td>1.163194</td>\n",
       "      <td>Vietnam</td>\n",
       "      <td>1736.014139</td>\n",
       "    </tr>\n",
       "    <tr>\n",
       "      <th>1003633</th>\n",
       "      <td>United States</td>\n",
       "      <td>1991</td>\n",
       "      <td>1.163194</td>\n",
       "      <td>World</td>\n",
       "      <td>9645.256163</td>\n",
       "    </tr>\n",
       "    <tr>\n",
       "      <th>1003634</th>\n",
       "      <td>United States</td>\n",
       "      <td>1991</td>\n",
       "      <td>1.163194</td>\n",
       "      <td>Zambia</td>\n",
       "      <td>2133.689042</td>\n",
       "    </tr>\n",
       "    <tr>\n",
       "      <th>1003635</th>\n",
       "      <td>United States</td>\n",
       "      <td>1991</td>\n",
       "      <td>1.163194</td>\n",
       "      <td>Zimbabwe</td>\n",
       "      <td>3426.598094</td>\n",
       "    </tr>\n",
       "  </tbody>\n",
       "</table>\n",
       "<p>1003636 rows × 5 columns</p>\n",
       "</div>"
      ],
      "text/plain": [
       "        Country or Area_x  Year  Internet_Users_Pct    Country or Area_y  \\\n",
       "0             Afghanistan  2014            6.390000          Afghanistan   \n",
       "1             Afghanistan  2014            6.390000              Albania   \n",
       "2             Afghanistan  2014            6.390000              Algeria   \n",
       "3             Afghanistan  2014            6.390000               Angola   \n",
       "4             Afghanistan  2014            6.390000  Antigua and Barbuda   \n",
       "...                   ...   ...                 ...                  ...   \n",
       "1003631     United States  1991            1.163194              Vanuatu   \n",
       "1003632     United States  1991            1.163194              Vietnam   \n",
       "1003633     United States  1991            1.163194                World   \n",
       "1003634     United States  1991            1.163194               Zambia   \n",
       "1003635     United States  1991            1.163194             Zimbabwe   \n",
       "\n",
       "                  GDP  \n",
       "0         2102.385234  \n",
       "1        11623.866679  \n",
       "2        11512.705405  \n",
       "3         8239.828837  \n",
       "4        18104.241470  \n",
       "...               ...  \n",
       "1003631   2897.327707  \n",
       "1003632   1736.014139  \n",
       "1003633   9645.256163  \n",
       "1003634   2133.689042  \n",
       "1003635   3426.598094  \n",
       "\n",
       "[1003636 rows x 5 columns]"
      ]
     },
     "execution_count": 21,
     "metadata": {},
     "output_type": "execute_result"
    }
   ],
   "source": [
    "df3 = pd.merge(internet_df, gdp_df, on='Year')\n",
    "df3.rename(columns={'Value_x' : 'Internet_Users_Pct', 'Value_y' : 'GDP'})\n"
   ]
  },
  {
   "cell_type": "markdown",
   "id": "646f3f63",
   "metadata": {},
   "source": [
    "15"
   ]
  },
  {
   "cell_type": "code",
   "execution_count": 22,
   "id": "e8acec8e",
   "metadata": {},
   "outputs": [
    {
     "data": {
      "text/html": [
       "<div>\n",
       "<style scoped>\n",
       "    .dataframe tbody tr th:only-of-type {\n",
       "        vertical-align: middle;\n",
       "    }\n",
       "\n",
       "    .dataframe tbody tr th {\n",
       "        vertical-align: top;\n",
       "    }\n",
       "\n",
       "    .dataframe thead th {\n",
       "        text-align: right;\n",
       "    }\n",
       "</style>\n",
       "<table border=\"1\" class=\"dataframe\">\n",
       "  <thead>\n",
       "    <tr style=\"text-align: right;\">\n",
       "      <th></th>\n",
       "      <th>Country or Area_x</th>\n",
       "      <th>Year</th>\n",
       "      <th>Internet_Users_Pct</th>\n",
       "      <th>Country or Area_y</th>\n",
       "      <th>GDP</th>\n",
       "    </tr>\n",
       "  </thead>\n",
       "  <tbody>\n",
       "    <tr>\n",
       "      <th>0</th>\n",
       "      <td>Afghanistan</td>\n",
       "      <td>2014</td>\n",
       "      <td>6.390000</td>\n",
       "      <td>Afghanistan</td>\n",
       "      <td>2102.385234</td>\n",
       "    </tr>\n",
       "    <tr>\n",
       "      <th>1</th>\n",
       "      <td>Afghanistan</td>\n",
       "      <td>2014</td>\n",
       "      <td>6.390000</td>\n",
       "      <td>Albania</td>\n",
       "      <td>11623.866679</td>\n",
       "    </tr>\n",
       "    <tr>\n",
       "      <th>2</th>\n",
       "      <td>Afghanistan</td>\n",
       "      <td>2014</td>\n",
       "      <td>6.390000</td>\n",
       "      <td>Algeria</td>\n",
       "      <td>11512.705405</td>\n",
       "    </tr>\n",
       "    <tr>\n",
       "      <th>3</th>\n",
       "      <td>Afghanistan</td>\n",
       "      <td>2014</td>\n",
       "      <td>6.390000</td>\n",
       "      <td>Angola</td>\n",
       "      <td>8239.828837</td>\n",
       "    </tr>\n",
       "    <tr>\n",
       "      <th>4</th>\n",
       "      <td>Afghanistan</td>\n",
       "      <td>2014</td>\n",
       "      <td>6.390000</td>\n",
       "      <td>Antigua and Barbuda</td>\n",
       "      <td>18104.241470</td>\n",
       "    </tr>\n",
       "    <tr>\n",
       "      <th>...</th>\n",
       "      <td>...</td>\n",
       "      <td>...</td>\n",
       "      <td>...</td>\n",
       "      <td>...</td>\n",
       "      <td>...</td>\n",
       "    </tr>\n",
       "    <tr>\n",
       "      <th>1003631</th>\n",
       "      <td>United States</td>\n",
       "      <td>1991</td>\n",
       "      <td>1.163194</td>\n",
       "      <td>Vanuatu</td>\n",
       "      <td>2897.327707</td>\n",
       "    </tr>\n",
       "    <tr>\n",
       "      <th>1003632</th>\n",
       "      <td>United States</td>\n",
       "      <td>1991</td>\n",
       "      <td>1.163194</td>\n",
       "      <td>Vietnam</td>\n",
       "      <td>1736.014139</td>\n",
       "    </tr>\n",
       "    <tr>\n",
       "      <th>1003633</th>\n",
       "      <td>United States</td>\n",
       "      <td>1991</td>\n",
       "      <td>1.163194</td>\n",
       "      <td>World</td>\n",
       "      <td>9645.256163</td>\n",
       "    </tr>\n",
       "    <tr>\n",
       "      <th>1003634</th>\n",
       "      <td>United States</td>\n",
       "      <td>1991</td>\n",
       "      <td>1.163194</td>\n",
       "      <td>Zambia</td>\n",
       "      <td>2133.689042</td>\n",
       "    </tr>\n",
       "    <tr>\n",
       "      <th>1003635</th>\n",
       "      <td>United States</td>\n",
       "      <td>1991</td>\n",
       "      <td>1.163194</td>\n",
       "      <td>Zimbabwe</td>\n",
       "      <td>3426.598094</td>\n",
       "    </tr>\n",
       "  </tbody>\n",
       "</table>\n",
       "<p>1003636 rows × 5 columns</p>\n",
       "</div>"
      ],
      "text/plain": [
       "        Country or Area_x  Year  Internet_Users_Pct    Country or Area_y  \\\n",
       "0             Afghanistan  2014            6.390000          Afghanistan   \n",
       "1             Afghanistan  2014            6.390000              Albania   \n",
       "2             Afghanistan  2014            6.390000              Algeria   \n",
       "3             Afghanistan  2014            6.390000               Angola   \n",
       "4             Afghanistan  2014            6.390000  Antigua and Barbuda   \n",
       "...                   ...   ...                 ...                  ...   \n",
       "1003631     United States  1991            1.163194              Vanuatu   \n",
       "1003632     United States  1991            1.163194              Vietnam   \n",
       "1003633     United States  1991            1.163194                World   \n",
       "1003634     United States  1991            1.163194               Zambia   \n",
       "1003635     United States  1991            1.163194             Zimbabwe   \n",
       "\n",
       "                  GDP  \n",
       "0         2102.385234  \n",
       "1        11623.866679  \n",
       "2        11512.705405  \n",
       "3         8239.828837  \n",
       "4        18104.241470  \n",
       "...               ...  \n",
       "1003631   2897.327707  \n",
       "1003632   1736.014139  \n",
       "1003633   9645.256163  \n",
       "1003634   2133.689042  \n",
       "1003635   3426.598094  \n",
       "\n",
       "[1003636 rows x 5 columns]"
      ]
     },
     "execution_count": 22,
     "metadata": {},
     "output_type": "execute_result"
    }
   ],
   "source": [
    "df3.tail(5)\n",
    "df3.rename(columns={'Value_x' : 'Internet_Users_Pct', 'Value_y' : 'GDP'})"
   ]
  },
  {
   "cell_type": "markdown",
   "id": "f56895c1",
   "metadata": {},
   "source": [
    "16"
   ]
  },
  {
   "cell_type": "code",
   "execution_count": 23,
   "id": "393d3026",
   "metadata": {},
   "outputs": [
    {
     "data": {
      "text/html": [
       "<div>\n",
       "<style scoped>\n",
       "    .dataframe tbody tr th:only-of-type {\n",
       "        vertical-align: middle;\n",
       "    }\n",
       "\n",
       "    .dataframe tbody tr th {\n",
       "        vertical-align: top;\n",
       "    }\n",
       "\n",
       "    .dataframe thead th {\n",
       "        text-align: right;\n",
       "    }\n",
       "</style>\n",
       "<table border=\"1\" class=\"dataframe\">\n",
       "  <thead>\n",
       "    <tr style=\"text-align: right;\">\n",
       "      <th></th>\n",
       "      <th>Country or Area_x</th>\n",
       "      <th>Year</th>\n",
       "      <th>Internet_Users_Pct</th>\n",
       "      <th>Country or Area_y</th>\n",
       "      <th>GDP</th>\n",
       "    </tr>\n",
       "  </thead>\n",
       "  <tbody>\n",
       "    <tr>\n",
       "      <th>0</th>\n",
       "      <td>Afghanistan</td>\n",
       "      <td>2014</td>\n",
       "      <td>6.390000</td>\n",
       "      <td>Afghanistan</td>\n",
       "      <td>2102.385234</td>\n",
       "    </tr>\n",
       "    <tr>\n",
       "      <th>1</th>\n",
       "      <td>Afghanistan</td>\n",
       "      <td>2014</td>\n",
       "      <td>6.390000</td>\n",
       "      <td>Albania</td>\n",
       "      <td>11623.866679</td>\n",
       "    </tr>\n",
       "    <tr>\n",
       "      <th>2</th>\n",
       "      <td>Afghanistan</td>\n",
       "      <td>2014</td>\n",
       "      <td>6.390000</td>\n",
       "      <td>Algeria</td>\n",
       "      <td>11512.705405</td>\n",
       "    </tr>\n",
       "    <tr>\n",
       "      <th>3</th>\n",
       "      <td>Afghanistan</td>\n",
       "      <td>2014</td>\n",
       "      <td>6.390000</td>\n",
       "      <td>Angola</td>\n",
       "      <td>8239.828837</td>\n",
       "    </tr>\n",
       "    <tr>\n",
       "      <th>4</th>\n",
       "      <td>Afghanistan</td>\n",
       "      <td>2014</td>\n",
       "      <td>6.390000</td>\n",
       "      <td>Antigua and Barbuda</td>\n",
       "      <td>18104.241470</td>\n",
       "    </tr>\n",
       "    <tr>\n",
       "      <th>...</th>\n",
       "      <td>...</td>\n",
       "      <td>...</td>\n",
       "      <td>...</td>\n",
       "      <td>...</td>\n",
       "      <td>...</td>\n",
       "    </tr>\n",
       "    <tr>\n",
       "      <th>1003631</th>\n",
       "      <td>United States</td>\n",
       "      <td>1991</td>\n",
       "      <td>1.163194</td>\n",
       "      <td>Vanuatu</td>\n",
       "      <td>2897.327707</td>\n",
       "    </tr>\n",
       "    <tr>\n",
       "      <th>1003632</th>\n",
       "      <td>United States</td>\n",
       "      <td>1991</td>\n",
       "      <td>1.163194</td>\n",
       "      <td>Vietnam</td>\n",
       "      <td>1736.014139</td>\n",
       "    </tr>\n",
       "    <tr>\n",
       "      <th>1003633</th>\n",
       "      <td>United States</td>\n",
       "      <td>1991</td>\n",
       "      <td>1.163194</td>\n",
       "      <td>World</td>\n",
       "      <td>9645.256163</td>\n",
       "    </tr>\n",
       "    <tr>\n",
       "      <th>1003634</th>\n",
       "      <td>United States</td>\n",
       "      <td>1991</td>\n",
       "      <td>1.163194</td>\n",
       "      <td>Zambia</td>\n",
       "      <td>2133.689042</td>\n",
       "    </tr>\n",
       "    <tr>\n",
       "      <th>1003635</th>\n",
       "      <td>United States</td>\n",
       "      <td>1991</td>\n",
       "      <td>1.163194</td>\n",
       "      <td>Zimbabwe</td>\n",
       "      <td>3426.598094</td>\n",
       "    </tr>\n",
       "  </tbody>\n",
       "</table>\n",
       "<p>1003636 rows × 5 columns</p>\n",
       "</div>"
      ],
      "text/plain": [
       "        Country or Area_x  Year  Internet_Users_Pct    Country or Area_y  \\\n",
       "0             Afghanistan  2014            6.390000          Afghanistan   \n",
       "1             Afghanistan  2014            6.390000              Albania   \n",
       "2             Afghanistan  2014            6.390000              Algeria   \n",
       "3             Afghanistan  2014            6.390000               Angola   \n",
       "4             Afghanistan  2014            6.390000  Antigua and Barbuda   \n",
       "...                   ...   ...                 ...                  ...   \n",
       "1003631     United States  1991            1.163194              Vanuatu   \n",
       "1003632     United States  1991            1.163194              Vietnam   \n",
       "1003633     United States  1991            1.163194                World   \n",
       "1003634     United States  1991            1.163194               Zambia   \n",
       "1003635     United States  1991            1.163194             Zimbabwe   \n",
       "\n",
       "                  GDP  \n",
       "0         2102.385234  \n",
       "1        11623.866679  \n",
       "2        11512.705405  \n",
       "3         8239.828837  \n",
       "4        18104.241470  \n",
       "...               ...  \n",
       "1003631   2897.327707  \n",
       "1003632   1736.014139  \n",
       "1003633   9645.256163  \n",
       "1003634   2133.689042  \n",
       "1003635   3426.598094  \n",
       "\n",
       "[1003636 rows x 5 columns]"
      ]
     },
     "execution_count": 23,
     "metadata": {},
     "output_type": "execute_result"
    }
   ],
   "source": [
    "filtered_df3= df3[df3.Year.isin([2004, 2009, 2014])]\n",
    "df3.rename(columns={'Value_x' : 'Internet_Users_Pct', 'Value_y' : 'GDP'})"
   ]
  },
  {
   "cell_type": "markdown",
   "id": "94fd87f1",
   "metadata": {},
   "source": [
    "17"
   ]
  },
  {
   "cell_type": "code",
   "execution_count": 24,
   "id": "277571aa",
   "metadata": {},
   "outputs": [
    {
     "data": {
      "text/html": [
       "<div>\n",
       "<style scoped>\n",
       "    .dataframe tbody tr th:only-of-type {\n",
       "        vertical-align: middle;\n",
       "    }\n",
       "\n",
       "    .dataframe tbody tr th {\n",
       "        vertical-align: top;\n",
       "    }\n",
       "\n",
       "    .dataframe thead th {\n",
       "        text-align: right;\n",
       "    }\n",
       "</style>\n",
       "<table border=\"1\" class=\"dataframe\">\n",
       "  <thead>\n",
       "    <tr style=\"text-align: right;\">\n",
       "      <th></th>\n",
       "      <th>Country or Area_x</th>\n",
       "      <th>Year</th>\n",
       "      <th>Internet_Users_Pct</th>\n",
       "      <th>Country or Area_y</th>\n",
       "      <th>GDP</th>\n",
       "    </tr>\n",
       "  </thead>\n",
       "  <tbody>\n",
       "    <tr>\n",
       "      <th>0</th>\n",
       "      <td>Afghanistan</td>\n",
       "      <td>2014</td>\n",
       "      <td>6.390000</td>\n",
       "      <td>Afghanistan</td>\n",
       "      <td>2102.385234</td>\n",
       "    </tr>\n",
       "    <tr>\n",
       "      <th>1</th>\n",
       "      <td>Afghanistan</td>\n",
       "      <td>2014</td>\n",
       "      <td>6.390000</td>\n",
       "      <td>Albania</td>\n",
       "      <td>11623.866679</td>\n",
       "    </tr>\n",
       "    <tr>\n",
       "      <th>2</th>\n",
       "      <td>Afghanistan</td>\n",
       "      <td>2014</td>\n",
       "      <td>6.390000</td>\n",
       "      <td>Algeria</td>\n",
       "      <td>11512.705405</td>\n",
       "    </tr>\n",
       "    <tr>\n",
       "      <th>3</th>\n",
       "      <td>Afghanistan</td>\n",
       "      <td>2014</td>\n",
       "      <td>6.390000</td>\n",
       "      <td>Angola</td>\n",
       "      <td>8239.828837</td>\n",
       "    </tr>\n",
       "    <tr>\n",
       "      <th>4</th>\n",
       "      <td>Afghanistan</td>\n",
       "      <td>2014</td>\n",
       "      <td>6.390000</td>\n",
       "      <td>Antigua and Barbuda</td>\n",
       "      <td>18104.241470</td>\n",
       "    </tr>\n",
       "    <tr>\n",
       "      <th>...</th>\n",
       "      <td>...</td>\n",
       "      <td>...</td>\n",
       "      <td>...</td>\n",
       "      <td>...</td>\n",
       "      <td>...</td>\n",
       "    </tr>\n",
       "    <tr>\n",
       "      <th>1003631</th>\n",
       "      <td>United States</td>\n",
       "      <td>1991</td>\n",
       "      <td>1.163194</td>\n",
       "      <td>Vanuatu</td>\n",
       "      <td>2897.327707</td>\n",
       "    </tr>\n",
       "    <tr>\n",
       "      <th>1003632</th>\n",
       "      <td>United States</td>\n",
       "      <td>1991</td>\n",
       "      <td>1.163194</td>\n",
       "      <td>Vietnam</td>\n",
       "      <td>1736.014139</td>\n",
       "    </tr>\n",
       "    <tr>\n",
       "      <th>1003633</th>\n",
       "      <td>United States</td>\n",
       "      <td>1991</td>\n",
       "      <td>1.163194</td>\n",
       "      <td>World</td>\n",
       "      <td>9645.256163</td>\n",
       "    </tr>\n",
       "    <tr>\n",
       "      <th>1003634</th>\n",
       "      <td>United States</td>\n",
       "      <td>1991</td>\n",
       "      <td>1.163194</td>\n",
       "      <td>Zambia</td>\n",
       "      <td>2133.689042</td>\n",
       "    </tr>\n",
       "    <tr>\n",
       "      <th>1003635</th>\n",
       "      <td>United States</td>\n",
       "      <td>1991</td>\n",
       "      <td>1.163194</td>\n",
       "      <td>Zimbabwe</td>\n",
       "      <td>3426.598094</td>\n",
       "    </tr>\n",
       "  </tbody>\n",
       "</table>\n",
       "<p>1003636 rows × 5 columns</p>\n",
       "</div>"
      ],
      "text/plain": [
       "        Country or Area_x  Year  Internet_Users_Pct    Country or Area_y  \\\n",
       "0             Afghanistan  2014            6.390000          Afghanistan   \n",
       "1             Afghanistan  2014            6.390000              Albania   \n",
       "2             Afghanistan  2014            6.390000              Algeria   \n",
       "3             Afghanistan  2014            6.390000               Angola   \n",
       "4             Afghanistan  2014            6.390000  Antigua and Barbuda   \n",
       "...                   ...   ...                 ...                  ...   \n",
       "1003631     United States  1991            1.163194              Vanuatu   \n",
       "1003632     United States  1991            1.163194              Vietnam   \n",
       "1003633     United States  1991            1.163194                World   \n",
       "1003634     United States  1991            1.163194               Zambia   \n",
       "1003635     United States  1991            1.163194             Zimbabwe   \n",
       "\n",
       "                  GDP  \n",
       "0         2102.385234  \n",
       "1        11623.866679  \n",
       "2        11512.705405  \n",
       "3         8239.828837  \n",
       "4        18104.241470  \n",
       "...               ...  \n",
       "1003631   2897.327707  \n",
       "1003632   1736.014139  \n",
       "1003633   9645.256163  \n",
       "1003634   2133.689042  \n",
       "1003635   3426.598094  \n",
       "\n",
       "[1003636 rows x 5 columns]"
      ]
     },
     "execution_count": 24,
     "metadata": {},
     "output_type": "execute_result"
    }
   ],
   "source": [
    "filtered_df = df3[df3.Year.isin([2004])]\n",
    "df3.rename(columns={'Value_x' : 'Internet_Users_Pct', 'Value_y' : 'GDP'})"
   ]
  },
  {
   "cell_type": "code",
   "execution_count": 25,
   "id": "ae26e505",
   "metadata": {},
   "outputs": [
    {
     "data": {
      "text/html": [
       "<div>\n",
       "<style scoped>\n",
       "    .dataframe tbody tr th:only-of-type {\n",
       "        vertical-align: middle;\n",
       "    }\n",
       "\n",
       "    .dataframe tbody tr th {\n",
       "        vertical-align: top;\n",
       "    }\n",
       "\n",
       "    .dataframe thead th {\n",
       "        text-align: right;\n",
       "    }\n",
       "</style>\n",
       "<table border=\"1\" class=\"dataframe\">\n",
       "  <thead>\n",
       "    <tr style=\"text-align: right;\">\n",
       "      <th></th>\n",
       "      <th>Country or Area_x</th>\n",
       "      <th>Year</th>\n",
       "      <th>Internet_Users_Pct</th>\n",
       "      <th>Country or Area_y</th>\n",
       "      <th>GDP</th>\n",
       "    </tr>\n",
       "  </thead>\n",
       "  <tbody>\n",
       "    <tr>\n",
       "      <th>0</th>\n",
       "      <td>Afghanistan</td>\n",
       "      <td>2014</td>\n",
       "      <td>6.390000</td>\n",
       "      <td>Afghanistan</td>\n",
       "      <td>2102.385234</td>\n",
       "    </tr>\n",
       "    <tr>\n",
       "      <th>1</th>\n",
       "      <td>Afghanistan</td>\n",
       "      <td>2014</td>\n",
       "      <td>6.390000</td>\n",
       "      <td>Albania</td>\n",
       "      <td>11623.866679</td>\n",
       "    </tr>\n",
       "    <tr>\n",
       "      <th>2</th>\n",
       "      <td>Afghanistan</td>\n",
       "      <td>2014</td>\n",
       "      <td>6.390000</td>\n",
       "      <td>Algeria</td>\n",
       "      <td>11512.705405</td>\n",
       "    </tr>\n",
       "    <tr>\n",
       "      <th>3</th>\n",
       "      <td>Afghanistan</td>\n",
       "      <td>2014</td>\n",
       "      <td>6.390000</td>\n",
       "      <td>Angola</td>\n",
       "      <td>8239.828837</td>\n",
       "    </tr>\n",
       "    <tr>\n",
       "      <th>4</th>\n",
       "      <td>Afghanistan</td>\n",
       "      <td>2014</td>\n",
       "      <td>6.390000</td>\n",
       "      <td>Antigua and Barbuda</td>\n",
       "      <td>18104.241470</td>\n",
       "    </tr>\n",
       "    <tr>\n",
       "      <th>...</th>\n",
       "      <td>...</td>\n",
       "      <td>...</td>\n",
       "      <td>...</td>\n",
       "      <td>...</td>\n",
       "      <td>...</td>\n",
       "    </tr>\n",
       "    <tr>\n",
       "      <th>1003631</th>\n",
       "      <td>United States</td>\n",
       "      <td>1991</td>\n",
       "      <td>1.163194</td>\n",
       "      <td>Vanuatu</td>\n",
       "      <td>2897.327707</td>\n",
       "    </tr>\n",
       "    <tr>\n",
       "      <th>1003632</th>\n",
       "      <td>United States</td>\n",
       "      <td>1991</td>\n",
       "      <td>1.163194</td>\n",
       "      <td>Vietnam</td>\n",
       "      <td>1736.014139</td>\n",
       "    </tr>\n",
       "    <tr>\n",
       "      <th>1003633</th>\n",
       "      <td>United States</td>\n",
       "      <td>1991</td>\n",
       "      <td>1.163194</td>\n",
       "      <td>World</td>\n",
       "      <td>9645.256163</td>\n",
       "    </tr>\n",
       "    <tr>\n",
       "      <th>1003634</th>\n",
       "      <td>United States</td>\n",
       "      <td>1991</td>\n",
       "      <td>1.163194</td>\n",
       "      <td>Zambia</td>\n",
       "      <td>2133.689042</td>\n",
       "    </tr>\n",
       "    <tr>\n",
       "      <th>1003635</th>\n",
       "      <td>United States</td>\n",
       "      <td>1991</td>\n",
       "      <td>1.163194</td>\n",
       "      <td>Zimbabwe</td>\n",
       "      <td>3426.598094</td>\n",
       "    </tr>\n",
       "  </tbody>\n",
       "</table>\n",
       "<p>1003636 rows × 5 columns</p>\n",
       "</div>"
      ],
      "text/plain": [
       "        Country or Area_x  Year  Internet_Users_Pct    Country or Area_y  \\\n",
       "0             Afghanistan  2014            6.390000          Afghanistan   \n",
       "1             Afghanistan  2014            6.390000              Albania   \n",
       "2             Afghanistan  2014            6.390000              Algeria   \n",
       "3             Afghanistan  2014            6.390000               Angola   \n",
       "4             Afghanistan  2014            6.390000  Antigua and Barbuda   \n",
       "...                   ...   ...                 ...                  ...   \n",
       "1003631     United States  1991            1.163194              Vanuatu   \n",
       "1003632     United States  1991            1.163194              Vietnam   \n",
       "1003633     United States  1991            1.163194                World   \n",
       "1003634     United States  1991            1.163194               Zambia   \n",
       "1003635     United States  1991            1.163194             Zimbabwe   \n",
       "\n",
       "                  GDP  \n",
       "0         2102.385234  \n",
       "1        11623.866679  \n",
       "2        11512.705405  \n",
       "3         8239.828837  \n",
       "4        18104.241470  \n",
       "...               ...  \n",
       "1003631   2897.327707  \n",
       "1003632   1736.014139  \n",
       "1003633   9645.256163  \n",
       "1003634   2133.689042  \n",
       "1003635   3426.598094  \n",
       "\n",
       "[1003636 rows x 5 columns]"
      ]
     },
     "execution_count": 25,
     "metadata": {},
     "output_type": "execute_result"
    }
   ],
   "source": [
    "filtered_df2 = df3[df3.Year.isin([2009])]\n",
    "df3.rename(columns={'Value_x' : 'Internet_Users_Pct', 'Value_y' : 'GDP'})"
   ]
  },
  {
   "cell_type": "code",
   "execution_count": 26,
   "id": "12e35b09",
   "metadata": {},
   "outputs": [
    {
     "data": {
      "text/html": [
       "<div>\n",
       "<style scoped>\n",
       "    .dataframe tbody tr th:only-of-type {\n",
       "        vertical-align: middle;\n",
       "    }\n",
       "\n",
       "    .dataframe tbody tr th {\n",
       "        vertical-align: top;\n",
       "    }\n",
       "\n",
       "    .dataframe thead th {\n",
       "        text-align: right;\n",
       "    }\n",
       "</style>\n",
       "<table border=\"1\" class=\"dataframe\">\n",
       "  <thead>\n",
       "    <tr style=\"text-align: right;\">\n",
       "      <th></th>\n",
       "      <th>Country or Area_x</th>\n",
       "      <th>Year</th>\n",
       "      <th>Internet_Users_Pct</th>\n",
       "      <th>Country or Area_y</th>\n",
       "      <th>GDP</th>\n",
       "    </tr>\n",
       "  </thead>\n",
       "  <tbody>\n",
       "    <tr>\n",
       "      <th>0</th>\n",
       "      <td>Afghanistan</td>\n",
       "      <td>2014</td>\n",
       "      <td>6.390000</td>\n",
       "      <td>Afghanistan</td>\n",
       "      <td>2102.385234</td>\n",
       "    </tr>\n",
       "    <tr>\n",
       "      <th>1</th>\n",
       "      <td>Afghanistan</td>\n",
       "      <td>2014</td>\n",
       "      <td>6.390000</td>\n",
       "      <td>Albania</td>\n",
       "      <td>11623.866679</td>\n",
       "    </tr>\n",
       "    <tr>\n",
       "      <th>2</th>\n",
       "      <td>Afghanistan</td>\n",
       "      <td>2014</td>\n",
       "      <td>6.390000</td>\n",
       "      <td>Algeria</td>\n",
       "      <td>11512.705405</td>\n",
       "    </tr>\n",
       "    <tr>\n",
       "      <th>3</th>\n",
       "      <td>Afghanistan</td>\n",
       "      <td>2014</td>\n",
       "      <td>6.390000</td>\n",
       "      <td>Angola</td>\n",
       "      <td>8239.828837</td>\n",
       "    </tr>\n",
       "    <tr>\n",
       "      <th>4</th>\n",
       "      <td>Afghanistan</td>\n",
       "      <td>2014</td>\n",
       "      <td>6.390000</td>\n",
       "      <td>Antigua and Barbuda</td>\n",
       "      <td>18104.241470</td>\n",
       "    </tr>\n",
       "    <tr>\n",
       "      <th>...</th>\n",
       "      <td>...</td>\n",
       "      <td>...</td>\n",
       "      <td>...</td>\n",
       "      <td>...</td>\n",
       "      <td>...</td>\n",
       "    </tr>\n",
       "    <tr>\n",
       "      <th>1003631</th>\n",
       "      <td>United States</td>\n",
       "      <td>1991</td>\n",
       "      <td>1.163194</td>\n",
       "      <td>Vanuatu</td>\n",
       "      <td>2897.327707</td>\n",
       "    </tr>\n",
       "    <tr>\n",
       "      <th>1003632</th>\n",
       "      <td>United States</td>\n",
       "      <td>1991</td>\n",
       "      <td>1.163194</td>\n",
       "      <td>Vietnam</td>\n",
       "      <td>1736.014139</td>\n",
       "    </tr>\n",
       "    <tr>\n",
       "      <th>1003633</th>\n",
       "      <td>United States</td>\n",
       "      <td>1991</td>\n",
       "      <td>1.163194</td>\n",
       "      <td>World</td>\n",
       "      <td>9645.256163</td>\n",
       "    </tr>\n",
       "    <tr>\n",
       "      <th>1003634</th>\n",
       "      <td>United States</td>\n",
       "      <td>1991</td>\n",
       "      <td>1.163194</td>\n",
       "      <td>Zambia</td>\n",
       "      <td>2133.689042</td>\n",
       "    </tr>\n",
       "    <tr>\n",
       "      <th>1003635</th>\n",
       "      <td>United States</td>\n",
       "      <td>1991</td>\n",
       "      <td>1.163194</td>\n",
       "      <td>Zimbabwe</td>\n",
       "      <td>3426.598094</td>\n",
       "    </tr>\n",
       "  </tbody>\n",
       "</table>\n",
       "<p>1003636 rows × 5 columns</p>\n",
       "</div>"
      ],
      "text/plain": [
       "        Country or Area_x  Year  Internet_Users_Pct    Country or Area_y  \\\n",
       "0             Afghanistan  2014            6.390000          Afghanistan   \n",
       "1             Afghanistan  2014            6.390000              Albania   \n",
       "2             Afghanistan  2014            6.390000              Algeria   \n",
       "3             Afghanistan  2014            6.390000               Angola   \n",
       "4             Afghanistan  2014            6.390000  Antigua and Barbuda   \n",
       "...                   ...   ...                 ...                  ...   \n",
       "1003631     United States  1991            1.163194              Vanuatu   \n",
       "1003632     United States  1991            1.163194              Vietnam   \n",
       "1003633     United States  1991            1.163194                World   \n",
       "1003634     United States  1991            1.163194               Zambia   \n",
       "1003635     United States  1991            1.163194             Zimbabwe   \n",
       "\n",
       "                  GDP  \n",
       "0         2102.385234  \n",
       "1        11623.866679  \n",
       "2        11512.705405  \n",
       "3         8239.828837  \n",
       "4        18104.241470  \n",
       "...               ...  \n",
       "1003631   2897.327707  \n",
       "1003632   1736.014139  \n",
       "1003633   9645.256163  \n",
       "1003634   2133.689042  \n",
       "1003635   3426.598094  \n",
       "\n",
       "[1003636 rows x 5 columns]"
      ]
     },
     "execution_count": 26,
     "metadata": {},
     "output_type": "execute_result"
    }
   ],
   "source": [
    "filtered_df4 = df3[df3.Year.isin([2014])]\n",
    "df3.rename(columns={'Value_x' : 'Internet_Users_Pct', 'Value_y' : 'GDP'})"
   ]
  },
  {
   "cell_type": "markdown",
   "id": "e25d2cd3",
   "metadata": {},
   "source": [
    "18"
   ]
  },
  {
   "cell_type": "code",
   "execution_count": 27,
   "id": "3e401db0",
   "metadata": {},
   "outputs": [
    {
     "data": {
      "text/html": [
       "<div>\n",
       "<style scoped>\n",
       "    .dataframe tbody tr th:only-of-type {\n",
       "        vertical-align: middle;\n",
       "    }\n",
       "\n",
       "    .dataframe tbody tr th {\n",
       "        vertical-align: top;\n",
       "    }\n",
       "\n",
       "    .dataframe thead th {\n",
       "        text-align: right;\n",
       "    }\n",
       "</style>\n",
       "<table border=\"1\" class=\"dataframe\">\n",
       "  <thead>\n",
       "    <tr style=\"text-align: right;\">\n",
       "      <th></th>\n",
       "      <th>Country or Area_x</th>\n",
       "      <th>Year</th>\n",
       "      <th>Value_x</th>\n",
       "      <th>Country or Area_y</th>\n",
       "      <th>Value_y</th>\n",
       "    </tr>\n",
       "  </thead>\n",
       "  <tbody>\n",
       "    <tr>\n",
       "      <th>19754</th>\n",
       "      <td>Iceland</td>\n",
       "      <td>2014</td>\n",
       "      <td>98.16</td>\n",
       "      <td>Afghanistan</td>\n",
       "      <td>2102.385234</td>\n",
       "    </tr>\n",
       "    <tr>\n",
       "      <th>19755</th>\n",
       "      <td>Iceland</td>\n",
       "      <td>2014</td>\n",
       "      <td>98.16</td>\n",
       "      <td>Albania</td>\n",
       "      <td>11623.866679</td>\n",
       "    </tr>\n",
       "    <tr>\n",
       "      <th>19756</th>\n",
       "      <td>Iceland</td>\n",
       "      <td>2014</td>\n",
       "      <td>98.16</td>\n",
       "      <td>Algeria</td>\n",
       "      <td>11512.705405</td>\n",
       "    </tr>\n",
       "  </tbody>\n",
       "</table>\n",
       "</div>"
      ],
      "text/plain": [
       "      Country or Area_x  Year  Value_x Country or Area_y       Value_y\n",
       "19754           Iceland  2014    98.16       Afghanistan   2102.385234\n",
       "19755           Iceland  2014    98.16           Albania  11623.866679\n",
       "19756           Iceland  2014    98.16           Algeria  11512.705405"
      ]
     },
     "execution_count": 27,
     "metadata": {},
     "output_type": "execute_result"
    }
   ],
   "source": [
    "df3.nlargest(3, 'Value_x')"
   ]
  },
  {
   "cell_type": "markdown",
   "id": "3366e1c0",
   "metadata": {},
   "source": [
    "19"
   ]
  },
  {
   "cell_type": "code",
   "execution_count": 28,
   "id": "33e5514c",
   "metadata": {},
   "outputs": [
    {
     "data": {
      "text/html": [
       "<div>\n",
       "<style scoped>\n",
       "    .dataframe tbody tr th:only-of-type {\n",
       "        vertical-align: middle;\n",
       "    }\n",
       "\n",
       "    .dataframe tbody tr th {\n",
       "        vertical-align: top;\n",
       "    }\n",
       "\n",
       "    .dataframe thead th {\n",
       "        text-align: right;\n",
       "    }\n",
       "</style>\n",
       "<table border=\"1\" class=\"dataframe\">\n",
       "  <thead>\n",
       "    <tr style=\"text-align: right;\">\n",
       "      <th></th>\n",
       "      <th>Country or Area_x</th>\n",
       "      <th>Year</th>\n",
       "      <th>Value_x</th>\n",
       "      <th>Country or Area_y</th>\n",
       "      <th>Value_y</th>\n",
       "    </tr>\n",
       "  </thead>\n",
       "  <tbody>\n",
       "    <tr>\n",
       "      <th>11662</th>\n",
       "      <td>Dem. People's Rep. of Korea</td>\n",
       "      <td>2014</td>\n",
       "      <td>0.0</td>\n",
       "      <td>Afghanistan</td>\n",
       "      <td>2102.385234</td>\n",
       "    </tr>\n",
       "    <tr>\n",
       "      <th>11663</th>\n",
       "      <td>Dem. People's Rep. of Korea</td>\n",
       "      <td>2014</td>\n",
       "      <td>0.0</td>\n",
       "      <td>Albania</td>\n",
       "      <td>11623.866679</td>\n",
       "    </tr>\n",
       "    <tr>\n",
       "      <th>11664</th>\n",
       "      <td>Dem. People's Rep. of Korea</td>\n",
       "      <td>2014</td>\n",
       "      <td>0.0</td>\n",
       "      <td>Algeria</td>\n",
       "      <td>11512.705405</td>\n",
       "    </tr>\n",
       "  </tbody>\n",
       "</table>\n",
       "</div>"
      ],
      "text/plain": [
       "                 Country or Area_x  Year  Value_x Country or Area_y  \\\n",
       "11662  Dem. People's Rep. of Korea  2014      0.0       Afghanistan   \n",
       "11663  Dem. People's Rep. of Korea  2014      0.0           Albania   \n",
       "11664  Dem. People's Rep. of Korea  2014      0.0           Algeria   \n",
       "\n",
       "            Value_y  \n",
       "11662   2102.385234  \n",
       "11663  11623.866679  \n",
       "11664  11512.705405  "
      ]
     },
     "execution_count": 28,
     "metadata": {},
     "output_type": "execute_result"
    }
   ],
   "source": [
    "df3.loc[(df3['Year']== 2014)].nsmallest(3,'Value_x')"
   ]
  },
  {
   "cell_type": "markdown",
   "id": "b3cf2021",
   "metadata": {},
   "source": [
    "20"
   ]
  },
  {
   "cell_type": "code",
   "execution_count": 29,
   "id": "eb04d60c",
   "metadata": {},
   "outputs": [
    {
     "data": {
      "text/html": [
       "<div>\n",
       "<style scoped>\n",
       "    .dataframe tbody tr th:only-of-type {\n",
       "        vertical-align: middle;\n",
       "    }\n",
       "\n",
       "    .dataframe tbody tr th {\n",
       "        vertical-align: top;\n",
       "    }\n",
       "\n",
       "    .dataframe thead th {\n",
       "        text-align: right;\n",
       "    }\n",
       "</style>\n",
       "<table border=\"1\" class=\"dataframe\">\n",
       "  <thead>\n",
       "    <tr style=\"text-align: right;\">\n",
       "      <th></th>\n",
       "      <th>Country or Area_x</th>\n",
       "      <th>Year</th>\n",
       "      <th>Value_x</th>\n",
       "      <th>Country or Area_y</th>\n",
       "      <th>Value_y</th>\n",
       "    </tr>\n",
       "  </thead>\n",
       "  <tbody>\n",
       "    <tr>\n",
       "      <th>490052</th>\n",
       "      <td>Dem. People's Rep. of Korea</td>\n",
       "      <td>2004</td>\n",
       "      <td>0.0</td>\n",
       "      <td>Afghanistan</td>\n",
       "      <td>1200.278256</td>\n",
       "    </tr>\n",
       "    <tr>\n",
       "      <th>490053</th>\n",
       "      <td>Dem. People's Rep. of Korea</td>\n",
       "      <td>2004</td>\n",
       "      <td>0.0</td>\n",
       "      <td>Albania</td>\n",
       "      <td>7604.838002</td>\n",
       "    </tr>\n",
       "    <tr>\n",
       "      <th>490054</th>\n",
       "      <td>Dem. People's Rep. of Korea</td>\n",
       "      <td>2004</td>\n",
       "      <td>0.0</td>\n",
       "      <td>Algeria</td>\n",
       "      <td>10058.435939</td>\n",
       "    </tr>\n",
       "  </tbody>\n",
       "</table>\n",
       "</div>"
      ],
      "text/plain": [
       "                  Country or Area_x  Year  Value_x Country or Area_y  \\\n",
       "490052  Dem. People's Rep. of Korea  2004      0.0       Afghanistan   \n",
       "490053  Dem. People's Rep. of Korea  2004      0.0           Albania   \n",
       "490054  Dem. People's Rep. of Korea  2004      0.0           Algeria   \n",
       "\n",
       "             Value_y  \n",
       "490052   1200.278256  \n",
       "490053   7604.838002  \n",
       "490054  10058.435939  "
      ]
     },
     "execution_count": 29,
     "metadata": {},
     "output_type": "execute_result"
    }
   ],
   "source": [
    "df3.loc[(df3['Year']== 2004)].nsmallest(3,'Value_x')"
   ]
  },
  {
   "cell_type": "code",
   "execution_count": 30,
   "id": "8a924986",
   "metadata": {},
   "outputs": [
    {
     "data": {
      "text/html": [
       "<div>\n",
       "<style scoped>\n",
       "    .dataframe tbody tr th:only-of-type {\n",
       "        vertical-align: middle;\n",
       "    }\n",
       "\n",
       "    .dataframe tbody tr th {\n",
       "        vertical-align: top;\n",
       "    }\n",
       "\n",
       "    .dataframe thead th {\n",
       "        text-align: right;\n",
       "    }\n",
       "</style>\n",
       "<table border=\"1\" class=\"dataframe\">\n",
       "  <thead>\n",
       "    <tr style=\"text-align: right;\">\n",
       "      <th></th>\n",
       "      <th>Country or Area_x</th>\n",
       "      <th>Year</th>\n",
       "      <th>Value_x</th>\n",
       "      <th>Country or Area_y</th>\n",
       "      <th>Value_y</th>\n",
       "    </tr>\n",
       "  </thead>\n",
       "  <tbody>\n",
       "    <tr>\n",
       "      <th>252794</th>\n",
       "      <td>Dem. People's Rep. of Korea</td>\n",
       "      <td>2009</td>\n",
       "      <td>0.0</td>\n",
       "      <td>Afghanistan</td>\n",
       "      <td>1758.904043</td>\n",
       "    </tr>\n",
       "    <tr>\n",
       "      <th>252795</th>\n",
       "      <td>Dem. People's Rep. of Korea</td>\n",
       "      <td>2009</td>\n",
       "      <td>0.0</td>\n",
       "      <td>Albania</td>\n",
       "      <td>10346.864199</td>\n",
       "    </tr>\n",
       "    <tr>\n",
       "      <th>252796</th>\n",
       "      <td>Dem. People's Rep. of Korea</td>\n",
       "      <td>2009</td>\n",
       "      <td>0.0</td>\n",
       "      <td>Algeria</td>\n",
       "      <td>10782.361398</td>\n",
       "    </tr>\n",
       "  </tbody>\n",
       "</table>\n",
       "</div>"
      ],
      "text/plain": [
       "                  Country or Area_x  Year  Value_x Country or Area_y  \\\n",
       "252794  Dem. People's Rep. of Korea  2009      0.0       Afghanistan   \n",
       "252795  Dem. People's Rep. of Korea  2009      0.0           Albania   \n",
       "252796  Dem. People's Rep. of Korea  2009      0.0           Algeria   \n",
       "\n",
       "             Value_y  \n",
       "252794   1758.904043  \n",
       "252795  10346.864199  \n",
       "252796  10782.361398  "
      ]
     },
     "execution_count": 30,
     "metadata": {},
     "output_type": "execute_result"
    }
   ],
   "source": [
    "df3.loc[(df3['Year']== 2009)].nsmallest(3,'Value_x')"
   ]
  },
  {
   "cell_type": "markdown",
   "id": "8ac80300",
   "metadata": {},
   "source": [
    "21"
   ]
  },
  {
   "cell_type": "code",
   "execution_count": 31,
   "id": "f6717ed6",
   "metadata": {},
   "outputs": [
    {
     "data": {
      "text/html": [
       "<div>\n",
       "<style scoped>\n",
       "    .dataframe tbody tr th:only-of-type {\n",
       "        vertical-align: middle;\n",
       "    }\n",
       "\n",
       "    .dataframe tbody tr th {\n",
       "        vertical-align: top;\n",
       "    }\n",
       "\n",
       "    .dataframe thead th {\n",
       "        text-align: right;\n",
       "    }\n",
       "</style>\n",
       "<table border=\"1\" class=\"dataframe\">\n",
       "  <thead>\n",
       "    <tr style=\"text-align: right;\">\n",
       "      <th></th>\n",
       "      <th>Country or Area_x</th>\n",
       "      <th>Year</th>\n",
       "      <th>Value_x</th>\n",
       "      <th>Country or Area_y</th>\n",
       "      <th>Value_y</th>\n",
       "    </tr>\n",
       "  </thead>\n",
       "  <tbody>\n",
       "    <tr>\n",
       "      <th>128</th>\n",
       "      <td>Afghanistan</td>\n",
       "      <td>2014</td>\n",
       "      <td>6.39</td>\n",
       "      <td>Macao SAR, China</td>\n",
       "      <td>156514.13385</td>\n",
       "    </tr>\n",
       "    <tr>\n",
       "      <th>366</th>\n",
       "      <td>Albania</td>\n",
       "      <td>2014</td>\n",
       "      <td>60.10</td>\n",
       "      <td>Macao SAR, China</td>\n",
       "      <td>156514.13385</td>\n",
       "    </tr>\n",
       "    <tr>\n",
       "      <th>604</th>\n",
       "      <td>Algeria</td>\n",
       "      <td>2014</td>\n",
       "      <td>18.09</td>\n",
       "      <td>Macao SAR, China</td>\n",
       "      <td>156514.13385</td>\n",
       "    </tr>\n",
       "  </tbody>\n",
       "</table>\n",
       "</div>"
      ],
      "text/plain": [
       "    Country or Area_x  Year  Value_x Country or Area_y       Value_y\n",
       "128       Afghanistan  2014     6.39  Macao SAR, China  156514.13385\n",
       "366           Albania  2014    60.10  Macao SAR, China  156514.13385\n",
       "604           Algeria  2014    18.09  Macao SAR, China  156514.13385"
      ]
     },
     "execution_count": 31,
     "metadata": {},
     "output_type": "execute_result"
    }
   ],
   "source": [
    "df3.loc[(df3['Year']== 2014)].nlargest(3,'Value_y')"
   ]
  },
  {
   "cell_type": "markdown",
   "id": "c3ed896b",
   "metadata": {},
   "source": [
    "22"
   ]
  },
  {
   "cell_type": "code",
   "execution_count": 32,
   "id": "0a0bd49e",
   "metadata": {},
   "outputs": [
    {
     "data": {
      "text/html": [
       "<div>\n",
       "<style scoped>\n",
       "    .dataframe tbody tr th:only-of-type {\n",
       "        vertical-align: middle;\n",
       "    }\n",
       "\n",
       "    .dataframe tbody tr th {\n",
       "        vertical-align: top;\n",
       "    }\n",
       "\n",
       "    .dataframe thead th {\n",
       "        text-align: right;\n",
       "    }\n",
       "</style>\n",
       "<table border=\"1\" class=\"dataframe\">\n",
       "  <thead>\n",
       "    <tr style=\"text-align: right;\">\n",
       "      <th></th>\n",
       "      <th>Country or Area_x</th>\n",
       "      <th>Year</th>\n",
       "      <th>Value_x</th>\n",
       "      <th>Country or Area_y</th>\n",
       "      <th>Value_y</th>\n",
       "    </tr>\n",
       "  </thead>\n",
       "  <tbody>\n",
       "    <tr>\n",
       "      <th>241258</th>\n",
       "      <td>Afghanistan</td>\n",
       "      <td>2009</td>\n",
       "      <td>3.55</td>\n",
       "      <td>Burundi</td>\n",
       "      <td>831.564131</td>\n",
       "    </tr>\n",
       "    <tr>\n",
       "      <th>241494</th>\n",
       "      <td>Albania</td>\n",
       "      <td>2009</td>\n",
       "      <td>41.20</td>\n",
       "      <td>Burundi</td>\n",
       "      <td>831.564131</td>\n",
       "    </tr>\n",
       "    <tr>\n",
       "      <th>241730</th>\n",
       "      <td>Algeria</td>\n",
       "      <td>2009</td>\n",
       "      <td>11.23</td>\n",
       "      <td>Burundi</td>\n",
       "      <td>831.564131</td>\n",
       "    </tr>\n",
       "  </tbody>\n",
       "</table>\n",
       "</div>"
      ],
      "text/plain": [
       "       Country or Area_x  Year  Value_x Country or Area_y     Value_y\n",
       "241258       Afghanistan  2009     3.55           Burundi  831.564131\n",
       "241494           Albania  2009    41.20           Burundi  831.564131\n",
       "241730           Algeria  2009    11.23           Burundi  831.564131"
      ]
     },
     "execution_count": 32,
     "metadata": {},
     "output_type": "execute_result"
    }
   ],
   "source": [
    "df3.loc[(df3['Year']== 2009)].nsmallest(3,'Value_y')"
   ]
  },
  {
   "cell_type": "code",
   "execution_count": 33,
   "id": "ce3830c9",
   "metadata": {},
   "outputs": [
    {
     "data": {
      "text/plain": [
       "<AxesSubplot:xlabel='Value_x', ylabel='Value_y'>"
      ]
     },
     "execution_count": 33,
     "metadata": {},
     "output_type": "execute_result"
    },
    {
     "data": {
      "image/png": "[encoded data removed]",
      "text/plain": [
       "<Figure size 432x288 with 1 Axes>"
      ]
     },
     "metadata": {
      "needs_background": "light"
     },
     "output_type": "display_data"
    }
   ],
   "source": [
    "filtered_df.plot.scatter( x = 'Value_x', y = 'Value_y')"
   ]
  },
  {
   "cell_type": "code",
   "execution_count": 34,
   "id": "94a49473",
   "metadata": {},
   "outputs": [
    {
     "data": {
      "text/plain": [
       "<AxesSubplot:xlabel='Value_x', ylabel='Value_y'>"
      ]
     },
     "execution_count": 34,
     "metadata": {},
     "output_type": "execute_result"
    },
    {
     "data": {
      "image/png": "[encoded data removed]",
      "text/plain": [
       "<Figure size 432x288 with 1 Axes>"
      ]
     },
     "metadata": {
      "needs_background": "light"
     },
     "output_type": "display_data"
    }
   ],
   "source": [
    "filtered_df2.plot.scatter( x = 'Value_x', y = 'Value_y')"
   ]
  },
  {
   "cell_type": "code",
   "execution_count": 35,
   "id": "c5f8d52e",
   "metadata": {},
   "outputs": [
    {
     "data": {
      "text/plain": [
       "<AxesSubplot:xlabel='Value_x', ylabel='Value_y'>"
      ]
     },
     "execution_count": 35,
     "metadata": {},
     "output_type": "execute_result"
    },
    {
     "data": {
      "image/png": "[encoded data removed]",
      "text/plain": [
       "<Figure size 432x288 with 1 Axes>"
      ]
     },
     "metadata": {
      "needs_background": "light"
     },
     "output_type": "display_data"
    }
   ],
   "source": [
    "filtered_df3.plot.scatter( x = 'Value_x', y = 'Value_y')"
   ]
  },
  {
   "cell_type": "markdown",
   "id": "453f0901",
   "metadata": {},
   "source": [
    "#working on it"
   ]
  },
  {
   "cell_type": "markdown",
   "id": "17cb2619",
   "metadata": {},
   "source": [
    "24"
   ]
  },
  {
   "cell_type": "markdown",
   "id": "0155efbd",
   "metadata": {},
   "source": [
    "2014 has more separation"
   ]
  },
  {
   "cell_type": "markdown",
   "id": "cb28b42c",
   "metadata": {},
   "source": [
    "25"
   ]
  },
  {
   "cell_type": "code",
   "execution_count": 36,
   "id": "2e8db17e",
   "metadata": {},
   "outputs": [
    {
     "data": {
      "text/plain": [
       "array([[<AxesSubplot:title={'center':'2004'}>,\n",
       "        <AxesSubplot:title={'center':'2009'}>],\n",
       "       [<AxesSubplot:title={'center':'2014'}>, <AxesSubplot:>]],\n",
       "      dtype=object)"
      ]
     },
     "execution_count": 36,
     "metadata": {},
     "output_type": "execute_result"
    },
    {
     "data": {
      "image/png": "[encoded data removed]",
      "text/plain": [
       "<Figure size 432x288 with 4 Axes>"
      ]
     },
     "metadata": {
      "needs_background": "light"
     },
     "output_type": "display_data"
    }
   ],
   "source": [
    "filtered_df3.hist(column= 'Value_y', by= 'Year')"
   ]
  },
  {
   "cell_type": "code",
   "execution_count": 37,
   "id": "50e95b4f",
   "metadata": {},
   "outputs": [
    {
     "data": {
      "text/plain": [
       "26"
      ]
     },
     "execution_count": 37,
     "metadata": {},
     "output_type": "execute_result"
    }
   ],
   "source": [
    "26"
   ]
  },
  {
   "cell_type": "code",
   "execution_count": 38,
   "id": "4f609099",
   "metadata": {},
   "outputs": [
    {
     "data": {
      "text/plain": [
       "array([[<AxesSubplot:title={'center':'2004'}>,\n",
       "        <AxesSubplot:title={'center':'2009'}>],\n",
       "       [<AxesSubplot:title={'center':'2014'}>, <AxesSubplot:>]],\n",
       "      dtype=object)"
      ]
     },
     "execution_count": 38,
     "metadata": {},
     "output_type": "execute_result"
    },
    {
     "data": {
      "image/png": "[encoded data removed]",
      "text/plain": [
       "<Figure size 432x288 with 4 Axes>"
      ]
     },
     "metadata": {
      "needs_background": "light"
     },
     "output_type": "display_data"
    }
   ],
   "source": [
    "filtered_df3.hist(column= 'Value_x', by= 'Year')"
   ]
  },
  {
   "cell_type": "markdown",
   "id": "5465cc34",
   "metadata": {},
   "source": [
    "27"
   ]
  },
  {
   "cell_type": "code",
   "execution_count": 43,
   "id": "fce58662",
   "metadata": {
    "scrolled": true
   },
   "outputs": [
    {
     "data": {
      "text/html": [
       "<div>\n",
       "<style scoped>\n",
       "    .dataframe tbody tr th:only-of-type {\n",
       "        vertical-align: middle;\n",
       "    }\n",
       "\n",
       "    .dataframe tbody tr th {\n",
       "        vertical-align: top;\n",
       "    }\n",
       "\n",
       "    .dataframe thead th {\n",
       "        text-align: right;\n",
       "    }\n",
       "</style>\n",
       "<table border=\"1\" class=\"dataframe\">\n",
       "  <thead>\n",
       "    <tr style=\"text-align: right;\">\n",
       "      <th></th>\n",
       "      <th>Country or Area_x</th>\n",
       "      <th>Year</th>\n",
       "      <th>Value_x</th>\n",
       "      <th>Country or Area_y</th>\n",
       "      <th>Value_y</th>\n",
       "    </tr>\n",
       "  </thead>\n",
       "  <tbody>\n",
       "    <tr>\n",
       "      <th>717</th>\n",
       "      <td>Andorra</td>\n",
       "      <td>2014</td>\n",
       "      <td>95.90</td>\n",
       "      <td>Angola</td>\n",
       "      <td>8239.828837</td>\n",
       "    </tr>\n",
       "    <tr>\n",
       "      <th>11900</th>\n",
       "      <td>Denmark</td>\n",
       "      <td>2014</td>\n",
       "      <td>95.99</td>\n",
       "      <td>Afghanistan</td>\n",
       "      <td>2102.385234</td>\n",
       "    </tr>\n",
       "    <tr>\n",
       "      <th>32485</th>\n",
       "      <td>Norway</td>\n",
       "      <td>2014</td>\n",
       "      <td>96.30</td>\n",
       "      <td>Latvia</td>\n",
       "      <td>25468.057690</td>\n",
       "    </tr>\n",
       "    <tr>\n",
       "      <th>4762</th>\n",
       "      <td>Bermuda</td>\n",
       "      <td>2014</td>\n",
       "      <td>96.80</td>\n",
       "      <td>Algeria</td>\n",
       "      <td>11512.705405</td>\n",
       "    </tr>\n",
       "    <tr>\n",
       "      <th>19873</th>\n",
       "      <td>Iceland</td>\n",
       "      <td>2014</td>\n",
       "      <td>98.16</td>\n",
       "      <td>Lebanon</td>\n",
       "      <td>16966.739879</td>\n",
       "    </tr>\n",
       "  </tbody>\n",
       "</table>\n",
       "</div>"
      ],
      "text/plain": [
       "      Country or Area_x  Year  Value_x Country or Area_y       Value_y\n",
       "717             Andorra  2014    95.90            Angola   8239.828837\n",
       "11900           Denmark  2014    95.99       Afghanistan   2102.385234\n",
       "32485            Norway  2014    96.30            Latvia  25468.057690\n",
       "4762            Bermuda  2014    96.80           Algeria  11512.705405\n",
       "19873           Iceland  2014    98.16           Lebanon  16966.739879"
      ]
     },
     "execution_count": 43,
     "metadata": {},
     "output_type": "execute_result"
    }
   ],
   "source": [
    "filtered_df3.sort_values('Value_x', ascending=False).drop_duplicates('Country or Area_x').head(5).sort_values('Value_x')"
   ]
  },
  {
   "cell_type": "markdown",
   "id": "7c77fc67",
   "metadata": {},
   "source": [
    "28"
   ]
  },
  {
   "cell_type": "code",
   "execution_count": 76,
   "id": "c5c95770",
   "metadata": {},
   "outputs": [
    {
     "name": "stdout",
     "output_type": "stream",
     "text": [
      "       Country or Area_x  Year  Value_x    Country or Area_y       Value_y\n",
      "19754            Iceland  2014    98.16          Afghanistan   2102.385234\n",
      "19755            Iceland  2014    98.16              Albania  11623.866679\n",
      "19756            Iceland  2014    98.16              Algeria  11512.705405\n",
      "19757            Iceland  2014    98.16               Angola   8239.828837\n",
      "19758            Iceland  2014    98.16  Antigua and Barbuda  18104.241470\n",
      "261290           Iceland  2009    93.00          Afghanistan   1758.904043\n",
      "261291           Iceland  2009    93.00              Albania  10346.864199\n",
      "261292           Iceland  2009    93.00              Algeria  10782.361398\n",
      "261293           Iceland  2009    93.00               Angola   7643.493749\n",
      "261294           Iceland  2009    93.00  Antigua and Barbuda  20046.839017\n",
      "519770            Sweden  2004    83.89          Afghanistan   1200.278256\n",
      "519771            Sweden  2004    83.89              Albania   7604.838002\n",
      "519772            Sweden  2004    83.89              Algeria  10058.435939\n",
      "519773            Sweden  2004    83.89               Angola   5593.241537\n",
      "519774            Sweden  2004    83.89  Antigua and Barbuda  18745.681534\n"
     ]
    }
   ],
   "source": [
    "top_5_internet = filtered_df3.sort_values(['Value_x', 'Year'], ascending=False).groupby('Year').head(5)\n",
    "print(top_5_internet)"
   ]
  },
  {
   "cell_type": "markdown",
   "id": "20a56ff7",
   "metadata": {},
   "source": [
    "29"
   ]
  },
  {
   "cell_type": "code",
   "execution_count": 66,
   "id": "b87a8146",
   "metadata": {},
   "outputs": [
    {
     "data": {
      "text/plain": [
       "<function matplotlib.pyplot.show(close=None, block=None)>"
      ]
     },
     "execution_count": 66,
     "metadata": {},
     "output_type": "execute_result"
    },
    {
     "data": {
      "image/png": "[encoded data removed]",
      "text/plain": [
       "<Figure size 216x216 with 1 Axes>"
      ]
     },
     "metadata": {
      "needs_background": "light"
     },
     "output_type": "display_data"
    }
   ],
   "source": [
    "graph = sns.FacetGrid(top_5_internet)\n",
    "graph.map(plt.scatter, 'Year', 'Value_x')\n",
    "plt.show"
   ]
  },
  {
   "cell_type": "markdown",
   "id": "d1af9152",
   "metadata": {},
   "source": [
    "30a"
   ]
  },
  {
   "cell_type": "code",
   "execution_count": 67,
   "id": "55c97734",
   "metadata": {},
   "outputs": [
    {
     "data": {
      "text/html": [
       "<div>\n",
       "<style scoped>\n",
       "    .dataframe tbody tr th:only-of-type {\n",
       "        vertical-align: middle;\n",
       "    }\n",
       "\n",
       "    .dataframe tbody tr th {\n",
       "        vertical-align: top;\n",
       "    }\n",
       "\n",
       "    .dataframe thead th {\n",
       "        text-align: right;\n",
       "    }\n",
       "</style>\n",
       "<table border=\"1\" class=\"dataframe\">\n",
       "  <thead>\n",
       "    <tr style=\"text-align: right;\">\n",
       "      <th></th>\n",
       "      <th>Country or Area_x</th>\n",
       "      <th>Year</th>\n",
       "      <th>Value_x</th>\n",
       "      <th>Country or Area_y</th>\n",
       "      <th>Value_y</th>\n",
       "    </tr>\n",
       "  </thead>\n",
       "  <tbody>\n",
       "    <tr>\n",
       "      <th>11882</th>\n",
       "      <td>Dem. People's Rep. of Korea</td>\n",
       "      <td>2014</td>\n",
       "      <td>0.00</td>\n",
       "      <td>Turkey</td>\n",
       "      <td>24960.320597</td>\n",
       "    </tr>\n",
       "    <tr>\n",
       "      <th>13806</th>\n",
       "      <td>Eritrea</td>\n",
       "      <td>2014</td>\n",
       "      <td>0.99</td>\n",
       "      <td>Algeria</td>\n",
       "      <td>11512.705405</td>\n",
       "    </tr>\n",
       "    <tr>\n",
       "      <th>43123</th>\n",
       "      <td>Timor-Leste</td>\n",
       "      <td>2014</td>\n",
       "      <td>1.14</td>\n",
       "      <td>Croatia</td>\n",
       "      <td>23858.410399</td>\n",
       "    </tr>\n",
       "    <tr>\n",
       "      <th>7129</th>\n",
       "      <td>Burundi</td>\n",
       "      <td>2014</td>\n",
       "      <td>1.38</td>\n",
       "      <td>United Kingdom</td>\n",
       "      <td>44209.510472</td>\n",
       "    </tr>\n",
       "    <tr>\n",
       "      <th>39421</th>\n",
       "      <td>Somalia</td>\n",
       "      <td>2014</td>\n",
       "      <td>1.63</td>\n",
       "      <td>Nauru</td>\n",
       "      <td>11446.261037</td>\n",
       "    </tr>\n",
       "  </tbody>\n",
       "</table>\n",
       "</div>"
      ],
      "text/plain": [
       "                 Country or Area_x  Year  Value_x Country or Area_y  \\\n",
       "11882  Dem. People's Rep. of Korea  2014     0.00            Turkey   \n",
       "13806                      Eritrea  2014     0.99           Algeria   \n",
       "43123                  Timor-Leste  2014     1.14           Croatia   \n",
       "7129                       Burundi  2014     1.38    United Kingdom   \n",
       "39421                      Somalia  2014     1.63             Nauru   \n",
       "\n",
       "            Value_y  \n",
       "11882  24960.320597  \n",
       "13806  11512.705405  \n",
       "43123  23858.410399  \n",
       "7129   44209.510472  \n",
       "39421  11446.261037  "
      ]
     },
     "execution_count": 67,
     "metadata": {},
     "output_type": "execute_result"
    }
   ],
   "source": [
    "filtered_df3.sort_values('Value_x', ascending=False).drop_duplicates('Country or Area_x').tail(5).sort_values('Value_x')"
   ]
  },
  {
   "cell_type": "code",
   "execution_count": null,
   "id": "a65f3625",
   "metadata": {},
   "outputs": [],
   "source": [
    "30b"
   ]
  },
  {
   "cell_type": "code",
   "execution_count": 75,
   "id": "b1051b2e",
   "metadata": {
    "scrolled": true
   },
   "outputs": [
    {
     "name": "stdout",
     "output_type": "stream",
     "text": [
      "                  Country or Area_x  Year  Value_x   Country or Area_y  \\\n",
      "11895   Dem. People's Rep. of Korea  2014      0.0             Vietnam   \n",
      "11896   Dem. People's Rep. of Korea  2014      0.0  West Bank and Gaza   \n",
      "11897   Dem. People's Rep. of Korea  2014      0.0               World   \n",
      "11898   Dem. People's Rep. of Korea  2014      0.0              Zambia   \n",
      "11899   Dem. People's Rep. of Korea  2014      0.0            Zimbabwe   \n",
      "253025  Dem. People's Rep. of Korea  2009      0.0             Vietnam   \n",
      "253026  Dem. People's Rep. of Korea  2009      0.0  West Bank and Gaza   \n",
      "253027  Dem. People's Rep. of Korea  2009      0.0               World   \n",
      "253028  Dem. People's Rep. of Korea  2009      0.0              Zambia   \n",
      "253029  Dem. People's Rep. of Korea  2009      0.0            Zimbabwe   \n",
      "490281  Dem. People's Rep. of Korea  2004      0.0             Vietnam   \n",
      "490282  Dem. People's Rep. of Korea  2004      0.0  West Bank and Gaza   \n",
      "490283  Dem. People's Rep. of Korea  2004      0.0               World   \n",
      "490284  Dem. People's Rep. of Korea  2004      0.0              Zambia   \n",
      "490285  Dem. People's Rep. of Korea  2004      0.0            Zimbabwe   \n",
      "\n",
      "             Value_y  \n",
      "11895    6098.489609  \n",
      "11896    5967.073437  \n",
      "11897   15189.648507  \n",
      "11898    3450.046561  \n",
      "11899    2955.240287  \n",
      "253025   4830.304958  \n",
      "253026   5250.116075  \n",
      "253027  13396.524163  \n",
      "253028   2917.516220  \n",
      "253029   1925.364381  \n",
      "490281   3689.732423  \n",
      "490282   4485.525458  \n",
      "490283  12077.823821  \n",
      "490284   2261.766537  \n",
      "490285   2480.859342  \n"
     ]
    }
   ],
   "source": [
    "bottom_5_internet = filtered_df3.sort_values(['Value_x', 'Year'], ascending=False).groupby('Year').tail(5)\n",
    "print(top_5_1_internet)"
   ]
  },
  {
   "cell_type": "code",
   "execution_count": null,
   "id": "d85a5adf",
   "metadata": {},
   "outputs": [],
   "source": [
    "30c"
   ]
  },
  {
   "cell_type": "code",
   "execution_count": 69,
   "id": "eb190279",
   "metadata": {},
   "outputs": [
    {
     "data": {
      "text/plain": [
       "<function matplotlib.pyplot.show(close=None, block=None)>"
      ]
     },
     "execution_count": 69,
     "metadata": {},
     "output_type": "execute_result"
    },
    {
     "data": {
      "image/png": "[encoded data removed]",
      "text/plain": [
       "<Figure size 216x216 with 1 Axes>"
      ]
     },
     "metadata": {
      "needs_background": "light"
     },
     "output_type": "display_data"
    }
   ],
   "source": [
    "graph = sns.FacetGrid(bottom_5_gdp)\n",
    "graph.map(plt.scatter, 'Year', 'Value_x')\n",
    "plt.show"
   ]
  },
  {
   "cell_type": "markdown",
   "id": "b061f79b",
   "metadata": {},
   "source": [
    "31"
   ]
  },
  {
   "cell_type": "code",
   "execution_count": 71,
   "id": "ed0b12b0",
   "metadata": {},
   "outputs": [
    {
     "name": "stdout",
     "output_type": "stream",
     "text": [
      "       Country or Area_x  Year    Value_x Country or Area_y        Value_y\n",
      "128          Afghanistan  2014   6.390000  Macao SAR, China  156514.133850\n",
      "366              Albania  2014  60.100000  Macao SAR, China  156514.133850\n",
      "604              Algeria  2014  18.090000  Macao SAR, China  156514.133850\n",
      "842              Andorra  2014  95.900000  Macao SAR, China  156514.133850\n",
      "1080              Angola  2014  21.260000  Macao SAR, China  156514.133850\n",
      "241356       Afghanistan  2009   3.550000        Luxembourg  104932.811953\n",
      "241592           Albania  2009  41.200000        Luxembourg  104932.811953\n",
      "241828           Algeria  2009  11.230000        Luxembourg  104932.811953\n",
      "242064           Andorra  2009  78.530000        Luxembourg  104932.811953\n",
      "242300            Angola  2009   6.000000        Luxembourg  104932.811953\n",
      "479647       Afghanistan  2004   0.105809        Luxembourg  102708.212547\n",
      "479881           Albania  2004   2.420388        Luxembourg  102708.212547\n",
      "480115           Algeria  2004   4.634475        Luxembourg  102708.212547\n",
      "480349           Andorra  2004  26.837954        Luxembourg  102708.212547\n",
      "480583            Angola  2004   0.464815        Luxembourg  102708.212547\n"
     ]
    }
   ],
   "source": [
    "top_5_gdp = filtered_df3.sort_values(['Value_y', 'Year'], ascending=False).groupby('Year').head(5)\n",
    "print(top_5_gdp)"
   ]
  },
  {
   "cell_type": "markdown",
   "id": "b631b9cb",
   "metadata": {},
   "source": [
    "32a"
   ]
  },
  {
   "cell_type": "code",
   "execution_count": 72,
   "id": "dfa120cf",
   "metadata": {},
   "outputs": [
    {
     "data": {
      "text/plain": [
       "<function matplotlib.pyplot.show(close=None, block=None)>"
      ]
     },
     "execution_count": 72,
     "metadata": {},
     "output_type": "execute_result"
    },
    {
     "data": {
      "image/png": "[encoded data removed]",
      "text/plain": [
       "<Figure size 216x216 with 1 Axes>"
      ]
     },
     "metadata": {
      "needs_background": "light"
     },
     "output_type": "display_data"
    }
   ],
   "source": [
    "graph = sns.FacetGrid(top_5_internet)\n",
    "graph.map(plt.scatter, 'Year', 'Value_y')\n",
    "plt.show"
   ]
  },
  {
   "cell_type": "markdown",
   "id": "8b919b3b",
   "metadata": {},
   "source": [
    "32b"
   ]
  },
  {
   "cell_type": "code",
   "execution_count": 73,
   "id": "c256f9a0",
   "metadata": {},
   "outputs": [
    {
     "data": {
      "text/html": [
       "<div>\n",
       "<style scoped>\n",
       "    .dataframe tbody tr th:only-of-type {\n",
       "        vertical-align: middle;\n",
       "    }\n",
       "\n",
       "    .dataframe tbody tr th {\n",
       "        vertical-align: top;\n",
       "    }\n",
       "\n",
       "    .dataframe thead th {\n",
       "        text-align: right;\n",
       "    }\n",
       "</style>\n",
       "<table border=\"1\" class=\"dataframe\">\n",
       "  <thead>\n",
       "    <tr style=\"text-align: right;\">\n",
       "      <th></th>\n",
       "      <th>Country or Area_x</th>\n",
       "      <th>Year</th>\n",
       "      <th>Value_x</th>\n",
       "      <th>Country or Area_y</th>\n",
       "      <th>Value_y</th>\n",
       "    </tr>\n",
       "  </thead>\n",
       "  <tbody>\n",
       "    <tr>\n",
       "      <th>500707</th>\n",
       "      <td>Jersey</td>\n",
       "      <td>2004</td>\n",
       "      <td>30.681818</td>\n",
       "      <td>Luxembourg</td>\n",
       "      <td>102708.212547</td>\n",
       "    </tr>\n",
       "    <tr>\n",
       "      <th>496729</th>\n",
       "      <td>Guernsey</td>\n",
       "      <td>2004</td>\n",
       "      <td>64.516129</td>\n",
       "      <td>Luxembourg</td>\n",
       "      <td>102708.212547</td>\n",
       "    </tr>\n",
       "    <tr>\n",
       "      <th>511471</th>\n",
       "      <td>Palau</td>\n",
       "      <td>2004</td>\n",
       "      <td>26.970333</td>\n",
       "      <td>Luxembourg</td>\n",
       "      <td>102708.212547</td>\n",
       "    </tr>\n",
       "    <tr>\n",
       "      <th>258348</th>\n",
       "      <td>Gibraltar</td>\n",
       "      <td>2009</td>\n",
       "      <td>65.070000</td>\n",
       "      <td>Luxembourg</td>\n",
       "      <td>104932.811953</td>\n",
       "    </tr>\n",
       "    <tr>\n",
       "      <th>285724</th>\n",
       "      <td>Tuvalu</td>\n",
       "      <td>2009</td>\n",
       "      <td>20.000000</td>\n",
       "      <td>Luxembourg</td>\n",
       "      <td>104932.811953</td>\n",
       "    </tr>\n",
       "  </tbody>\n",
       "</table>\n",
       "</div>"
      ],
      "text/plain": [
       "       Country or Area_x  Year    Value_x Country or Area_y        Value_y\n",
       "500707            Jersey  2004  30.681818        Luxembourg  102708.212547\n",
       "496729          Guernsey  2004  64.516129        Luxembourg  102708.212547\n",
       "511471             Palau  2004  26.970333        Luxembourg  102708.212547\n",
       "258348         Gibraltar  2009  65.070000        Luxembourg  104932.811953\n",
       "285724            Tuvalu  2009  20.000000        Luxembourg  104932.811953"
      ]
     },
     "execution_count": 73,
     "metadata": {},
     "output_type": "execute_result"
    }
   ],
   "source": [
    "filtered_df3.sort_values('Value_y', ascending=False).drop_duplicates('Country or Area_x').tail(5).sort_values('Value_y')"
   ]
  },
  {
   "cell_type": "markdown",
   "id": "dedec873",
   "metadata": {},
   "source": [
    "32c"
   ]
  },
  {
   "cell_type": "code",
   "execution_count": 74,
   "id": "93422fb3",
   "metadata": {},
   "outputs": [
    {
     "name": "stdout",
     "output_type": "stream",
     "text": [
      "            Country or Area_x  Year    Value_x         Country or Area_y  \\\n",
      "287986               Viet Nam  2009  26.550000                   Burundi   \n",
      "288222  Virgin Islands (U.S.)  2009  27.396510                   Burundi   \n",
      "288458                  Yemen  2009   9.960000                   Burundi   \n",
      "288694                 Zambia  2009   6.310000                   Burundi   \n",
      "288930               Zimbabwe  2009  11.360000                   Burundi   \n",
      "46922                Viet Nam  2014  48.310000  Central African Republic   \n",
      "47160   Virgin Islands (U.S.)  2014  50.070000  Central African Republic   \n",
      "47398                   Yemen  2014  22.550000  Central African Republic   \n",
      "47636                  Zambia  2014  17.340000  Central African Republic   \n",
      "47874                Zimbabwe  2014  19.890000  Central African Republic   \n",
      "524966               Viet Nam  2004   7.642409           Dem. Rep. Congo   \n",
      "525200  Virgin Islands (U.S.)  2004  27.377009           Dem. Rep. Congo   \n",
      "525434                  Yemen  2004   0.881223           Dem. Rep. Congo   \n",
      "525668                 Zambia  2004   2.013550           Dem. Rep. Congo   \n",
      "525902               Zimbabwe  2004   6.564045           Dem. Rep. Congo   \n",
      "\n",
      "           Value_y  \n",
      "287986  831.564131  \n",
      "288222  831.564131  \n",
      "288458  831.564131  \n",
      "288694  831.564131  \n",
      "288930  831.564131  \n",
      "46922   822.610458  \n",
      "47160   822.610458  \n",
      "47398   822.610458  \n",
      "47636   822.610458  \n",
      "47874   822.610458  \n",
      "524966  757.685942  \n",
      "525200  757.685942  \n",
      "525434  757.685942  \n",
      "525668  757.685942  \n",
      "525902  757.685942  \n"
     ]
    }
   ],
   "source": [
    "bottom_5_1_gdp = filtered_df3.sort_values(['Value_y', 'Year'], ascending=False).groupby('Year').tail(5)\n",
    "print(bottom_5_1_gdp)"
   ]
  },
  {
   "cell_type": "code",
   "execution_count": null,
   "id": "46acf0dd",
   "metadata": {},
   "outputs": [],
   "source": []
  }
 ],
 "metadata": {
  "kernelspec": {
   "display_name": "Python 3 (ipykernel)",
   "language": "python",
   "name": "python3"
  },
  "language_info": {
   "codemirror_mode": {
    "name": "ipython",
    "version": 3
   },
   "file_extension": ".py",
   "mimetype": "text/x-python",
   "name": "python",
   "nbconvert_exporter": "python",
   "pygments_lexer": "ipython3",
   "version": "3.9.12"
  }
 },
 "nbformat": 4,
 "nbformat_minor": 5
}
