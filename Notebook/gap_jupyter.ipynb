{
 "cells": [
  {
   "cell_type": "markdown",
   "id": "2d76a29c",
   "metadata": {},
   "source": [
    "3"
   ]
  },
  {
   "cell_type": "code",
   "execution_count": 83,
   "id": "18a9e5d7",
   "metadata": {},
   "outputs": [],
   "source": [
    "import pandas as pd\n",
    "import numpy as np\n",
    "import matplotlib.pyplot as plt\n",
    "import seaborn as sns"
   ]
  },
  {
   "cell_type": "markdown",
   "id": "d5e3c0a8",
   "metadata": {},
   "source": [
    "4"
   ]
  },
  {
   "cell_type": "code",
   "execution_count": 84,
   "id": "0f4caa00",
   "metadata": {},
   "outputs": [],
   "source": [
    "%matplotlib inline"
   ]
  },
  {
   "cell_type": "markdown",
   "id": "cc3a023f",
   "metadata": {},
   "source": [
    "5"
   ]
  },
  {
   "cell_type": "code",
   "execution_count": 85,
   "id": "e8f88fbd",
   "metadata": {
    "scrolled": true
   },
   "outputs": [],
   "source": [
    "gdp_df = pd.read_csv(\"../Data/gdp_percapita.csv\", nrows=6868)"
   ]
  },
  {
   "cell_type": "code",
   "execution_count": 86,
   "id": "d6a334de",
   "metadata": {},
   "outputs": [
    {
     "name": "stdout",
     "output_type": "stream",
     "text": [
      "<class 'pandas.core.frame.DataFrame'>\n",
      "RangeIndex: 6868 entries, 0 to 6867\n",
      "Data columns (total 4 columns):\n",
      " #   Column           Non-Null Count  Dtype  \n",
      "---  ------           --------------  -----  \n",
      " 0   Country or Area  6868 non-null   object \n",
      " 1   Year             6868 non-null   int64  \n",
      " 2   Value            6868 non-null   float64\n",
      " 3   Value Footnotes  1 non-null      float64\n",
      "dtypes: float64(2), int64(1), object(1)\n",
      "memory usage: 214.8+ KB\n"
     ]
    }
   ],
   "source": [
    "gdp_df.info()"
   ]
  },
  {
   "cell_type": "markdown",
   "id": "491116eb",
   "metadata": {},
   "source": [
    "6"
   ]
  },
  {
   "cell_type": "code",
   "execution_count": 87,
   "id": "cd0d34dd",
   "metadata": {},
   "outputs": [],
   "source": [
    "internet_df = pd.read_csv(\"../Data/internet_use.csv\", nrows=4495)"
   ]
  },
  {
   "cell_type": "markdown",
   "id": "6130490c",
   "metadata": {},
   "source": [
    "7"
   ]
  },
  {
   "cell_type": "code",
   "execution_count": 88,
   "id": "33973983",
   "metadata": {},
   "outputs": [
    {
     "data": {
      "text/plain": [
       "(4495, 4)"
      ]
     },
     "execution_count": 88,
     "metadata": {},
     "output_type": "execute_result"
    }
   ],
   "source": [
    "internet_df.shape"
   ]
  },
  {
   "cell_type": "code",
   "execution_count": 89,
   "id": "e53ff1c8",
   "metadata": {},
   "outputs": [
    {
     "data": {
      "text/plain": [
       "(6868, 4)"
      ]
     },
     "execution_count": 89,
     "metadata": {},
     "output_type": "execute_result"
    }
   ],
   "source": [
    "gdp_df.shape"
   ]
  },
  {
   "cell_type": "markdown",
   "id": "aa988f6f",
   "metadata": {},
   "source": [
    "8 - module error"
   ]
  },
  {
   "cell_type": "code",
   "execution_count": 90,
   "id": "01c412dd",
   "metadata": {},
   "outputs": [
    {
     "data": {
      "text/plain": [
       "Country or Area     object\n",
       "Year                 int64\n",
       "Value              float64\n",
       "Value Footnotes    float64\n",
       "dtype: object"
      ]
     },
     "execution_count": 90,
     "metadata": {},
     "output_type": "execute_result"
    }
   ],
   "source": [
    "internet_df.dtypes"
   ]
  },
  {
   "cell_type": "code",
   "execution_count": 91,
   "id": "319f811b",
   "metadata": {},
   "outputs": [
    {
     "data": {
      "text/plain": [
       "Country or Area     object\n",
       "Year                 int64\n",
       "Value              float64\n",
       "Value Footnotes    float64\n",
       "dtype: object"
      ]
     },
     "execution_count": 91,
     "metadata": {},
     "output_type": "execute_result"
    }
   ],
   "source": [
    "gdp_df.dtypes"
   ]
  },
  {
   "cell_type": "markdown",
   "id": "e91609c9",
   "metadata": {},
   "source": [
    "9"
   ]
  },
  {
   "cell_type": "code",
   "execution_count": 92,
   "id": "36445320",
   "metadata": {},
   "outputs": [
    {
     "data": {
      "text/html": [
       "<div>\n",
       "<style scoped>\n",
       "    .dataframe tbody tr th:only-of-type {\n",
       "        vertical-align: middle;\n",
       "    }\n",
       "\n",
       "    .dataframe tbody tr th {\n",
       "        vertical-align: top;\n",
       "    }\n",
       "\n",
       "    .dataframe thead th {\n",
       "        text-align: right;\n",
       "    }\n",
       "</style>\n",
       "<table border=\"1\" class=\"dataframe\">\n",
       "  <thead>\n",
       "    <tr style=\"text-align: right;\">\n",
       "      <th></th>\n",
       "      <th>Country or Area</th>\n",
       "      <th>Year</th>\n",
       "      <th>Value</th>\n",
       "      <th>Value Footnotes</th>\n",
       "    </tr>\n",
       "  </thead>\n",
       "  <tbody>\n",
       "    <tr>\n",
       "      <th>4485</th>\n",
       "      <td>Zimbabwe</td>\n",
       "      <td>2002</td>\n",
       "      <td>3.994356</td>\n",
       "      <td>NaN</td>\n",
       "    </tr>\n",
       "    <tr>\n",
       "      <th>4486</th>\n",
       "      <td>Zimbabwe</td>\n",
       "      <td>2001</td>\n",
       "      <td>0.799846</td>\n",
       "      <td>NaN</td>\n",
       "    </tr>\n",
       "    <tr>\n",
       "      <th>4487</th>\n",
       "      <td>Zimbabwe</td>\n",
       "      <td>2000</td>\n",
       "      <td>0.401434</td>\n",
       "      <td>NaN</td>\n",
       "    </tr>\n",
       "    <tr>\n",
       "      <th>4488</th>\n",
       "      <td>Zimbabwe</td>\n",
       "      <td>1999</td>\n",
       "      <td>0.161676</td>\n",
       "      <td>NaN</td>\n",
       "    </tr>\n",
       "    <tr>\n",
       "      <th>4489</th>\n",
       "      <td>Zimbabwe</td>\n",
       "      <td>1998</td>\n",
       "      <td>0.081648</td>\n",
       "      <td>NaN</td>\n",
       "    </tr>\n",
       "    <tr>\n",
       "      <th>4490</th>\n",
       "      <td>Zimbabwe</td>\n",
       "      <td>1997</td>\n",
       "      <td>0.033080</td>\n",
       "      <td>NaN</td>\n",
       "    </tr>\n",
       "    <tr>\n",
       "      <th>4491</th>\n",
       "      <td>Zimbabwe</td>\n",
       "      <td>1996</td>\n",
       "      <td>0.016790</td>\n",
       "      <td>NaN</td>\n",
       "    </tr>\n",
       "    <tr>\n",
       "      <th>4492</th>\n",
       "      <td>Zimbabwe</td>\n",
       "      <td>1995</td>\n",
       "      <td>0.007684</td>\n",
       "      <td>NaN</td>\n",
       "    </tr>\n",
       "    <tr>\n",
       "      <th>4493</th>\n",
       "      <td>Zimbabwe</td>\n",
       "      <td>1994</td>\n",
       "      <td>0.001739</td>\n",
       "      <td>NaN</td>\n",
       "    </tr>\n",
       "    <tr>\n",
       "      <th>4494</th>\n",
       "      <td>Zimbabwe</td>\n",
       "      <td>1990</td>\n",
       "      <td>0.000000</td>\n",
       "      <td>NaN</td>\n",
       "    </tr>\n",
       "  </tbody>\n",
       "</table>\n",
       "</div>"
      ],
      "text/plain": [
       "     Country or Area  Year     Value  Value Footnotes\n",
       "4485        Zimbabwe  2002  3.994356              NaN\n",
       "4486        Zimbabwe  2001  0.799846              NaN\n",
       "4487        Zimbabwe  2000  0.401434              NaN\n",
       "4488        Zimbabwe  1999  0.161676              NaN\n",
       "4489        Zimbabwe  1998  0.081648              NaN\n",
       "4490        Zimbabwe  1997  0.033080              NaN\n",
       "4491        Zimbabwe  1996  0.016790              NaN\n",
       "4492        Zimbabwe  1995  0.007684              NaN\n",
       "4493        Zimbabwe  1994  0.001739              NaN\n",
       "4494        Zimbabwe  1990  0.000000              NaN"
      ]
     },
     "execution_count": 92,
     "metadata": {},
     "output_type": "execute_result"
    }
   ],
   "source": [
    "internet_df.tail(10)\n"
   ]
  },
  {
   "cell_type": "code",
   "execution_count": 93,
   "id": "ac6be449",
   "metadata": {},
   "outputs": [
    {
     "data": {
      "text/html": [
       "<div>\n",
       "<style scoped>\n",
       "    .dataframe tbody tr th:only-of-type {\n",
       "        vertical-align: middle;\n",
       "    }\n",
       "\n",
       "    .dataframe tbody tr th {\n",
       "        vertical-align: top;\n",
       "    }\n",
       "\n",
       "    .dataframe thead th {\n",
       "        text-align: right;\n",
       "    }\n",
       "</style>\n",
       "<table border=\"1\" class=\"dataframe\">\n",
       "  <thead>\n",
       "    <tr style=\"text-align: right;\">\n",
       "      <th></th>\n",
       "      <th>Country or Area</th>\n",
       "      <th>Year</th>\n",
       "      <th>Value</th>\n",
       "      <th>Value Footnotes</th>\n",
       "    </tr>\n",
       "  </thead>\n",
       "  <tbody>\n",
       "    <tr>\n",
       "      <th>6858</th>\n",
       "      <td>Zimbabwe</td>\n",
       "      <td>1999</td>\n",
       "      <td>3600.849291</td>\n",
       "      <td>NaN</td>\n",
       "    </tr>\n",
       "    <tr>\n",
       "      <th>6859</th>\n",
       "      <td>Zimbabwe</td>\n",
       "      <td>1998</td>\n",
       "      <td>3653.920016</td>\n",
       "      <td>NaN</td>\n",
       "    </tr>\n",
       "    <tr>\n",
       "      <th>6860</th>\n",
       "      <td>Zimbabwe</td>\n",
       "      <td>1997</td>\n",
       "      <td>3580.048793</td>\n",
       "      <td>NaN</td>\n",
       "    </tr>\n",
       "    <tr>\n",
       "      <th>6861</th>\n",
       "      <td>Zimbabwe</td>\n",
       "      <td>1996</td>\n",
       "      <td>3520.430146</td>\n",
       "      <td>NaN</td>\n",
       "    </tr>\n",
       "    <tr>\n",
       "      <th>6862</th>\n",
       "      <td>Zimbabwe</td>\n",
       "      <td>1995</td>\n",
       "      <td>3226.413930</td>\n",
       "      <td>NaN</td>\n",
       "    </tr>\n",
       "    <tr>\n",
       "      <th>6863</th>\n",
       "      <td>Zimbabwe</td>\n",
       "      <td>1994</td>\n",
       "      <td>3263.934978</td>\n",
       "      <td>NaN</td>\n",
       "    </tr>\n",
       "    <tr>\n",
       "      <th>6864</th>\n",
       "      <td>Zimbabwe</td>\n",
       "      <td>1993</td>\n",
       "      <td>3033.504852</td>\n",
       "      <td>NaN</td>\n",
       "    </tr>\n",
       "    <tr>\n",
       "      <th>6865</th>\n",
       "      <td>Zimbabwe</td>\n",
       "      <td>1992</td>\n",
       "      <td>3054.889178</td>\n",
       "      <td>NaN</td>\n",
       "    </tr>\n",
       "    <tr>\n",
       "      <th>6866</th>\n",
       "      <td>Zimbabwe</td>\n",
       "      <td>1991</td>\n",
       "      <td>3426.598094</td>\n",
       "      <td>NaN</td>\n",
       "    </tr>\n",
       "    <tr>\n",
       "      <th>6867</th>\n",
       "      <td>Zimbabwe</td>\n",
       "      <td>1990</td>\n",
       "      <td>3324.348171</td>\n",
       "      <td>NaN</td>\n",
       "    </tr>\n",
       "  </tbody>\n",
       "</table>\n",
       "</div>"
      ],
      "text/plain": [
       "     Country or Area  Year        Value  Value Footnotes\n",
       "6858        Zimbabwe  1999  3600.849291              NaN\n",
       "6859        Zimbabwe  1998  3653.920016              NaN\n",
       "6860        Zimbabwe  1997  3580.048793              NaN\n",
       "6861        Zimbabwe  1996  3520.430146              NaN\n",
       "6862        Zimbabwe  1995  3226.413930              NaN\n",
       "6863        Zimbabwe  1994  3263.934978              NaN\n",
       "6864        Zimbabwe  1993  3033.504852              NaN\n",
       "6865        Zimbabwe  1992  3054.889178              NaN\n",
       "6866        Zimbabwe  1991  3426.598094              NaN\n",
       "6867        Zimbabwe  1990  3324.348171              NaN"
      ]
     },
     "execution_count": 93,
     "metadata": {},
     "output_type": "execute_result"
    }
   ],
   "source": [
    "gdp_df.tail(10)"
   ]
  },
  {
   "cell_type": "markdown",
   "id": "e0555f85",
   "metadata": {},
   "source": [
    "10"
   ]
  },
  {
   "cell_type": "code",
   "execution_count": 94,
   "id": "c02f6067",
   "metadata": {},
   "outputs": [],
   "source": [
    "del internet_df['Value Footnotes']"
   ]
  },
  {
   "cell_type": "code",
   "execution_count": 95,
   "id": "21a70ad5",
   "metadata": {},
   "outputs": [],
   "source": [
    "del gdp_df['Value Footnotes']"
   ]
  },
  {
   "cell_type": "code",
   "execution_count": 96,
   "id": "2c4576d5",
   "metadata": {},
   "outputs": [
    {
     "data": {
      "text/plain": [
       "11"
      ]
     },
     "execution_count": 96,
     "metadata": {},
     "output_type": "execute_result"
    }
   ],
   "source": [
    "11"
   ]
  },
  {
   "cell_type": "code",
   "execution_count": 97,
   "id": "a34144a2",
   "metadata": {},
   "outputs": [
    {
     "data": {
      "text/html": [
       "<div>\n",
       "<style scoped>\n",
       "    .dataframe tbody tr th:only-of-type {\n",
       "        vertical-align: middle;\n",
       "    }\n",
       "\n",
       "    .dataframe tbody tr th {\n",
       "        vertical-align: top;\n",
       "    }\n",
       "\n",
       "    .dataframe thead th {\n",
       "        text-align: right;\n",
       "    }\n",
       "</style>\n",
       "<table border=\"1\" class=\"dataframe\">\n",
       "  <thead>\n",
       "    <tr style=\"text-align: right;\">\n",
       "      <th></th>\n",
       "      <th>Country</th>\n",
       "      <th>Year</th>\n",
       "      <th>Internet_users_Pct</th>\n",
       "    </tr>\n",
       "  </thead>\n",
       "  <tbody>\n",
       "    <tr>\n",
       "      <th>0</th>\n",
       "      <td>Afghanistan</td>\n",
       "      <td>2014</td>\n",
       "      <td>6.390000</td>\n",
       "    </tr>\n",
       "    <tr>\n",
       "      <th>1</th>\n",
       "      <td>Afghanistan</td>\n",
       "      <td>2013</td>\n",
       "      <td>5.900000</td>\n",
       "    </tr>\n",
       "    <tr>\n",
       "      <th>2</th>\n",
       "      <td>Afghanistan</td>\n",
       "      <td>2012</td>\n",
       "      <td>5.454545</td>\n",
       "    </tr>\n",
       "    <tr>\n",
       "      <th>3</th>\n",
       "      <td>Afghanistan</td>\n",
       "      <td>2011</td>\n",
       "      <td>5.000000</td>\n",
       "    </tr>\n",
       "    <tr>\n",
       "      <th>4</th>\n",
       "      <td>Afghanistan</td>\n",
       "      <td>2010</td>\n",
       "      <td>4.000000</td>\n",
       "    </tr>\n",
       "    <tr>\n",
       "      <th>...</th>\n",
       "      <td>...</td>\n",
       "      <td>...</td>\n",
       "      <td>...</td>\n",
       "    </tr>\n",
       "    <tr>\n",
       "      <th>4490</th>\n",
       "      <td>Zimbabwe</td>\n",
       "      <td>1997</td>\n",
       "      <td>0.033080</td>\n",
       "    </tr>\n",
       "    <tr>\n",
       "      <th>4491</th>\n",
       "      <td>Zimbabwe</td>\n",
       "      <td>1996</td>\n",
       "      <td>0.016790</td>\n",
       "    </tr>\n",
       "    <tr>\n",
       "      <th>4492</th>\n",
       "      <td>Zimbabwe</td>\n",
       "      <td>1995</td>\n",
       "      <td>0.007684</td>\n",
       "    </tr>\n",
       "    <tr>\n",
       "      <th>4493</th>\n",
       "      <td>Zimbabwe</td>\n",
       "      <td>1994</td>\n",
       "      <td>0.001739</td>\n",
       "    </tr>\n",
       "    <tr>\n",
       "      <th>4494</th>\n",
       "      <td>Zimbabwe</td>\n",
       "      <td>1990</td>\n",
       "      <td>0.000000</td>\n",
       "    </tr>\n",
       "  </tbody>\n",
       "</table>\n",
       "<p>4495 rows × 3 columns</p>\n",
       "</div>"
      ],
      "text/plain": [
       "          Country  Year  Internet_users_Pct\n",
       "0     Afghanistan  2014            6.390000\n",
       "1     Afghanistan  2013            5.900000\n",
       "2     Afghanistan  2012            5.454545\n",
       "3     Afghanistan  2011            5.000000\n",
       "4     Afghanistan  2010            4.000000\n",
       "...           ...   ...                 ...\n",
       "4490     Zimbabwe  1997            0.033080\n",
       "4491     Zimbabwe  1996            0.016790\n",
       "4492     Zimbabwe  1995            0.007684\n",
       "4493     Zimbabwe  1994            0.001739\n",
       "4494     Zimbabwe  1990            0.000000\n",
       "\n",
       "[4495 rows x 3 columns]"
      ]
     },
     "execution_count": 97,
     "metadata": {},
     "output_type": "execute_result"
    }
   ],
   "source": [
    "internet_df.rename(columns={'Country or Area':'Country', 'Value': 'Internet_users_Pct'})"
   ]
  },
  {
   "cell_type": "markdown",
   "id": "1b460b35",
   "metadata": {},
   "source": [
    "13"
   ]
  },
  {
   "cell_type": "code",
   "execution_count": 98,
   "id": "1cf8f805",
   "metadata": {},
   "outputs": [
    {
     "data": {
      "text/html": [
       "<div>\n",
       "<style scoped>\n",
       "    .dataframe tbody tr th:only-of-type {\n",
       "        vertical-align: middle;\n",
       "    }\n",
       "\n",
       "    .dataframe tbody tr th {\n",
       "        vertical-align: top;\n",
       "    }\n",
       "\n",
       "    .dataframe thead th {\n",
       "        text-align: right;\n",
       "    }\n",
       "</style>\n",
       "<table border=\"1\" class=\"dataframe\">\n",
       "  <thead>\n",
       "    <tr style=\"text-align: right;\">\n",
       "      <th></th>\n",
       "      <th>Country</th>\n",
       "      <th>Year</th>\n",
       "      <th>GDP_Per_Capita</th>\n",
       "    </tr>\n",
       "  </thead>\n",
       "  <tbody>\n",
       "    <tr>\n",
       "      <th>0</th>\n",
       "      <td>Afghanistan</td>\n",
       "      <td>2019</td>\n",
       "      <td>2065.036398</td>\n",
       "    </tr>\n",
       "    <tr>\n",
       "      <th>1</th>\n",
       "      <td>Afghanistan</td>\n",
       "      <td>2018</td>\n",
       "      <td>2033.779002</td>\n",
       "    </tr>\n",
       "    <tr>\n",
       "      <th>2</th>\n",
       "      <td>Afghanistan</td>\n",
       "      <td>2017</td>\n",
       "      <td>2058.383832</td>\n",
       "    </tr>\n",
       "    <tr>\n",
       "      <th>3</th>\n",
       "      <td>Afghanistan</td>\n",
       "      <td>2016</td>\n",
       "      <td>2057.062164</td>\n",
       "    </tr>\n",
       "    <tr>\n",
       "      <th>4</th>\n",
       "      <td>Afghanistan</td>\n",
       "      <td>2015</td>\n",
       "      <td>2068.265904</td>\n",
       "    </tr>\n",
       "    <tr>\n",
       "      <th>...</th>\n",
       "      <td>...</td>\n",
       "      <td>...</td>\n",
       "      <td>...</td>\n",
       "    </tr>\n",
       "    <tr>\n",
       "      <th>6863</th>\n",
       "      <td>Zimbabwe</td>\n",
       "      <td>1994</td>\n",
       "      <td>3263.934978</td>\n",
       "    </tr>\n",
       "    <tr>\n",
       "      <th>6864</th>\n",
       "      <td>Zimbabwe</td>\n",
       "      <td>1993</td>\n",
       "      <td>3033.504852</td>\n",
       "    </tr>\n",
       "    <tr>\n",
       "      <th>6865</th>\n",
       "      <td>Zimbabwe</td>\n",
       "      <td>1992</td>\n",
       "      <td>3054.889178</td>\n",
       "    </tr>\n",
       "    <tr>\n",
       "      <th>6866</th>\n",
       "      <td>Zimbabwe</td>\n",
       "      <td>1991</td>\n",
       "      <td>3426.598094</td>\n",
       "    </tr>\n",
       "    <tr>\n",
       "      <th>6867</th>\n",
       "      <td>Zimbabwe</td>\n",
       "      <td>1990</td>\n",
       "      <td>3324.348171</td>\n",
       "    </tr>\n",
       "  </tbody>\n",
       "</table>\n",
       "<p>6868 rows × 3 columns</p>\n",
       "</div>"
      ],
      "text/plain": [
       "          Country  Year  GDP_Per_Capita\n",
       "0     Afghanistan  2019     2065.036398\n",
       "1     Afghanistan  2018     2033.779002\n",
       "2     Afghanistan  2017     2058.383832\n",
       "3     Afghanistan  2016     2057.062164\n",
       "4     Afghanistan  2015     2068.265904\n",
       "...           ...   ...             ...\n",
       "6863     Zimbabwe  1994     3263.934978\n",
       "6864     Zimbabwe  1993     3033.504852\n",
       "6865     Zimbabwe  1992     3054.889178\n",
       "6866     Zimbabwe  1991     3426.598094\n",
       "6867     Zimbabwe  1990     3324.348171\n",
       "\n",
       "[6868 rows x 3 columns]"
      ]
     },
     "execution_count": 98,
     "metadata": {},
     "output_type": "execute_result"
    }
   ],
   "source": [
    "gdp_df.rename(columns={'Country or Area':'Country', 'Value': 'GDP_Per_Capita'})"
   ]
  },
  {
   "cell_type": "markdown",
   "id": "71c57865",
   "metadata": {},
   "source": [
    "14"
   ]
  },
  {
   "cell_type": "code",
   "execution_count": 99,
   "id": "36cc2506",
   "metadata": {},
   "outputs": [
    {
     "data": {
      "text/html": [
       "<div>\n",
       "<style scoped>\n",
       "    .dataframe tbody tr th:only-of-type {\n",
       "        vertical-align: middle;\n",
       "    }\n",
       "\n",
       "    .dataframe tbody tr th {\n",
       "        vertical-align: top;\n",
       "    }\n",
       "\n",
       "    .dataframe thead th {\n",
       "        text-align: right;\n",
       "    }\n",
       "</style>\n",
       "<table border=\"1\" class=\"dataframe\">\n",
       "  <thead>\n",
       "    <tr style=\"text-align: right;\">\n",
       "      <th></th>\n",
       "      <th>Country or Area_x</th>\n",
       "      <th>Year</th>\n",
       "      <th>Internet_Users_Pct</th>\n",
       "      <th>Country or Area_y</th>\n",
       "      <th>GDP</th>\n",
       "    </tr>\n",
       "  </thead>\n",
       "  <tbody>\n",
       "    <tr>\n",
       "      <th>0</th>\n",
       "      <td>Afghanistan</td>\n",
       "      <td>2014</td>\n",
       "      <td>6.390000</td>\n",
       "      <td>Afghanistan</td>\n",
       "      <td>2102.385234</td>\n",
       "    </tr>\n",
       "    <tr>\n",
       "      <th>1</th>\n",
       "      <td>Afghanistan</td>\n",
       "      <td>2014</td>\n",
       "      <td>6.390000</td>\n",
       "      <td>Albania</td>\n",
       "      <td>11623.866679</td>\n",
       "    </tr>\n",
       "    <tr>\n",
       "      <th>2</th>\n",
       "      <td>Afghanistan</td>\n",
       "      <td>2014</td>\n",
       "      <td>6.390000</td>\n",
       "      <td>Algeria</td>\n",
       "      <td>11512.705405</td>\n",
       "    </tr>\n",
       "    <tr>\n",
       "      <th>3</th>\n",
       "      <td>Afghanistan</td>\n",
       "      <td>2014</td>\n",
       "      <td>6.390000</td>\n",
       "      <td>Angola</td>\n",
       "      <td>8239.828837</td>\n",
       "    </tr>\n",
       "    <tr>\n",
       "      <th>4</th>\n",
       "      <td>Afghanistan</td>\n",
       "      <td>2014</td>\n",
       "      <td>6.390000</td>\n",
       "      <td>Antigua and Barbuda</td>\n",
       "      <td>18104.241470</td>\n",
       "    </tr>\n",
       "    <tr>\n",
       "      <th>...</th>\n",
       "      <td>...</td>\n",
       "      <td>...</td>\n",
       "      <td>...</td>\n",
       "      <td>...</td>\n",
       "      <td>...</td>\n",
       "    </tr>\n",
       "    <tr>\n",
       "      <th>1003631</th>\n",
       "      <td>United States</td>\n",
       "      <td>1991</td>\n",
       "      <td>1.163194</td>\n",
       "      <td>Vanuatu</td>\n",
       "      <td>2897.327707</td>\n",
       "    </tr>\n",
       "    <tr>\n",
       "      <th>1003632</th>\n",
       "      <td>United States</td>\n",
       "      <td>1991</td>\n",
       "      <td>1.163194</td>\n",
       "      <td>Vietnam</td>\n",
       "      <td>1736.014139</td>\n",
       "    </tr>\n",
       "    <tr>\n",
       "      <th>1003633</th>\n",
       "      <td>United States</td>\n",
       "      <td>1991</td>\n",
       "      <td>1.163194</td>\n",
       "      <td>World</td>\n",
       "      <td>9645.256163</td>\n",
       "    </tr>\n",
       "    <tr>\n",
       "      <th>1003634</th>\n",
       "      <td>United States</td>\n",
       "      <td>1991</td>\n",
       "      <td>1.163194</td>\n",
       "      <td>Zambia</td>\n",
       "      <td>2133.689042</td>\n",
       "    </tr>\n",
       "    <tr>\n",
       "      <th>1003635</th>\n",
       "      <td>United States</td>\n",
       "      <td>1991</td>\n",
       "      <td>1.163194</td>\n",
       "      <td>Zimbabwe</td>\n",
       "      <td>3426.598094</td>\n",
       "    </tr>\n",
       "  </tbody>\n",
       "</table>\n",
       "<p>1003636 rows × 5 columns</p>\n",
       "</div>"
      ],
      "text/plain": [
       "        Country or Area_x  Year  Internet_Users_Pct    Country or Area_y  \\\n",
       "0             Afghanistan  2014            6.390000          Afghanistan   \n",
       "1             Afghanistan  2014            6.390000              Albania   \n",
       "2             Afghanistan  2014            6.390000              Algeria   \n",
       "3             Afghanistan  2014            6.390000               Angola   \n",
       "4             Afghanistan  2014            6.390000  Antigua and Barbuda   \n",
       "...                   ...   ...                 ...                  ...   \n",
       "1003631     United States  1991            1.163194              Vanuatu   \n",
       "1003632     United States  1991            1.163194              Vietnam   \n",
       "1003633     United States  1991            1.163194                World   \n",
       "1003634     United States  1991            1.163194               Zambia   \n",
       "1003635     United States  1991            1.163194             Zimbabwe   \n",
       "\n",
       "                  GDP  \n",
       "0         2102.385234  \n",
       "1        11623.866679  \n",
       "2        11512.705405  \n",
       "3         8239.828837  \n",
       "4        18104.241470  \n",
       "...               ...  \n",
       "1003631   2897.327707  \n",
       "1003632   1736.014139  \n",
       "1003633   9645.256163  \n",
       "1003634   2133.689042  \n",
       "1003635   3426.598094  \n",
       "\n",
       "[1003636 rows x 5 columns]"
      ]
     },
     "execution_count": 99,
     "metadata": {},
     "output_type": "execute_result"
    }
   ],
   "source": [
    "df3 = pd.merge(internet_df, gdp_df, on='Year')\n",
    "df3.rename(columns={'Value_x' : 'Internet_Users_Pct', 'Value_y' : 'GDP'})\n"
   ]
  },
  {
   "cell_type": "markdown",
   "id": "646f3f63",
   "metadata": {},
   "source": [
    "15"
   ]
  },
  {
   "cell_type": "code",
   "execution_count": 100,
   "id": "e8acec8e",
   "metadata": {},
   "outputs": [
    {
     "data": {
      "text/html": [
       "<div>\n",
       "<style scoped>\n",
       "    .dataframe tbody tr th:only-of-type {\n",
       "        vertical-align: middle;\n",
       "    }\n",
       "\n",
       "    .dataframe tbody tr th {\n",
       "        vertical-align: top;\n",
       "    }\n",
       "\n",
       "    .dataframe thead th {\n",
       "        text-align: right;\n",
       "    }\n",
       "</style>\n",
       "<table border=\"1\" class=\"dataframe\">\n",
       "  <thead>\n",
       "    <tr style=\"text-align: right;\">\n",
       "      <th></th>\n",
       "      <th>Country or Area_x</th>\n",
       "      <th>Year</th>\n",
       "      <th>Internet_Users_Pct</th>\n",
       "      <th>Country or Area_y</th>\n",
       "      <th>GDP</th>\n",
       "    </tr>\n",
       "  </thead>\n",
       "  <tbody>\n",
       "    <tr>\n",
       "      <th>0</th>\n",
       "      <td>Afghanistan</td>\n",
       "      <td>2014</td>\n",
       "      <td>6.390000</td>\n",
       "      <td>Afghanistan</td>\n",
       "      <td>2102.385234</td>\n",
       "    </tr>\n",
       "    <tr>\n",
       "      <th>1</th>\n",
       "      <td>Afghanistan</td>\n",
       "      <td>2014</td>\n",
       "      <td>6.390000</td>\n",
       "      <td>Albania</td>\n",
       "      <td>11623.866679</td>\n",
       "    </tr>\n",
       "    <tr>\n",
       "      <th>2</th>\n",
       "      <td>Afghanistan</td>\n",
       "      <td>2014</td>\n",
       "      <td>6.390000</td>\n",
       "      <td>Algeria</td>\n",
       "      <td>11512.705405</td>\n",
       "    </tr>\n",
       "    <tr>\n",
       "      <th>3</th>\n",
       "      <td>Afghanistan</td>\n",
       "      <td>2014</td>\n",
       "      <td>6.390000</td>\n",
       "      <td>Angola</td>\n",
       "      <td>8239.828837</td>\n",
       "    </tr>\n",
       "    <tr>\n",
       "      <th>4</th>\n",
       "      <td>Afghanistan</td>\n",
       "      <td>2014</td>\n",
       "      <td>6.390000</td>\n",
       "      <td>Antigua and Barbuda</td>\n",
       "      <td>18104.241470</td>\n",
       "    </tr>\n",
       "    <tr>\n",
       "      <th>...</th>\n",
       "      <td>...</td>\n",
       "      <td>...</td>\n",
       "      <td>...</td>\n",
       "      <td>...</td>\n",
       "      <td>...</td>\n",
       "    </tr>\n",
       "    <tr>\n",
       "      <th>1003631</th>\n",
       "      <td>United States</td>\n",
       "      <td>1991</td>\n",
       "      <td>1.163194</td>\n",
       "      <td>Vanuatu</td>\n",
       "      <td>2897.327707</td>\n",
       "    </tr>\n",
       "    <tr>\n",
       "      <th>1003632</th>\n",
       "      <td>United States</td>\n",
       "      <td>1991</td>\n",
       "      <td>1.163194</td>\n",
       "      <td>Vietnam</td>\n",
       "      <td>1736.014139</td>\n",
       "    </tr>\n",
       "    <tr>\n",
       "      <th>1003633</th>\n",
       "      <td>United States</td>\n",
       "      <td>1991</td>\n",
       "      <td>1.163194</td>\n",
       "      <td>World</td>\n",
       "      <td>9645.256163</td>\n",
       "    </tr>\n",
       "    <tr>\n",
       "      <th>1003634</th>\n",
       "      <td>United States</td>\n",
       "      <td>1991</td>\n",
       "      <td>1.163194</td>\n",
       "      <td>Zambia</td>\n",
       "      <td>2133.689042</td>\n",
       "    </tr>\n",
       "    <tr>\n",
       "      <th>1003635</th>\n",
       "      <td>United States</td>\n",
       "      <td>1991</td>\n",
       "      <td>1.163194</td>\n",
       "      <td>Zimbabwe</td>\n",
       "      <td>3426.598094</td>\n",
       "    </tr>\n",
       "  </tbody>\n",
       "</table>\n",
       "<p>1003636 rows × 5 columns</p>\n",
       "</div>"
      ],
      "text/plain": [
       "        Country or Area_x  Year  Internet_Users_Pct    Country or Area_y  \\\n",
       "0             Afghanistan  2014            6.390000          Afghanistan   \n",
       "1             Afghanistan  2014            6.390000              Albania   \n",
       "2             Afghanistan  2014            6.390000              Algeria   \n",
       "3             Afghanistan  2014            6.390000               Angola   \n",
       "4             Afghanistan  2014            6.390000  Antigua and Barbuda   \n",
       "...                   ...   ...                 ...                  ...   \n",
       "1003631     United States  1991            1.163194              Vanuatu   \n",
       "1003632     United States  1991            1.163194              Vietnam   \n",
       "1003633     United States  1991            1.163194                World   \n",
       "1003634     United States  1991            1.163194               Zambia   \n",
       "1003635     United States  1991            1.163194             Zimbabwe   \n",
       "\n",
       "                  GDP  \n",
       "0         2102.385234  \n",
       "1        11623.866679  \n",
       "2        11512.705405  \n",
       "3         8239.828837  \n",
       "4        18104.241470  \n",
       "...               ...  \n",
       "1003631   2897.327707  \n",
       "1003632   1736.014139  \n",
       "1003633   9645.256163  \n",
       "1003634   2133.689042  \n",
       "1003635   3426.598094  \n",
       "\n",
       "[1003636 rows x 5 columns]"
      ]
     },
     "execution_count": 100,
     "metadata": {},
     "output_type": "execute_result"
    }
   ],
   "source": [
    "df3.tail(5)\n",
    "df3.rename(columns={'Value_x' : 'Internet_Users_Pct', 'Value_y' : 'GDP'})"
   ]
  },
  {
   "cell_type": "markdown",
   "id": "f56895c1",
   "metadata": {},
   "source": [
    "16"
   ]
  },
  {
   "cell_type": "code",
   "execution_count": 101,
   "id": "393d3026",
   "metadata": {},
   "outputs": [
    {
     "data": {
      "text/html": [
       "<div>\n",
       "<style scoped>\n",
       "    .dataframe tbody tr th:only-of-type {\n",
       "        vertical-align: middle;\n",
       "    }\n",
       "\n",
       "    .dataframe tbody tr th {\n",
       "        vertical-align: top;\n",
       "    }\n",
       "\n",
       "    .dataframe thead th {\n",
       "        text-align: right;\n",
       "    }\n",
       "</style>\n",
       "<table border=\"1\" class=\"dataframe\">\n",
       "  <thead>\n",
       "    <tr style=\"text-align: right;\">\n",
       "      <th></th>\n",
       "      <th>Country or Area_x</th>\n",
       "      <th>Year</th>\n",
       "      <th>Internet_Users_Pct</th>\n",
       "      <th>Country or Area_y</th>\n",
       "      <th>GDP</th>\n",
       "    </tr>\n",
       "  </thead>\n",
       "  <tbody>\n",
       "    <tr>\n",
       "      <th>0</th>\n",
       "      <td>Afghanistan</td>\n",
       "      <td>2014</td>\n",
       "      <td>6.390000</td>\n",
       "      <td>Afghanistan</td>\n",
       "      <td>2102.385234</td>\n",
       "    </tr>\n",
       "    <tr>\n",
       "      <th>1</th>\n",
       "      <td>Afghanistan</td>\n",
       "      <td>2014</td>\n",
       "      <td>6.390000</td>\n",
       "      <td>Albania</td>\n",
       "      <td>11623.866679</td>\n",
       "    </tr>\n",
       "    <tr>\n",
       "      <th>2</th>\n",
       "      <td>Afghanistan</td>\n",
       "      <td>2014</td>\n",
       "      <td>6.390000</td>\n",
       "      <td>Algeria</td>\n",
       "      <td>11512.705405</td>\n",
       "    </tr>\n",
       "    <tr>\n",
       "      <th>3</th>\n",
       "      <td>Afghanistan</td>\n",
       "      <td>2014</td>\n",
       "      <td>6.390000</td>\n",
       "      <td>Angola</td>\n",
       "      <td>8239.828837</td>\n",
       "    </tr>\n",
       "    <tr>\n",
       "      <th>4</th>\n",
       "      <td>Afghanistan</td>\n",
       "      <td>2014</td>\n",
       "      <td>6.390000</td>\n",
       "      <td>Antigua and Barbuda</td>\n",
       "      <td>18104.241470</td>\n",
       "    </tr>\n",
       "    <tr>\n",
       "      <th>...</th>\n",
       "      <td>...</td>\n",
       "      <td>...</td>\n",
       "      <td>...</td>\n",
       "      <td>...</td>\n",
       "      <td>...</td>\n",
       "    </tr>\n",
       "    <tr>\n",
       "      <th>1003631</th>\n",
       "      <td>United States</td>\n",
       "      <td>1991</td>\n",
       "      <td>1.163194</td>\n",
       "      <td>Vanuatu</td>\n",
       "      <td>2897.327707</td>\n",
       "    </tr>\n",
       "    <tr>\n",
       "      <th>1003632</th>\n",
       "      <td>United States</td>\n",
       "      <td>1991</td>\n",
       "      <td>1.163194</td>\n",
       "      <td>Vietnam</td>\n",
       "      <td>1736.014139</td>\n",
       "    </tr>\n",
       "    <tr>\n",
       "      <th>1003633</th>\n",
       "      <td>United States</td>\n",
       "      <td>1991</td>\n",
       "      <td>1.163194</td>\n",
       "      <td>World</td>\n",
       "      <td>9645.256163</td>\n",
       "    </tr>\n",
       "    <tr>\n",
       "      <th>1003634</th>\n",
       "      <td>United States</td>\n",
       "      <td>1991</td>\n",
       "      <td>1.163194</td>\n",
       "      <td>Zambia</td>\n",
       "      <td>2133.689042</td>\n",
       "    </tr>\n",
       "    <tr>\n",
       "      <th>1003635</th>\n",
       "      <td>United States</td>\n",
       "      <td>1991</td>\n",
       "      <td>1.163194</td>\n",
       "      <td>Zimbabwe</td>\n",
       "      <td>3426.598094</td>\n",
       "    </tr>\n",
       "  </tbody>\n",
       "</table>\n",
       "<p>1003636 rows × 5 columns</p>\n",
       "</div>"
      ],
      "text/plain": [
       "        Country or Area_x  Year  Internet_Users_Pct    Country or Area_y  \\\n",
       "0             Afghanistan  2014            6.390000          Afghanistan   \n",
       "1             Afghanistan  2014            6.390000              Albania   \n",
       "2             Afghanistan  2014            6.390000              Algeria   \n",
       "3             Afghanistan  2014            6.390000               Angola   \n",
       "4             Afghanistan  2014            6.390000  Antigua and Barbuda   \n",
       "...                   ...   ...                 ...                  ...   \n",
       "1003631     United States  1991            1.163194              Vanuatu   \n",
       "1003632     United States  1991            1.163194              Vietnam   \n",
       "1003633     United States  1991            1.163194                World   \n",
       "1003634     United States  1991            1.163194               Zambia   \n",
       "1003635     United States  1991            1.163194             Zimbabwe   \n",
       "\n",
       "                  GDP  \n",
       "0         2102.385234  \n",
       "1        11623.866679  \n",
       "2        11512.705405  \n",
       "3         8239.828837  \n",
       "4        18104.241470  \n",
       "...               ...  \n",
       "1003631   2897.327707  \n",
       "1003632   1736.014139  \n",
       "1003633   9645.256163  \n",
       "1003634   2133.689042  \n",
       "1003635   3426.598094  \n",
       "\n",
       "[1003636 rows x 5 columns]"
      ]
     },
     "execution_count": 101,
     "metadata": {},
     "output_type": "execute_result"
    }
   ],
   "source": [
    "filtered_df3= df3[df3.Year.isin([2004, 2009, 2014])]\n",
    "df3.rename(columns={'Value_x' : 'Internet_Users_Pct', 'Value_y' : 'GDP'})"
   ]
  },
  {
   "cell_type": "markdown",
   "id": "94fd87f1",
   "metadata": {},
   "source": [
    "17"
   ]
  },
  {
   "cell_type": "code",
   "execution_count": 102,
   "id": "277571aa",
   "metadata": {},
   "outputs": [
    {
     "data": {
      "text/html": [
       "<div>\n",
       "<style scoped>\n",
       "    .dataframe tbody tr th:only-of-type {\n",
       "        vertical-align: middle;\n",
       "    }\n",
       "\n",
       "    .dataframe tbody tr th {\n",
       "        vertical-align: top;\n",
       "    }\n",
       "\n",
       "    .dataframe thead th {\n",
       "        text-align: right;\n",
       "    }\n",
       "</style>\n",
       "<table border=\"1\" class=\"dataframe\">\n",
       "  <thead>\n",
       "    <tr style=\"text-align: right;\">\n",
       "      <th></th>\n",
       "      <th>Country or Area_x</th>\n",
       "      <th>Year</th>\n",
       "      <th>Internet_Users_Pct</th>\n",
       "      <th>Country or Area_y</th>\n",
       "      <th>GDP</th>\n",
       "    </tr>\n",
       "  </thead>\n",
       "  <tbody>\n",
       "    <tr>\n",
       "      <th>0</th>\n",
       "      <td>Afghanistan</td>\n",
       "      <td>2014</td>\n",
       "      <td>6.390000</td>\n",
       "      <td>Afghanistan</td>\n",
       "      <td>2102.385234</td>\n",
       "    </tr>\n",
       "    <tr>\n",
       "      <th>1</th>\n",
       "      <td>Afghanistan</td>\n",
       "      <td>2014</td>\n",
       "      <td>6.390000</td>\n",
       "      <td>Albania</td>\n",
       "      <td>11623.866679</td>\n",
       "    </tr>\n",
       "    <tr>\n",
       "      <th>2</th>\n",
       "      <td>Afghanistan</td>\n",
       "      <td>2014</td>\n",
       "      <td>6.390000</td>\n",
       "      <td>Algeria</td>\n",
       "      <td>11512.705405</td>\n",
       "    </tr>\n",
       "    <tr>\n",
       "      <th>3</th>\n",
       "      <td>Afghanistan</td>\n",
       "      <td>2014</td>\n",
       "      <td>6.390000</td>\n",
       "      <td>Angola</td>\n",
       "      <td>8239.828837</td>\n",
       "    </tr>\n",
       "    <tr>\n",
       "      <th>4</th>\n",
       "      <td>Afghanistan</td>\n",
       "      <td>2014</td>\n",
       "      <td>6.390000</td>\n",
       "      <td>Antigua and Barbuda</td>\n",
       "      <td>18104.241470</td>\n",
       "    </tr>\n",
       "    <tr>\n",
       "      <th>...</th>\n",
       "      <td>...</td>\n",
       "      <td>...</td>\n",
       "      <td>...</td>\n",
       "      <td>...</td>\n",
       "      <td>...</td>\n",
       "    </tr>\n",
       "    <tr>\n",
       "      <th>1003631</th>\n",
       "      <td>United States</td>\n",
       "      <td>1991</td>\n",
       "      <td>1.163194</td>\n",
       "      <td>Vanuatu</td>\n",
       "      <td>2897.327707</td>\n",
       "    </tr>\n",
       "    <tr>\n",
       "      <th>1003632</th>\n",
       "      <td>United States</td>\n",
       "      <td>1991</td>\n",
       "      <td>1.163194</td>\n",
       "      <td>Vietnam</td>\n",
       "      <td>1736.014139</td>\n",
       "    </tr>\n",
       "    <tr>\n",
       "      <th>1003633</th>\n",
       "      <td>United States</td>\n",
       "      <td>1991</td>\n",
       "      <td>1.163194</td>\n",
       "      <td>World</td>\n",
       "      <td>9645.256163</td>\n",
       "    </tr>\n",
       "    <tr>\n",
       "      <th>1003634</th>\n",
       "      <td>United States</td>\n",
       "      <td>1991</td>\n",
       "      <td>1.163194</td>\n",
       "      <td>Zambia</td>\n",
       "      <td>2133.689042</td>\n",
       "    </tr>\n",
       "    <tr>\n",
       "      <th>1003635</th>\n",
       "      <td>United States</td>\n",
       "      <td>1991</td>\n",
       "      <td>1.163194</td>\n",
       "      <td>Zimbabwe</td>\n",
       "      <td>3426.598094</td>\n",
       "    </tr>\n",
       "  </tbody>\n",
       "</table>\n",
       "<p>1003636 rows × 5 columns</p>\n",
       "</div>"
      ],
      "text/plain": [
       "        Country or Area_x  Year  Internet_Users_Pct    Country or Area_y  \\\n",
       "0             Afghanistan  2014            6.390000          Afghanistan   \n",
       "1             Afghanistan  2014            6.390000              Albania   \n",
       "2             Afghanistan  2014            6.390000              Algeria   \n",
       "3             Afghanistan  2014            6.390000               Angola   \n",
       "4             Afghanistan  2014            6.390000  Antigua and Barbuda   \n",
       "...                   ...   ...                 ...                  ...   \n",
       "1003631     United States  1991            1.163194              Vanuatu   \n",
       "1003632     United States  1991            1.163194              Vietnam   \n",
       "1003633     United States  1991            1.163194                World   \n",
       "1003634     United States  1991            1.163194               Zambia   \n",
       "1003635     United States  1991            1.163194             Zimbabwe   \n",
       "\n",
       "                  GDP  \n",
       "0         2102.385234  \n",
       "1        11623.866679  \n",
       "2        11512.705405  \n",
       "3         8239.828837  \n",
       "4        18104.241470  \n",
       "...               ...  \n",
       "1003631   2897.327707  \n",
       "1003632   1736.014139  \n",
       "1003633   9645.256163  \n",
       "1003634   2133.689042  \n",
       "1003635   3426.598094  \n",
       "\n",
       "[1003636 rows x 5 columns]"
      ]
     },
     "execution_count": 102,
     "metadata": {},
     "output_type": "execute_result"
    }
   ],
   "source": [
    "filtered_df = df3[df3.Year.isin([2004])]\n",
    "df3.rename(columns={'Value_x' : 'Internet_Users_Pct', 'Value_y' : 'GDP'})"
   ]
  },
  {
   "cell_type": "code",
   "execution_count": 103,
   "id": "ae26e505",
   "metadata": {},
   "outputs": [
    {
     "data": {
      "text/html": [
       "<div>\n",
       "<style scoped>\n",
       "    .dataframe tbody tr th:only-of-type {\n",
       "        vertical-align: middle;\n",
       "    }\n",
       "\n",
       "    .dataframe tbody tr th {\n",
       "        vertical-align: top;\n",
       "    }\n",
       "\n",
       "    .dataframe thead th {\n",
       "        text-align: right;\n",
       "    }\n",
       "</style>\n",
       "<table border=\"1\" class=\"dataframe\">\n",
       "  <thead>\n",
       "    <tr style=\"text-align: right;\">\n",
       "      <th></th>\n",
       "      <th>Country or Area_x</th>\n",
       "      <th>Year</th>\n",
       "      <th>Internet_Users_Pct</th>\n",
       "      <th>Country or Area_y</th>\n",
       "      <th>GDP</th>\n",
       "    </tr>\n",
       "  </thead>\n",
       "  <tbody>\n",
       "    <tr>\n",
       "      <th>0</th>\n",
       "      <td>Afghanistan</td>\n",
       "      <td>2014</td>\n",
       "      <td>6.390000</td>\n",
       "      <td>Afghanistan</td>\n",
       "      <td>2102.385234</td>\n",
       "    </tr>\n",
       "    <tr>\n",
       "      <th>1</th>\n",
       "      <td>Afghanistan</td>\n",
       "      <td>2014</td>\n",
       "      <td>6.390000</td>\n",
       "      <td>Albania</td>\n",
       "      <td>11623.866679</td>\n",
       "    </tr>\n",
       "    <tr>\n",
       "      <th>2</th>\n",
       "      <td>Afghanistan</td>\n",
       "      <td>2014</td>\n",
       "      <td>6.390000</td>\n",
       "      <td>Algeria</td>\n",
       "      <td>11512.705405</td>\n",
       "    </tr>\n",
       "    <tr>\n",
       "      <th>3</th>\n",
       "      <td>Afghanistan</td>\n",
       "      <td>2014</td>\n",
       "      <td>6.390000</td>\n",
       "      <td>Angola</td>\n",
       "      <td>8239.828837</td>\n",
       "    </tr>\n",
       "    <tr>\n",
       "      <th>4</th>\n",
       "      <td>Afghanistan</td>\n",
       "      <td>2014</td>\n",
       "      <td>6.390000</td>\n",
       "      <td>Antigua and Barbuda</td>\n",
       "      <td>18104.241470</td>\n",
       "    </tr>\n",
       "    <tr>\n",
       "      <th>...</th>\n",
       "      <td>...</td>\n",
       "      <td>...</td>\n",
       "      <td>...</td>\n",
       "      <td>...</td>\n",
       "      <td>...</td>\n",
       "    </tr>\n",
       "    <tr>\n",
       "      <th>1003631</th>\n",
       "      <td>United States</td>\n",
       "      <td>1991</td>\n",
       "      <td>1.163194</td>\n",
       "      <td>Vanuatu</td>\n",
       "      <td>2897.327707</td>\n",
       "    </tr>\n",
       "    <tr>\n",
       "      <th>1003632</th>\n",
       "      <td>United States</td>\n",
       "      <td>1991</td>\n",
       "      <td>1.163194</td>\n",
       "      <td>Vietnam</td>\n",
       "      <td>1736.014139</td>\n",
       "    </tr>\n",
       "    <tr>\n",
       "      <th>1003633</th>\n",
       "      <td>United States</td>\n",
       "      <td>1991</td>\n",
       "      <td>1.163194</td>\n",
       "      <td>World</td>\n",
       "      <td>9645.256163</td>\n",
       "    </tr>\n",
       "    <tr>\n",
       "      <th>1003634</th>\n",
       "      <td>United States</td>\n",
       "      <td>1991</td>\n",
       "      <td>1.163194</td>\n",
       "      <td>Zambia</td>\n",
       "      <td>2133.689042</td>\n",
       "    </tr>\n",
       "    <tr>\n",
       "      <th>1003635</th>\n",
       "      <td>United States</td>\n",
       "      <td>1991</td>\n",
       "      <td>1.163194</td>\n",
       "      <td>Zimbabwe</td>\n",
       "      <td>3426.598094</td>\n",
       "    </tr>\n",
       "  </tbody>\n",
       "</table>\n",
       "<p>1003636 rows × 5 columns</p>\n",
       "</div>"
      ],
      "text/plain": [
       "        Country or Area_x  Year  Internet_Users_Pct    Country or Area_y  \\\n",
       "0             Afghanistan  2014            6.390000          Afghanistan   \n",
       "1             Afghanistan  2014            6.390000              Albania   \n",
       "2             Afghanistan  2014            6.390000              Algeria   \n",
       "3             Afghanistan  2014            6.390000               Angola   \n",
       "4             Afghanistan  2014            6.390000  Antigua and Barbuda   \n",
       "...                   ...   ...                 ...                  ...   \n",
       "1003631     United States  1991            1.163194              Vanuatu   \n",
       "1003632     United States  1991            1.163194              Vietnam   \n",
       "1003633     United States  1991            1.163194                World   \n",
       "1003634     United States  1991            1.163194               Zambia   \n",
       "1003635     United States  1991            1.163194             Zimbabwe   \n",
       "\n",
       "                  GDP  \n",
       "0         2102.385234  \n",
       "1        11623.866679  \n",
       "2        11512.705405  \n",
       "3         8239.828837  \n",
       "4        18104.241470  \n",
       "...               ...  \n",
       "1003631   2897.327707  \n",
       "1003632   1736.014139  \n",
       "1003633   9645.256163  \n",
       "1003634   2133.689042  \n",
       "1003635   3426.598094  \n",
       "\n",
       "[1003636 rows x 5 columns]"
      ]
     },
     "execution_count": 103,
     "metadata": {},
     "output_type": "execute_result"
    }
   ],
   "source": [
    "filtered_df2 = df3[df3.Year.isin([2009])]\n",
    "df3.rename(columns={'Value_x' : 'Internet_Users_Pct', 'Value_y' : 'GDP'})"
   ]
  },
  {
   "cell_type": "code",
   "execution_count": 104,
   "id": "12e35b09",
   "metadata": {},
   "outputs": [
    {
     "data": {
      "text/html": [
       "<div>\n",
       "<style scoped>\n",
       "    .dataframe tbody tr th:only-of-type {\n",
       "        vertical-align: middle;\n",
       "    }\n",
       "\n",
       "    .dataframe tbody tr th {\n",
       "        vertical-align: top;\n",
       "    }\n",
       "\n",
       "    .dataframe thead th {\n",
       "        text-align: right;\n",
       "    }\n",
       "</style>\n",
       "<table border=\"1\" class=\"dataframe\">\n",
       "  <thead>\n",
       "    <tr style=\"text-align: right;\">\n",
       "      <th></th>\n",
       "      <th>Country or Area_x</th>\n",
       "      <th>Year</th>\n",
       "      <th>Internet_Users_Pct</th>\n",
       "      <th>Country or Area_y</th>\n",
       "      <th>GDP</th>\n",
       "    </tr>\n",
       "  </thead>\n",
       "  <tbody>\n",
       "    <tr>\n",
       "      <th>0</th>\n",
       "      <td>Afghanistan</td>\n",
       "      <td>2014</td>\n",
       "      <td>6.390000</td>\n",
       "      <td>Afghanistan</td>\n",
       "      <td>2102.385234</td>\n",
       "    </tr>\n",
       "    <tr>\n",
       "      <th>1</th>\n",
       "      <td>Afghanistan</td>\n",
       "      <td>2014</td>\n",
       "      <td>6.390000</td>\n",
       "      <td>Albania</td>\n",
       "      <td>11623.866679</td>\n",
       "    </tr>\n",
       "    <tr>\n",
       "      <th>2</th>\n",
       "      <td>Afghanistan</td>\n",
       "      <td>2014</td>\n",
       "      <td>6.390000</td>\n",
       "      <td>Algeria</td>\n",
       "      <td>11512.705405</td>\n",
       "    </tr>\n",
       "    <tr>\n",
       "      <th>3</th>\n",
       "      <td>Afghanistan</td>\n",
       "      <td>2014</td>\n",
       "      <td>6.390000</td>\n",
       "      <td>Angola</td>\n",
       "      <td>8239.828837</td>\n",
       "    </tr>\n",
       "    <tr>\n",
       "      <th>4</th>\n",
       "      <td>Afghanistan</td>\n",
       "      <td>2014</td>\n",
       "      <td>6.390000</td>\n",
       "      <td>Antigua and Barbuda</td>\n",
       "      <td>18104.241470</td>\n",
       "    </tr>\n",
       "    <tr>\n",
       "      <th>...</th>\n",
       "      <td>...</td>\n",
       "      <td>...</td>\n",
       "      <td>...</td>\n",
       "      <td>...</td>\n",
       "      <td>...</td>\n",
       "    </tr>\n",
       "    <tr>\n",
       "      <th>1003631</th>\n",
       "      <td>United States</td>\n",
       "      <td>1991</td>\n",
       "      <td>1.163194</td>\n",
       "      <td>Vanuatu</td>\n",
       "      <td>2897.327707</td>\n",
       "    </tr>\n",
       "    <tr>\n",
       "      <th>1003632</th>\n",
       "      <td>United States</td>\n",
       "      <td>1991</td>\n",
       "      <td>1.163194</td>\n",
       "      <td>Vietnam</td>\n",
       "      <td>1736.014139</td>\n",
       "    </tr>\n",
       "    <tr>\n",
       "      <th>1003633</th>\n",
       "      <td>United States</td>\n",
       "      <td>1991</td>\n",
       "      <td>1.163194</td>\n",
       "      <td>World</td>\n",
       "      <td>9645.256163</td>\n",
       "    </tr>\n",
       "    <tr>\n",
       "      <th>1003634</th>\n",
       "      <td>United States</td>\n",
       "      <td>1991</td>\n",
       "      <td>1.163194</td>\n",
       "      <td>Zambia</td>\n",
       "      <td>2133.689042</td>\n",
       "    </tr>\n",
       "    <tr>\n",
       "      <th>1003635</th>\n",
       "      <td>United States</td>\n",
       "      <td>1991</td>\n",
       "      <td>1.163194</td>\n",
       "      <td>Zimbabwe</td>\n",
       "      <td>3426.598094</td>\n",
       "    </tr>\n",
       "  </tbody>\n",
       "</table>\n",
       "<p>1003636 rows × 5 columns</p>\n",
       "</div>"
      ],
      "text/plain": [
       "        Country or Area_x  Year  Internet_Users_Pct    Country or Area_y  \\\n",
       "0             Afghanistan  2014            6.390000          Afghanistan   \n",
       "1             Afghanistan  2014            6.390000              Albania   \n",
       "2             Afghanistan  2014            6.390000              Algeria   \n",
       "3             Afghanistan  2014            6.390000               Angola   \n",
       "4             Afghanistan  2014            6.390000  Antigua and Barbuda   \n",
       "...                   ...   ...                 ...                  ...   \n",
       "1003631     United States  1991            1.163194              Vanuatu   \n",
       "1003632     United States  1991            1.163194              Vietnam   \n",
       "1003633     United States  1991            1.163194                World   \n",
       "1003634     United States  1991            1.163194               Zambia   \n",
       "1003635     United States  1991            1.163194             Zimbabwe   \n",
       "\n",
       "                  GDP  \n",
       "0         2102.385234  \n",
       "1        11623.866679  \n",
       "2        11512.705405  \n",
       "3         8239.828837  \n",
       "4        18104.241470  \n",
       "...               ...  \n",
       "1003631   2897.327707  \n",
       "1003632   1736.014139  \n",
       "1003633   9645.256163  \n",
       "1003634   2133.689042  \n",
       "1003635   3426.598094  \n",
       "\n",
       "[1003636 rows x 5 columns]"
      ]
     },
     "execution_count": 104,
     "metadata": {},
     "output_type": "execute_result"
    }
   ],
   "source": [
    "filtered_df4 = df3[df3.Year.isin([2014])]\n",
    "df3.rename(columns={'Value_x' : 'Internet_Users_Pct', 'Value_y' : 'GDP'})"
   ]
  },
  {
   "cell_type": "markdown",
   "id": "e25d2cd3",
   "metadata": {},
   "source": [
    "18"
   ]
  },
  {
   "cell_type": "code",
   "execution_count": 105,
   "id": "3e401db0",
   "metadata": {},
   "outputs": [
    {
     "data": {
      "text/html": [
       "<div>\n",
       "<style scoped>\n",
       "    .dataframe tbody tr th:only-of-type {\n",
       "        vertical-align: middle;\n",
       "    }\n",
       "\n",
       "    .dataframe tbody tr th {\n",
       "        vertical-align: top;\n",
       "    }\n",
       "\n",
       "    .dataframe thead th {\n",
       "        text-align: right;\n",
       "    }\n",
       "</style>\n",
       "<table border=\"1\" class=\"dataframe\">\n",
       "  <thead>\n",
       "    <tr style=\"text-align: right;\">\n",
       "      <th></th>\n",
       "      <th>Country or Area_x</th>\n",
       "      <th>Year</th>\n",
       "      <th>Value_x</th>\n",
       "      <th>Country or Area_y</th>\n",
       "      <th>Value_y</th>\n",
       "    </tr>\n",
       "  </thead>\n",
       "  <tbody>\n",
       "    <tr>\n",
       "      <th>19754</th>\n",
       "      <td>Iceland</td>\n",
       "      <td>2014</td>\n",
       "      <td>98.16</td>\n",
       "      <td>Afghanistan</td>\n",
       "      <td>2102.385234</td>\n",
       "    </tr>\n",
       "    <tr>\n",
       "      <th>19755</th>\n",
       "      <td>Iceland</td>\n",
       "      <td>2014</td>\n",
       "      <td>98.16</td>\n",
       "      <td>Albania</td>\n",
       "      <td>11623.866679</td>\n",
       "    </tr>\n",
       "    <tr>\n",
       "      <th>19756</th>\n",
       "      <td>Iceland</td>\n",
       "      <td>2014</td>\n",
       "      <td>98.16</td>\n",
       "      <td>Algeria</td>\n",
       "      <td>11512.705405</td>\n",
       "    </tr>\n",
       "  </tbody>\n",
       "</table>\n",
       "</div>"
      ],
      "text/plain": [
       "      Country or Area_x  Year  Value_x Country or Area_y       Value_y\n",
       "19754           Iceland  2014    98.16       Afghanistan   2102.385234\n",
       "19755           Iceland  2014    98.16           Albania  11623.866679\n",
       "19756           Iceland  2014    98.16           Algeria  11512.705405"
      ]
     },
     "execution_count": 105,
     "metadata": {},
     "output_type": "execute_result"
    }
   ],
   "source": [
    "df3.nlargest(3, 'Value_x')"
   ]
  },
  {
   "cell_type": "markdown",
   "id": "3366e1c0",
   "metadata": {},
   "source": [
    "19"
   ]
  },
  {
   "cell_type": "code",
   "execution_count": 106,
   "id": "33e5514c",
   "metadata": {},
   "outputs": [
    {
     "data": {
      "text/html": [
       "<div>\n",
       "<style scoped>\n",
       "    .dataframe tbody tr th:only-of-type {\n",
       "        vertical-align: middle;\n",
       "    }\n",
       "\n",
       "    .dataframe tbody tr th {\n",
       "        vertical-align: top;\n",
       "    }\n",
       "\n",
       "    .dataframe thead th {\n",
       "        text-align: right;\n",
       "    }\n",
       "</style>\n",
       "<table border=\"1\" class=\"dataframe\">\n",
       "  <thead>\n",
       "    <tr style=\"text-align: right;\">\n",
       "      <th></th>\n",
       "      <th>Country or Area_x</th>\n",
       "      <th>Year</th>\n",
       "      <th>Value_x</th>\n",
       "      <th>Country or Area_y</th>\n",
       "      <th>Value_y</th>\n",
       "    </tr>\n",
       "  </thead>\n",
       "  <tbody>\n",
       "    <tr>\n",
       "      <th>11662</th>\n",
       "      <td>Dem. People's Rep. of Korea</td>\n",
       "      <td>2014</td>\n",
       "      <td>0.0</td>\n",
       "      <td>Afghanistan</td>\n",
       "      <td>2102.385234</td>\n",
       "    </tr>\n",
       "    <tr>\n",
       "      <th>11663</th>\n",
       "      <td>Dem. People's Rep. of Korea</td>\n",
       "      <td>2014</td>\n",
       "      <td>0.0</td>\n",
       "      <td>Albania</td>\n",
       "      <td>11623.866679</td>\n",
       "    </tr>\n",
       "    <tr>\n",
       "      <th>11664</th>\n",
       "      <td>Dem. People's Rep. of Korea</td>\n",
       "      <td>2014</td>\n",
       "      <td>0.0</td>\n",
       "      <td>Algeria</td>\n",
       "      <td>11512.705405</td>\n",
       "    </tr>\n",
       "  </tbody>\n",
       "</table>\n",
       "</div>"
      ],
      "text/plain": [
       "                 Country or Area_x  Year  Value_x Country or Area_y  \\\n",
       "11662  Dem. People's Rep. of Korea  2014      0.0       Afghanistan   \n",
       "11663  Dem. People's Rep. of Korea  2014      0.0           Albania   \n",
       "11664  Dem. People's Rep. of Korea  2014      0.0           Algeria   \n",
       "\n",
       "            Value_y  \n",
       "11662   2102.385234  \n",
       "11663  11623.866679  \n",
       "11664  11512.705405  "
      ]
     },
     "execution_count": 106,
     "metadata": {},
     "output_type": "execute_result"
    }
   ],
   "source": [
    "df3.loc[(df3['Year']== 2014)].nsmallest(3,'Value_x')"
   ]
  },
  {
   "cell_type": "markdown",
   "id": "b3cf2021",
   "metadata": {},
   "source": [
    "20"
   ]
  },
  {
   "cell_type": "code",
   "execution_count": 107,
   "id": "eb04d60c",
   "metadata": {},
   "outputs": [
    {
     "data": {
      "text/html": [
       "<div>\n",
       "<style scoped>\n",
       "    .dataframe tbody tr th:only-of-type {\n",
       "        vertical-align: middle;\n",
       "    }\n",
       "\n",
       "    .dataframe tbody tr th {\n",
       "        vertical-align: top;\n",
       "    }\n",
       "\n",
       "    .dataframe thead th {\n",
       "        text-align: right;\n",
       "    }\n",
       "</style>\n",
       "<table border=\"1\" class=\"dataframe\">\n",
       "  <thead>\n",
       "    <tr style=\"text-align: right;\">\n",
       "      <th></th>\n",
       "      <th>Country or Area_x</th>\n",
       "      <th>Year</th>\n",
       "      <th>Value_x</th>\n",
       "      <th>Country or Area_y</th>\n",
       "      <th>Value_y</th>\n",
       "    </tr>\n",
       "  </thead>\n",
       "  <tbody>\n",
       "    <tr>\n",
       "      <th>490052</th>\n",
       "      <td>Dem. People's Rep. of Korea</td>\n",
       "      <td>2004</td>\n",
       "      <td>0.0</td>\n",
       "      <td>Afghanistan</td>\n",
       "      <td>1200.278256</td>\n",
       "    </tr>\n",
       "    <tr>\n",
       "      <th>490053</th>\n",
       "      <td>Dem. People's Rep. of Korea</td>\n",
       "      <td>2004</td>\n",
       "      <td>0.0</td>\n",
       "      <td>Albania</td>\n",
       "      <td>7604.838002</td>\n",
       "    </tr>\n",
       "    <tr>\n",
       "      <th>490054</th>\n",
       "      <td>Dem. People's Rep. of Korea</td>\n",
       "      <td>2004</td>\n",
       "      <td>0.0</td>\n",
       "      <td>Algeria</td>\n",
       "      <td>10058.435939</td>\n",
       "    </tr>\n",
       "  </tbody>\n",
       "</table>\n",
       "</div>"
      ],
      "text/plain": [
       "                  Country or Area_x  Year  Value_x Country or Area_y  \\\n",
       "490052  Dem. People's Rep. of Korea  2004      0.0       Afghanistan   \n",
       "490053  Dem. People's Rep. of Korea  2004      0.0           Albania   \n",
       "490054  Dem. People's Rep. of Korea  2004      0.0           Algeria   \n",
       "\n",
       "             Value_y  \n",
       "490052   1200.278256  \n",
       "490053   7604.838002  \n",
       "490054  10058.435939  "
      ]
     },
     "execution_count": 107,
     "metadata": {},
     "output_type": "execute_result"
    }
   ],
   "source": [
    "df3.loc[(df3['Year']== 2004)].nsmallest(3,'Value_x')"
   ]
  },
  {
   "cell_type": "code",
   "execution_count": 108,
   "id": "8a924986",
   "metadata": {},
   "outputs": [
    {
     "data": {
      "text/html": [
       "<div>\n",
       "<style scoped>\n",
       "    .dataframe tbody tr th:only-of-type {\n",
       "        vertical-align: middle;\n",
       "    }\n",
       "\n",
       "    .dataframe tbody tr th {\n",
       "        vertical-align: top;\n",
       "    }\n",
       "\n",
       "    .dataframe thead th {\n",
       "        text-align: right;\n",
       "    }\n",
       "</style>\n",
       "<table border=\"1\" class=\"dataframe\">\n",
       "  <thead>\n",
       "    <tr style=\"text-align: right;\">\n",
       "      <th></th>\n",
       "      <th>Country or Area_x</th>\n",
       "      <th>Year</th>\n",
       "      <th>Value_x</th>\n",
       "      <th>Country or Area_y</th>\n",
       "      <th>Value_y</th>\n",
       "    </tr>\n",
       "  </thead>\n",
       "  <tbody>\n",
       "    <tr>\n",
       "      <th>252794</th>\n",
       "      <td>Dem. People's Rep. of Korea</td>\n",
       "      <td>2009</td>\n",
       "      <td>0.0</td>\n",
       "      <td>Afghanistan</td>\n",
       "      <td>1758.904043</td>\n",
       "    </tr>\n",
       "    <tr>\n",
       "      <th>252795</th>\n",
       "      <td>Dem. People's Rep. of Korea</td>\n",
       "      <td>2009</td>\n",
       "      <td>0.0</td>\n",
       "      <td>Albania</td>\n",
       "      <td>10346.864199</td>\n",
       "    </tr>\n",
       "    <tr>\n",
       "      <th>252796</th>\n",
       "      <td>Dem. People's Rep. of Korea</td>\n",
       "      <td>2009</td>\n",
       "      <td>0.0</td>\n",
       "      <td>Algeria</td>\n",
       "      <td>10782.361398</td>\n",
       "    </tr>\n",
       "  </tbody>\n",
       "</table>\n",
       "</div>"
      ],
      "text/plain": [
       "                  Country or Area_x  Year  Value_x Country or Area_y  \\\n",
       "252794  Dem. People's Rep. of Korea  2009      0.0       Afghanistan   \n",
       "252795  Dem. People's Rep. of Korea  2009      0.0           Albania   \n",
       "252796  Dem. People's Rep. of Korea  2009      0.0           Algeria   \n",
       "\n",
       "             Value_y  \n",
       "252794   1758.904043  \n",
       "252795  10346.864199  \n",
       "252796  10782.361398  "
      ]
     },
     "execution_count": 108,
     "metadata": {},
     "output_type": "execute_result"
    }
   ],
   "source": [
    "df3.loc[(df3['Year']== 2009)].nsmallest(3,'Value_x')"
   ]
  },
  {
   "cell_type": "markdown",
   "id": "8ac80300",
   "metadata": {},
   "source": [
    "21"
   ]
  },
  {
   "cell_type": "code",
   "execution_count": 109,
   "id": "f6717ed6",
   "metadata": {},
   "outputs": [
    {
     "data": {
      "text/html": [
       "<div>\n",
       "<style scoped>\n",
       "    .dataframe tbody tr th:only-of-type {\n",
       "        vertical-align: middle;\n",
       "    }\n",
       "\n",
       "    .dataframe tbody tr th {\n",
       "        vertical-align: top;\n",
       "    }\n",
       "\n",
       "    .dataframe thead th {\n",
       "        text-align: right;\n",
       "    }\n",
       "</style>\n",
       "<table border=\"1\" class=\"dataframe\">\n",
       "  <thead>\n",
       "    <tr style=\"text-align: right;\">\n",
       "      <th></th>\n",
       "      <th>Country or Area_x</th>\n",
       "      <th>Year</th>\n",
       "      <th>Value_x</th>\n",
       "      <th>Country or Area_y</th>\n",
       "      <th>Value_y</th>\n",
       "    </tr>\n",
       "  </thead>\n",
       "  <tbody>\n",
       "    <tr>\n",
       "      <th>128</th>\n",
       "      <td>Afghanistan</td>\n",
       "      <td>2014</td>\n",
       "      <td>6.39</td>\n",
       "      <td>Macao SAR, China</td>\n",
       "      <td>156514.13385</td>\n",
       "    </tr>\n",
       "    <tr>\n",
       "      <th>366</th>\n",
       "      <td>Albania</td>\n",
       "      <td>2014</td>\n",
       "      <td>60.10</td>\n",
       "      <td>Macao SAR, China</td>\n",
       "      <td>156514.13385</td>\n",
       "    </tr>\n",
       "    <tr>\n",
       "      <th>604</th>\n",
       "      <td>Algeria</td>\n",
       "      <td>2014</td>\n",
       "      <td>18.09</td>\n",
       "      <td>Macao SAR, China</td>\n",
       "      <td>156514.13385</td>\n",
       "    </tr>\n",
       "  </tbody>\n",
       "</table>\n",
       "</div>"
      ],
      "text/plain": [
       "    Country or Area_x  Year  Value_x Country or Area_y       Value_y\n",
       "128       Afghanistan  2014     6.39  Macao SAR, China  156514.13385\n",
       "366           Albania  2014    60.10  Macao SAR, China  156514.13385\n",
       "604           Algeria  2014    18.09  Macao SAR, China  156514.13385"
      ]
     },
     "execution_count": 109,
     "metadata": {},
     "output_type": "execute_result"
    }
   ],
   "source": [
    "df3.loc[(df3['Year']== 2014)].nlargest(3,'Value_y')"
   ]
  },
  {
   "cell_type": "markdown",
   "id": "c3ed896b",
   "metadata": {},
   "source": [
    "22"
   ]
  },
  {
   "cell_type": "code",
   "execution_count": 110,
   "id": "0a0bd49e",
   "metadata": {},
   "outputs": [
    {
     "data": {
      "text/html": [
       "<div>\n",
       "<style scoped>\n",
       "    .dataframe tbody tr th:only-of-type {\n",
       "        vertical-align: middle;\n",
       "    }\n",
       "\n",
       "    .dataframe tbody tr th {\n",
       "        vertical-align: top;\n",
       "    }\n",
       "\n",
       "    .dataframe thead th {\n",
       "        text-align: right;\n",
       "    }\n",
       "</style>\n",
       "<table border=\"1\" class=\"dataframe\">\n",
       "  <thead>\n",
       "    <tr style=\"text-align: right;\">\n",
       "      <th></th>\n",
       "      <th>Country or Area_x</th>\n",
       "      <th>Year</th>\n",
       "      <th>Value_x</th>\n",
       "      <th>Country or Area_y</th>\n",
       "      <th>Value_y</th>\n",
       "    </tr>\n",
       "  </thead>\n",
       "  <tbody>\n",
       "    <tr>\n",
       "      <th>241258</th>\n",
       "      <td>Afghanistan</td>\n",
       "      <td>2009</td>\n",
       "      <td>3.55</td>\n",
       "      <td>Burundi</td>\n",
       "      <td>831.564131</td>\n",
       "    </tr>\n",
       "    <tr>\n",
       "      <th>241494</th>\n",
       "      <td>Albania</td>\n",
       "      <td>2009</td>\n",
       "      <td>41.20</td>\n",
       "      <td>Burundi</td>\n",
       "      <td>831.564131</td>\n",
       "    </tr>\n",
       "    <tr>\n",
       "      <th>241730</th>\n",
       "      <td>Algeria</td>\n",
       "      <td>2009</td>\n",
       "      <td>11.23</td>\n",
       "      <td>Burundi</td>\n",
       "      <td>831.564131</td>\n",
       "    </tr>\n",
       "  </tbody>\n",
       "</table>\n",
       "</div>"
      ],
      "text/plain": [
       "       Country or Area_x  Year  Value_x Country or Area_y     Value_y\n",
       "241258       Afghanistan  2009     3.55           Burundi  831.564131\n",
       "241494           Albania  2009    41.20           Burundi  831.564131\n",
       "241730           Algeria  2009    11.23           Burundi  831.564131"
      ]
     },
     "execution_count": 110,
     "metadata": {},
     "output_type": "execute_result"
    }
   ],
   "source": [
    "df3.loc[(df3['Year']== 2009)].nsmallest(3,'Value_y')"
   ]
  },
  {
   "cell_type": "code",
   "execution_count": 111,
   "id": "ce3830c9",
   "metadata": {},
   "outputs": [
    {
     "data": {
      "text/plain": [
       "<AxesSubplot:xlabel='Value_x', ylabel='Value_y'>"
      ]
     },
     "execution_count": 111,
     "metadata": {},
     "output_type": "execute_result"
    },
    {
     "data": {
      "image/png": "[encoded data removed]",
      "text/plain": [
       "<Figure size 432x288 with 1 Axes>"
      ]
     },
     "metadata": {
      "needs_background": "light"
     },
     "output_type": "display_data"
    }
   ],
   "source": [
    "filtered_df.plot.scatter( x = 'Value_x', y = 'Value_y')"
   ]
  },
  {
   "cell_type": "code",
   "execution_count": 112,
   "id": "94a49473",
   "metadata": {},
   "outputs": [
    {
     "data": {
      "text/plain": [
       "<AxesSubplot:xlabel='Value_x', ylabel='Value_y'>"
      ]
     },
     "execution_count": 112,
     "metadata": {},
     "output_type": "execute_result"
    },
    {
     "data": {
      "image/png": "[encoded data removed]",
      "text/plain": [
       "<Figure size 432x288 with 1 Axes>"
      ]
     },
     "metadata": {
      "needs_background": "light"
     },
     "output_type": "display_data"
    }
   ],
   "source": [
    "filtered_df2.plot.scatter( x = 'Value_x', y = 'Value_y')"
   ]
  },
  {
   "cell_type": "code",
   "execution_count": 113,
   "id": "c5f8d52e",
   "metadata": {},
   "outputs": [
    {
     "data": {
      "text/plain": [
       "<AxesSubplot:xlabel='Value_x', ylabel='Value_y'>"
      ]
     },
     "execution_count": 113,
     "metadata": {},
     "output_type": "execute_result"
    },
    {
     "data": {
      "image/png": "[encoded data removed]",
      "text/plain": [
       "<Figure size 432x288 with 1 Axes>"
      ]
     },
     "metadata": {
      "needs_background": "light"
     },
     "output_type": "display_data"
    }
   ],
   "source": [
    "filtered_df3.plot.scatter( x = 'Value_x', y = 'Value_y')"
   ]
  },
  {
   "cell_type": "markdown",
   "id": "453f0901",
   "metadata": {},
   "source": [
    "#working on it"
   ]
  },
  {
   "cell_type": "markdown",
   "id": "17cb2619",
   "metadata": {},
   "source": [
    "24"
   ]
  },
  {
   "cell_type": "markdown",
   "id": "0155efbd",
   "metadata": {},
   "source": [
    "2014 has more separation"
   ]
  },
  {
   "cell_type": "markdown",
   "id": "cb28b42c",
   "metadata": {},
   "source": [
    "25"
   ]
  },
  {
   "cell_type": "code",
   "execution_count": 114,
   "id": "2e8db17e",
   "metadata": {},
   "outputs": [
    {
     "data": {
      "text/plain": [
       "array([[<AxesSubplot:title={'center':'2004'}>,\n",
       "        <AxesSubplot:title={'center':'2009'}>],\n",
       "       [<AxesSubplot:title={'center':'2014'}>, <AxesSubplot:>]],\n",
       "      dtype=object)"
      ]
     },
     "execution_count": 114,
     "metadata": {},
     "output_type": "execute_result"
    },
    {
     "data": {
      "image/png": "[encoded data removed]",
      "text/plain": [
       "<Figure size 432x288 with 4 Axes>"
      ]
     },
     "metadata": {
      "needs_background": "light"
     },
     "output_type": "display_data"
    }
   ],
   "source": [
    "filtered_df3.hist(column= 'Value_y', by= 'Year')"
   ]
  },
  {
   "cell_type": "code",
   "execution_count": 115,
   "id": "50e95b4f",
   "metadata": {},
   "outputs": [
    {
     "data": {
      "text/plain": [
       "26"
      ]
     },
     "execution_count": 115,
     "metadata": {},
     "output_type": "execute_result"
    }
   ],
   "source": [
    "26"
   ]
  },
  {
   "cell_type": "code",
   "execution_count": 116,
   "id": "4f609099",
   "metadata": {},
   "outputs": [
    {
     "data": {
      "text/plain": [
       "array([[<AxesSubplot:title={'center':'2004'}>,\n",
       "        <AxesSubplot:title={'center':'2009'}>],\n",
       "       [<AxesSubplot:title={'center':'2014'}>, <AxesSubplot:>]],\n",
       "      dtype=object)"
      ]
     },
     "execution_count": 116,
     "metadata": {},
     "output_type": "execute_result"
    },
    {
     "data": {
      "image/png": "[encoded data removed]",
      "text/plain": [
       "<Figure size 432x288 with 4 Axes>"
      ]
     },
     "metadata": {
      "needs_background": "light"
     },
     "output_type": "display_data"
    }
   ],
   "source": [
    "filtered_df3.hist(column= 'Value_x', by= 'Year')"
   ]
  },
  {
   "cell_type": "markdown",
   "id": "5465cc34",
   "metadata": {},
   "source": [
    "27"
   ]
  },
  {
   "cell_type": "code",
   "execution_count": 154,
   "id": "fce58662",
   "metadata": {
    "scrolled": true
   },
   "outputs": [
    {
     "data": {
      "text/html": [
       "<div>\n",
       "<style scoped>\n",
       "    .dataframe tbody tr th:only-of-type {\n",
       "        vertical-align: middle;\n",
       "    }\n",
       "\n",
       "    .dataframe tbody tr th {\n",
       "        vertical-align: top;\n",
       "    }\n",
       "\n",
       "    .dataframe thead th {\n",
       "        text-align: right;\n",
       "    }\n",
       "</style>\n",
       "<table border=\"1\" class=\"dataframe\">\n",
       "  <thead>\n",
       "    <tr style=\"text-align: right;\">\n",
       "      <th></th>\n",
       "      <th>Country or Area_x</th>\n",
       "      <th>Year</th>\n",
       "      <th>Value_x</th>\n",
       "      <th>Country or Area_y</th>\n",
       "      <th>Value_y</th>\n",
       "    </tr>\n",
       "  </thead>\n",
       "  <tbody>\n",
       "    <tr>\n",
       "      <th>717</th>\n",
       "      <td>Andorra</td>\n",
       "      <td>2014</td>\n",
       "      <td>95.90</td>\n",
       "      <td>Angola</td>\n",
       "      <td>8239.828837</td>\n",
       "    </tr>\n",
       "    <tr>\n",
       "      <th>11900</th>\n",
       "      <td>Denmark</td>\n",
       "      <td>2014</td>\n",
       "      <td>95.99</td>\n",
       "      <td>Afghanistan</td>\n",
       "      <td>2102.385234</td>\n",
       "    </tr>\n",
       "    <tr>\n",
       "      <th>32485</th>\n",
       "      <td>Norway</td>\n",
       "      <td>2014</td>\n",
       "      <td>96.30</td>\n",
       "      <td>Latvia</td>\n",
       "      <td>25468.057690</td>\n",
       "    </tr>\n",
       "    <tr>\n",
       "      <th>4762</th>\n",
       "      <td>Bermuda</td>\n",
       "      <td>2014</td>\n",
       "      <td>96.80</td>\n",
       "      <td>Algeria</td>\n",
       "      <td>11512.705405</td>\n",
       "    </tr>\n",
       "    <tr>\n",
       "      <th>19873</th>\n",
       "      <td>Iceland</td>\n",
       "      <td>2014</td>\n",
       "      <td>98.16</td>\n",
       "      <td>Lebanon</td>\n",
       "      <td>16966.739879</td>\n",
       "    </tr>\n",
       "  </tbody>\n",
       "</table>\n",
       "</div>"
      ],
      "text/plain": [
       "      Country or Area_x  Year  Value_x Country or Area_y       Value_y\n",
       "717             Andorra  2014    95.90            Angola   8239.828837\n",
       "11900           Denmark  2014    95.99       Afghanistan   2102.385234\n",
       "32485            Norway  2014    96.30            Latvia  25468.057690\n",
       "4762            Bermuda  2014    96.80           Algeria  11512.705405\n",
       "19873           Iceland  2014    98.16           Lebanon  16966.739879"
      ]
     },
     "execution_count": 154,
     "metadata": {},
     "output_type": "execute_result"
    }
   ],
   "source": [
    "filtered_df3.sort_values('Value_x', ascending=False).drop_duplicates('Value_x').head(5).sort_values('Value_x')"
   ]
  },
  {
   "cell_type": "markdown",
   "id": "7c77fc67",
   "metadata": {},
   "source": [
    "28 top 5 internet 2004, 2009, 2014"
   ]
  },
  {
   "cell_type": "code",
   "execution_count": 153,
   "id": "c5c95770",
   "metadata": {},
   "outputs": [
    {
     "name": "stdout",
     "output_type": "stream",
     "text": [
      "       Country or Area_x  Year  Value_x Country or Area_y      Value_y\n",
      "19754            Iceland  2014    98.16       Afghanistan  2102.385234\n",
      "4760             Bermuda  2014    96.80       Afghanistan  2102.385234\n",
      "32368             Norway  2014    96.30       Afghanistan  2102.385234\n",
      "11900            Denmark  2014    95.99       Afghanistan  2102.385234\n",
      "714              Andorra  2014    95.90       Afghanistan  2102.385234\n",
      "261290           Iceland  2009    93.00       Afghanistan  1758.904043\n",
      "273798            Norway  2009    92.08       Afghanistan  1758.904043\n",
      "282294            Sweden  2009    91.00       Afghanistan  1758.904043\n",
      "272382       Netherlands  2009    89.63       Afghanistan  1758.904043\n",
      "267190        Luxembourg  2009    87.31       Afghanistan  1758.904043\n",
      "519770            Sweden  2004    83.89       Afghanistan  1200.278256\n",
      "498242           Iceland  2004    83.88       Afghanistan  1200.278256\n",
      "490286           Denmark  2004    80.93       Afghanistan  1200.278256\n",
      "510644            Norway  2004    77.69       Afghanistan  1200.278256\n",
      "501752   Korea (Rep. of)  2004    72.70       Afghanistan  1200.278256\n"
     ]
    }
   ],
   "source": [
    "top_5_internet = filtered_df3.sort_values(['Value_x', 'Year'], ascending=False).drop_duplicates('Value_x').groupby('Year').head(5)\n",
    "print(top_5_internet)\n"
   ]
  },
  {
   "cell_type": "markdown",
   "id": "20a56ff7",
   "metadata": {},
   "source": [
    "29"
   ]
  },
  {
   "cell_type": "code",
   "execution_count": 156,
   "id": "b87a8146",
   "metadata": {},
   "outputs": [
    {
     "data": {
      "text/plain": [
       "<function matplotlib.pyplot.show(close=None, block=None)>"
      ]
     },
     "execution_count": 156,
     "metadata": {},
     "output_type": "execute_result"
    },
    {
     "data": {
      "image/png": "[encoded data removed]",
      "text/plain": [
       "<Figure size 216x216 with 1 Axes>"
      ]
     },
     "metadata": {
      "needs_background": "light"
     },
     "output_type": "display_data"
    }
   ],
   "source": [
    "graph = sns.FacetGrid(top_5_internet)\n",
    "graph.map(plt.scatter, 'Year', 'Value_x')\n",
    "plt.show"
   ]
  },
  {
   "cell_type": "markdown",
   "id": "d1af9152",
   "metadata": {},
   "source": [
    "30a bottom 5 internet"
   ]
  },
  {
   "cell_type": "code",
   "execution_count": 157,
   "id": "55c97734",
   "metadata": {},
   "outputs": [
    {
     "data": {
      "text/html": [
       "<div>\n",
       "<style scoped>\n",
       "    .dataframe tbody tr th:only-of-type {\n",
       "        vertical-align: middle;\n",
       "    }\n",
       "\n",
       "    .dataframe tbody tr th {\n",
       "        vertical-align: top;\n",
       "    }\n",
       "\n",
       "    .dataframe thead th {\n",
       "        text-align: right;\n",
       "    }\n",
       "</style>\n",
       "<table border=\"1\" class=\"dataframe\">\n",
       "  <thead>\n",
       "    <tr style=\"text-align: right;\">\n",
       "      <th></th>\n",
       "      <th>Country or Area_x</th>\n",
       "      <th>Year</th>\n",
       "      <th>Value_x</th>\n",
       "      <th>Country or Area_y</th>\n",
       "      <th>Value_y</th>\n",
       "    </tr>\n",
       "  </thead>\n",
       "  <tbody>\n",
       "    <tr>\n",
       "      <th>11882</th>\n",
       "      <td>Dem. People's Rep. of Korea</td>\n",
       "      <td>2014</td>\n",
       "      <td>0.000000</td>\n",
       "      <td>Turkey</td>\n",
       "      <td>24960.320597</td>\n",
       "    </tr>\n",
       "    <tr>\n",
       "      <th>508770</th>\n",
       "      <td>Myanmar</td>\n",
       "      <td>2004</td>\n",
       "      <td>0.024337</td>\n",
       "      <td>Zambia</td>\n",
       "      <td>2261.766537</td>\n",
       "    </tr>\n",
       "    <tr>\n",
       "      <th>503468</th>\n",
       "      <td>Liberia</td>\n",
       "      <td>2004</td>\n",
       "      <td>0.031011</td>\n",
       "      <td>Guinea</td>\n",
       "      <td>1778.079082</td>\n",
       "    </tr>\n",
       "    <tr>\n",
       "      <th>520757</th>\n",
       "      <td>Tajikistan</td>\n",
       "      <td>2004</td>\n",
       "      <td>0.077480</td>\n",
       "      <td>Dominican Republic</td>\n",
       "      <td>9533.318944</td>\n",
       "    </tr>\n",
       "    <tr>\n",
       "      <th>479607</th>\n",
       "      <td>Afghanistan</td>\n",
       "      <td>2004</td>\n",
       "      <td>0.105809</td>\n",
       "      <td>Hong Kong SAR, China</td>\n",
       "      <td>40862.603789</td>\n",
       "    </tr>\n",
       "  </tbody>\n",
       "</table>\n",
       "</div>"
      ],
      "text/plain": [
       "                  Country or Area_x  Year   Value_x     Country or Area_y  \\\n",
       "11882   Dem. People's Rep. of Korea  2014  0.000000                Turkey   \n",
       "508770                      Myanmar  2004  0.024337                Zambia   \n",
       "503468                      Liberia  2004  0.031011                Guinea   \n",
       "520757                   Tajikistan  2004  0.077480    Dominican Republic   \n",
       "479607                  Afghanistan  2004  0.105809  Hong Kong SAR, China   \n",
       "\n",
       "             Value_y  \n",
       "11882   24960.320597  \n",
       "508770   2261.766537  \n",
       "503468   1778.079082  \n",
       "520757   9533.318944  \n",
       "479607  40862.603789  "
      ]
     },
     "execution_count": 157,
     "metadata": {},
     "output_type": "execute_result"
    }
   ],
   "source": [
    "filtered_df3.sort_values('Value_x', ascending=False).drop_duplicates('Value_x').tail(5).sort_values('Value_x')"
   ]
  },
  {
   "cell_type": "markdown",
   "id": "4ef94f8a",
   "metadata": {},
   "source": [
    "30b bottom 5 internet 2004, 2009, 2014"
   ]
  },
  {
   "cell_type": "code",
   "execution_count": 158,
   "id": "b1051b2e",
   "metadata": {
    "scrolled": true
   },
   "outputs": [
    {
     "name": "stdout",
     "output_type": "stream",
     "text": [
      "                  Country or Area_x  Year   Value_x Country or Area_y  \\\n",
      "39270                       Somalia  2014  1.630000       Afghanistan   \n",
      "6902                        Burundi  2014  1.380000       Afghanistan   \n",
      "43078                   Timor-Leste  2014  1.140000       Afghanistan   \n",
      "13804                       Eritrea  2014  0.990000       Afghanistan   \n",
      "254918                      Eritrea  2009  0.540000       Afghanistan   \n",
      "248310                     Cambodia  2009  0.530000       Afghanistan   \n",
      "279462                 Sierra Leone  2009  0.260000       Afghanistan   \n",
      "271674                      Myanmar  2009  0.220000       Afghanistan   \n",
      "283946                  Timor-Leste  2009  0.185252       Afghanistan   \n",
      "492392                     Ethiopia  2004  0.155335       Afghanistan   \n",
      "479522                  Afghanistan  2004  0.105809       Afghanistan   \n",
      "520706                   Tajikistan  2004  0.077480       Afghanistan   \n",
      "503390                      Liberia  2004  0.031011       Afghanistan   \n",
      "508538                      Myanmar  2004  0.024337       Afghanistan   \n",
      "11662   Dem. People's Rep. of Korea  2014  0.000000       Afghanistan   \n",
      "\n",
      "            Value_y  \n",
      "39270   2102.385234  \n",
      "6902    2102.385234  \n",
      "43078   2102.385234  \n",
      "13804   2102.385234  \n",
      "254918  1758.904043  \n",
      "248310  1758.904043  \n",
      "279462  1758.904043  \n",
      "271674  1758.904043  \n",
      "283946  1758.904043  \n",
      "492392  1200.278256  \n",
      "479522  1200.278256  \n",
      "520706  1200.278256  \n",
      "503390  1200.278256  \n",
      "508538  1200.278256  \n",
      "11662   2102.385234  \n"
     ]
    }
   ],
   "source": [
    "bottom_5_internet = filtered_df3.sort_values(['Value_x', 'Year'], ascending=False).drop_duplicates('Value_x').groupby('Year').tail(5)\n",
    "print(bottom_5_internet)"
   ]
  },
  {
   "cell_type": "markdown",
   "id": "0ad4c8ee",
   "metadata": {},
   "source": [
    "30c"
   ]
  },
  {
   "cell_type": "code",
   "execution_count": 159,
   "id": "eb190279",
   "metadata": {},
   "outputs": [
    {
     "data": {
      "text/plain": [
       "<function matplotlib.pyplot.show(close=None, block=None)>"
      ]
     },
     "execution_count": 159,
     "metadata": {},
     "output_type": "execute_result"
    },
    {
     "data": {
      "image/png": "[encoded data removed]",
      "text/plain": [
       "<Figure size 216x216 with 1 Axes>"
      ]
     },
     "metadata": {
      "needs_background": "light"
     },
     "output_type": "display_data"
    }
   ],
   "source": [
    "graph = sns.FacetGrid(bottom_5_internet)\n",
    "graph.map(plt.scatter, 'Year', 'Value_x')\n",
    "plt.show"
   ]
  },
  {
   "cell_type": "markdown",
   "id": "b061f79b",
   "metadata": {},
   "source": [
    "31"
   ]
  },
  {
   "cell_type": "code",
   "execution_count": 162,
   "id": "ed0b12b0",
   "metadata": {},
   "outputs": [
    {
     "name": "stdout",
     "output_type": "stream",
     "text": [
      "       Country or Area_x  Year   Value_x     Country or Area_y        Value_y\n",
      "128          Afghanistan  2014  6.390000      Macao SAR, China  156514.133850\n",
      "127          Afghanistan  2014  6.390000            Luxembourg  108760.916030\n",
      "241356       Afghanistan  2009  3.550000            Luxembourg  104932.811953\n",
      "479647       Afghanistan  2004  0.105809            Luxembourg  102708.212547\n",
      "479744       Afghanistan  2004  0.105809  United Arab Emirates   97758.023345\n",
      "241357       Afghanistan  2009  3.550000      Macao SAR, China   95939.340822\n",
      "177          Afghanistan  2014  6.390000                 Qatar   95578.416973\n",
      "479697       Afghanistan  2004  0.105809                 Qatar   93748.301216\n",
      "479541       Afghanistan  2004  0.105809               Bermuda   90195.811033\n",
      "241249       Afghanistan  2009  3.550000               Bermuda   89961.982744\n",
      "241406       Afghanistan  2009  3.550000                 Qatar   89954.519993\n",
      "189          Afghanistan  2014  6.390000             Singapore   87808.663157\n",
      "479703       Afghanistan  2004  0.105809            San Marino   80391.828516\n",
      "19           Afghanistan  2014  6.390000               Bermuda   77361.104881\n",
      "241412       Afghanistan  2009  3.550000            San Marino   76736.328963\n"
     ]
    }
   ],
   "source": [
    "top_5_gdp = filtered_df3.sort_values(['Value_y', 'Year'], ascending=False).drop_duplicates('Value_y').groupby('Year').head(5)\n",
    "print(top_5_gdp)"
   ]
  },
  {
   "cell_type": "markdown",
   "id": "b631b9cb",
   "metadata": {},
   "source": [
    "32a"
   ]
  },
  {
   "cell_type": "code",
   "execution_count": 163,
   "id": "dfa120cf",
   "metadata": {},
   "outputs": [
    {
     "data": {
      "text/plain": [
       "<function matplotlib.pyplot.show(close=None, block=None)>"
      ]
     },
     "execution_count": 163,
     "metadata": {},
     "output_type": "execute_result"
    },
    {
     "data": {
      "image/png": "[encoded data removed]",
      "text/plain": [
       "<Figure size 216x216 with 1 Axes>"
      ]
     },
     "metadata": {
      "needs_background": "light"
     },
     "output_type": "display_data"
    }
   ],
   "source": [
    "graph = sns.FacetGrid(top_5_gdp)\n",
    "graph.map(plt.scatter, 'Year', 'Value_y')\n",
    "plt.show"
   ]
  },
  {
   "cell_type": "markdown",
   "id": "8b919b3b",
   "metadata": {},
   "source": [
    "32b"
   ]
  },
  {
   "cell_type": "code",
   "execution_count": 164,
   "id": "c256f9a0",
   "metadata": {},
   "outputs": [
    {
     "data": {
      "text/html": [
       "<div>\n",
       "<style scoped>\n",
       "    .dataframe tbody tr th:only-of-type {\n",
       "        vertical-align: middle;\n",
       "    }\n",
       "\n",
       "    .dataframe tbody tr th {\n",
       "        vertical-align: top;\n",
       "    }\n",
       "\n",
       "    .dataframe thead th {\n",
       "        text-align: right;\n",
       "    }\n",
       "</style>\n",
       "<table border=\"1\" class=\"dataframe\">\n",
       "  <thead>\n",
       "    <tr style=\"text-align: right;\">\n",
       "      <th></th>\n",
       "      <th>Country or Area_x</th>\n",
       "      <th>Year</th>\n",
       "      <th>Value_x</th>\n",
       "      <th>Country or Area_y</th>\n",
       "      <th>Value_y</th>\n",
       "    </tr>\n",
       "  </thead>\n",
       "  <tbody>\n",
       "    <tr>\n",
       "      <th>505778</th>\n",
       "      <td>Mali</td>\n",
       "      <td>2004</td>\n",
       "      <td>0.432820</td>\n",
       "      <td>Dem. Rep. Congo</td>\n",
       "      <td>757.685942</td>\n",
       "    </tr>\n",
       "    <tr>\n",
       "      <th>498370</th>\n",
       "      <td>Iceland</td>\n",
       "      <td>2004</td>\n",
       "      <td>83.880000</td>\n",
       "      <td>Malawi</td>\n",
       "      <td>775.346132</td>\n",
       "    </tr>\n",
       "    <tr>\n",
       "      <th>495814</th>\n",
       "      <td>Greenland</td>\n",
       "      <td>2004</td>\n",
       "      <td>56.099015</td>\n",
       "      <td>Mozambique</td>\n",
       "      <td>792.727155</td>\n",
       "    </tr>\n",
       "    <tr>\n",
       "      <th>505792</th>\n",
       "      <td>Mali</td>\n",
       "      <td>2004</td>\n",
       "      <td>0.432820</td>\n",
       "      <td>Ethiopia</td>\n",
       "      <td>793.093786</td>\n",
       "    </tr>\n",
       "    <tr>\n",
       "      <th>517692</th>\n",
       "      <td>Solomon Islands</td>\n",
       "      <td>2004</td>\n",
       "      <td>0.649673</td>\n",
       "      <td>Burundi</td>\n",
       "      <td>817.460585</td>\n",
       "    </tr>\n",
       "  </tbody>\n",
       "</table>\n",
       "</div>"
      ],
      "text/plain": [
       "       Country or Area_x  Year    Value_x Country or Area_y     Value_y\n",
       "505778              Mali  2004   0.432820   Dem. Rep. Congo  757.685942\n",
       "498370           Iceland  2004  83.880000            Malawi  775.346132\n",
       "495814         Greenland  2004  56.099015        Mozambique  792.727155\n",
       "505792              Mali  2004   0.432820          Ethiopia  793.093786\n",
       "517692   Solomon Islands  2004   0.649673           Burundi  817.460585"
      ]
     },
     "execution_count": 164,
     "metadata": {},
     "output_type": "execute_result"
    }
   ],
   "source": [
    "filtered_df3.sort_values('Value_y', ascending=False).drop_duplicates('Value_y').tail(5).sort_values('Value_y')"
   ]
  },
  {
   "cell_type": "markdown",
   "id": "dedec873",
   "metadata": {},
   "source": [
    "32c"
   ]
  },
  {
   "cell_type": "code",
   "execution_count": 165,
   "id": "93422fb3",
   "metadata": {},
   "outputs": [
    {
     "name": "stdout",
     "output_type": "stream",
     "text": [
      "       Country or Area_x  Year   Value_x         Country or Area_y  \\\n",
      "156          Afghanistan  2014  6.390000                     Niger   \n",
      "49           Afghanistan  2014  6.390000           Dem. Rep. Congo   \n",
      "130          Afghanistan  2014  6.390000                    Malawi   \n",
      "241385       Afghanistan  2009  3.550000                     Niger   \n",
      "241377       Afghanistan  2009  3.550000                Mozambique   \n",
      "241359       Afghanistan  2009  3.550000                    Malawi   \n",
      "28           Afghanistan  2014  6.390000                   Burundi   \n",
      "241279       Afghanistan  2009  3.550000           Dem. Rep. Congo   \n",
      "241258       Afghanistan  2009  3.550000                   Burundi   \n",
      "36           Afghanistan  2014  6.390000  Central African Republic   \n",
      "479550       Afghanistan  2004  0.105809                   Burundi   \n",
      "479584       Afghanistan  2004  0.105809                  Ethiopia   \n",
      "479668       Afghanistan  2004  0.105809                Mozambique   \n",
      "479650       Afghanistan  2004  0.105809                    Malawi   \n",
      "479570       Afghanistan  2004  0.105809           Dem. Rep. Congo   \n",
      "\n",
      "            Value_y  \n",
      "156     1127.615541  \n",
      "49      1029.790785  \n",
      "130     1027.208496  \n",
      "241385   992.409977  \n",
      "241377   991.323181  \n",
      "241359   932.867635  \n",
      "28       886.235777  \n",
      "241279   835.611696  \n",
      "241258   831.564131  \n",
      "36       822.610458  \n",
      "479550   817.460585  \n",
      "479584   793.093786  \n",
      "479668   792.727155  \n",
      "479650   775.346132  \n",
      "479570   757.685942  \n"
     ]
    }
   ],
   "source": [
    "bottom_5_1_gdp = filtered_df3.sort_values(['Value_y', 'Year'], ascending=False).drop_duplicates('Value_y').groupby('Year').tail(5)\n",
    "print(bottom_5_1_gdp)"
   ]
  },
  {
   "cell_type": "markdown",
   "id": "411789bb",
   "metadata": {},
   "source": [
    "32d"
   ]
  },
  {
   "cell_type": "code",
   "execution_count": 166,
   "id": "52e34689",
   "metadata": {},
   "outputs": [
    {
     "data": {
      "text/plain": [
       "<function matplotlib.pyplot.show(close=None, block=None)>"
      ]
     },
     "execution_count": 166,
     "metadata": {},
     "output_type": "execute_result"
    },
    {
     "data": {
      "image/png": "[encoded data removed]",
      "text/plain": [
       "<Figure size 216x216 with 1 Axes>"
      ]
     },
     "metadata": {
      "needs_background": "light"
     },
     "output_type": "display_data"
    }
   ],
   "source": [
    "graph = sns.FacetGrid(bottom_5_1_gdp)\n",
    "graph.map(plt.scatter, 'Year', 'Value_y')\n",
    "plt.show"
   ]
  },
  {
   "cell_type": "code",
   "execution_count": null,
   "id": "f7d53205",
   "metadata": {},
   "outputs": [],
   "source": []
  }
 ],
 "metadata": {
  "kernelspec": {
   "display_name": "Python 3 (ipykernel)",
   "language": "python",
   "name": "python3"
  },
  "language_info": {
   "codemirror_mode": {
    "name": "ipython",
    "version": 3
   },
   "file_extension": ".py",
   "mimetype": "text/x-python",
   "name": "python",
   "nbconvert_exporter": "python",
   "pygments_lexer": "ipython3",
   "version": "3.9.12"
  }
 },
 "nbformat": 4,
 "nbformat_minor": 5
}
