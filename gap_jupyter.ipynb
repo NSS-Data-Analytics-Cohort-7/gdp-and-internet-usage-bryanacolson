{
 "cells": [
  {
   "cell_type": "markdown",
   "id": "2d76a29c",
   "metadata": {},
   "source": [
    "3 import packages"
   ]
  },
  {
   "cell_type": "code",
   "execution_count": 1,
   "id": "18a9e5d7",
   "metadata": {},
   "outputs": [],
   "source": [
    "import pandas as pd\n",
    "import numpy as np\n",
    "import matplotlib.pyplot as plt\n",
    "import seaborn as sns"
   ]
  },
  {
   "cell_type": "markdown",
   "id": "d5e3c0a8",
   "metadata": {},
   "source": [
    "4 matplot lib iline"
   ]
  },
  {
   "cell_type": "code",
   "execution_count": 2,
   "id": "0f4caa00",
   "metadata": {},
   "outputs": [],
   "source": [
    "%matplotlib inline"
   ]
  },
  {
   "cell_type": "markdown",
   "id": "cc3a023f",
   "metadata": {},
   "source": [
    "5 pd.read_csv"
   ]
  },
  {
   "cell_type": "code",
   "execution_count": 3,
   "id": "e8f88fbd",
   "metadata": {
    "scrolled": true
   },
   "outputs": [],
   "source": [
    "gdp_df = pd.read_csv(\"../Data/gdp_percapita.csv\", nrows=6868)"
   ]
  },
  {
   "cell_type": "code",
   "execution_count": 4,
   "id": "d6a334de",
   "metadata": {},
   "outputs": [
    {
     "name": "stdout",
     "output_type": "stream",
     "text": [
      "<class 'pandas.core.frame.DataFrame'>\n",
      "RangeIndex: 6868 entries, 0 to 6867\n",
      "Data columns (total 4 columns):\n",
      " #   Column           Non-Null Count  Dtype  \n",
      "---  ------           --------------  -----  \n",
      " 0   Country or Area  6868 non-null   object \n",
      " 1   Year             6868 non-null   int64  \n",
      " 2   Value            6868 non-null   float64\n",
      " 3   Value Footnotes  1 non-null      float64\n",
      "dtypes: float64(2), int64(1), object(1)\n",
      "memory usage: 214.8+ KB\n"
     ]
    }
   ],
   "source": [
    "gdp_df.info()"
   ]
  },
  {
   "cell_type": "markdown",
   "id": "491116eb",
   "metadata": {},
   "source": [
    "6 internet_df"
   ]
  },
  {
   "cell_type": "code",
   "execution_count": 5,
   "id": "cd0d34dd",
   "metadata": {},
   "outputs": [],
   "source": [
    "internet_df = pd.read_csv(\"../Data/internet_use.csv\", nrows=4495)"
   ]
  },
  {
   "cell_type": "markdown",
   "id": "6130490c",
   "metadata": {},
   "source": [
    "7 dataframe shape"
   ]
  },
  {
   "cell_type": "code",
   "execution_count": 6,
   "id": "33973983",
   "metadata": {},
   "outputs": [
    {
     "data": {
      "text/plain": [
       "(4495, 4)"
      ]
     },
     "execution_count": 6,
     "metadata": {},
     "output_type": "execute_result"
    }
   ],
   "source": [
    "internet_df.shape"
   ]
  },
  {
   "cell_type": "code",
   "execution_count": 7,
   "id": "e53ff1c8",
   "metadata": {},
   "outputs": [
    {
     "data": {
      "text/plain": [
       "(6868, 4)"
      ]
     },
     "execution_count": 7,
     "metadata": {},
     "output_type": "execute_result"
    }
   ],
   "source": [
    "gdp_df.shape"
   ]
  },
  {
   "cell_type": "markdown",
   "id": "aa988f6f",
   "metadata": {},
   "source": [
    "8 - types"
   ]
  },
  {
   "cell_type": "code",
   "execution_count": 8,
   "id": "01c412dd",
   "metadata": {},
   "outputs": [
    {
     "data": {
      "text/plain": [
       "Country or Area     object\n",
       "Year                 int64\n",
       "Value              float64\n",
       "Value Footnotes    float64\n",
       "dtype: object"
      ]
     },
     "execution_count": 8,
     "metadata": {},
     "output_type": "execute_result"
    }
   ],
   "source": [
    "internet_df.dtypes"
   ]
  },
  {
   "cell_type": "code",
   "execution_count": 9,
   "id": "319f811b",
   "metadata": {},
   "outputs": [
    {
     "data": {
      "text/plain": [
       "Country or Area     object\n",
       "Year                 int64\n",
       "Value              float64\n",
       "Value Footnotes    float64\n",
       "dtype: object"
      ]
     },
     "execution_count": 9,
     "metadata": {},
     "output_type": "execute_result"
    }
   ],
   "source": [
    "gdp_df.dtypes"
   ]
  },
  {
   "cell_type": "markdown",
   "id": "e91609c9",
   "metadata": {},
   "source": [
    "9 last 10 rows"
   ]
  },
  {
   "cell_type": "code",
   "execution_count": 10,
   "id": "36445320",
   "metadata": {},
   "outputs": [
    {
     "data": {
      "text/html": [
       "<div>\n",
       "<style scoped>\n",
       "    .dataframe tbody tr th:only-of-type {\n",
       "        vertical-align: middle;\n",
       "    }\n",
       "\n",
       "    .dataframe tbody tr th {\n",
       "        vertical-align: top;\n",
       "    }\n",
       "\n",
       "    .dataframe thead th {\n",
       "        text-align: right;\n",
       "    }\n",
       "</style>\n",
       "<table border=\"1\" class=\"dataframe\">\n",
       "  <thead>\n",
       "    <tr style=\"text-align: right;\">\n",
       "      <th></th>\n",
       "      <th>Country or Area</th>\n",
       "      <th>Year</th>\n",
       "      <th>Value</th>\n",
       "      <th>Value Footnotes</th>\n",
       "    </tr>\n",
       "  </thead>\n",
       "  <tbody>\n",
       "    <tr>\n",
       "      <th>4485</th>\n",
       "      <td>Zimbabwe</td>\n",
       "      <td>2002</td>\n",
       "      <td>3.994356</td>\n",
       "      <td>NaN</td>\n",
       "    </tr>\n",
       "    <tr>\n",
       "      <th>4486</th>\n",
       "      <td>Zimbabwe</td>\n",
       "      <td>2001</td>\n",
       "      <td>0.799846</td>\n",
       "      <td>NaN</td>\n",
       "    </tr>\n",
       "    <tr>\n",
       "      <th>4487</th>\n",
       "      <td>Zimbabwe</td>\n",
       "      <td>2000</td>\n",
       "      <td>0.401434</td>\n",
       "      <td>NaN</td>\n",
       "    </tr>\n",
       "    <tr>\n",
       "      <th>4488</th>\n",
       "      <td>Zimbabwe</td>\n",
       "      <td>1999</td>\n",
       "      <td>0.161676</td>\n",
       "      <td>NaN</td>\n",
       "    </tr>\n",
       "    <tr>\n",
       "      <th>4489</th>\n",
       "      <td>Zimbabwe</td>\n",
       "      <td>1998</td>\n",
       "      <td>0.081648</td>\n",
       "      <td>NaN</td>\n",
       "    </tr>\n",
       "    <tr>\n",
       "      <th>4490</th>\n",
       "      <td>Zimbabwe</td>\n",
       "      <td>1997</td>\n",
       "      <td>0.033080</td>\n",
       "      <td>NaN</td>\n",
       "    </tr>\n",
       "    <tr>\n",
       "      <th>4491</th>\n",
       "      <td>Zimbabwe</td>\n",
       "      <td>1996</td>\n",
       "      <td>0.016790</td>\n",
       "      <td>NaN</td>\n",
       "    </tr>\n",
       "    <tr>\n",
       "      <th>4492</th>\n",
       "      <td>Zimbabwe</td>\n",
       "      <td>1995</td>\n",
       "      <td>0.007684</td>\n",
       "      <td>NaN</td>\n",
       "    </tr>\n",
       "    <tr>\n",
       "      <th>4493</th>\n",
       "      <td>Zimbabwe</td>\n",
       "      <td>1994</td>\n",
       "      <td>0.001739</td>\n",
       "      <td>NaN</td>\n",
       "    </tr>\n",
       "    <tr>\n",
       "      <th>4494</th>\n",
       "      <td>Zimbabwe</td>\n",
       "      <td>1990</td>\n",
       "      <td>0.000000</td>\n",
       "      <td>NaN</td>\n",
       "    </tr>\n",
       "  </tbody>\n",
       "</table>\n",
       "</div>"
      ],
      "text/plain": [
       "     Country or Area  Year     Value  Value Footnotes\n",
       "4485        Zimbabwe  2002  3.994356              NaN\n",
       "4486        Zimbabwe  2001  0.799846              NaN\n",
       "4487        Zimbabwe  2000  0.401434              NaN\n",
       "4488        Zimbabwe  1999  0.161676              NaN\n",
       "4489        Zimbabwe  1998  0.081648              NaN\n",
       "4490        Zimbabwe  1997  0.033080              NaN\n",
       "4491        Zimbabwe  1996  0.016790              NaN\n",
       "4492        Zimbabwe  1995  0.007684              NaN\n",
       "4493        Zimbabwe  1994  0.001739              NaN\n",
       "4494        Zimbabwe  1990  0.000000              NaN"
      ]
     },
     "execution_count": 10,
     "metadata": {},
     "output_type": "execute_result"
    }
   ],
   "source": [
    "internet_df.tail(10)\n"
   ]
  },
  {
   "cell_type": "code",
   "execution_count": 11,
   "id": "ac6be449",
   "metadata": {},
   "outputs": [
    {
     "data": {
      "text/html": [
       "<div>\n",
       "<style scoped>\n",
       "    .dataframe tbody tr th:only-of-type {\n",
       "        vertical-align: middle;\n",
       "    }\n",
       "\n",
       "    .dataframe tbody tr th {\n",
       "        vertical-align: top;\n",
       "    }\n",
       "\n",
       "    .dataframe thead th {\n",
       "        text-align: right;\n",
       "    }\n",
       "</style>\n",
       "<table border=\"1\" class=\"dataframe\">\n",
       "  <thead>\n",
       "    <tr style=\"text-align: right;\">\n",
       "      <th></th>\n",
       "      <th>Country or Area</th>\n",
       "      <th>Year</th>\n",
       "      <th>Value</th>\n",
       "      <th>Value Footnotes</th>\n",
       "    </tr>\n",
       "  </thead>\n",
       "  <tbody>\n",
       "    <tr>\n",
       "      <th>6858</th>\n",
       "      <td>Zimbabwe</td>\n",
       "      <td>1999</td>\n",
       "      <td>3600.849291</td>\n",
       "      <td>NaN</td>\n",
       "    </tr>\n",
       "    <tr>\n",
       "      <th>6859</th>\n",
       "      <td>Zimbabwe</td>\n",
       "      <td>1998</td>\n",
       "      <td>3653.920016</td>\n",
       "      <td>NaN</td>\n",
       "    </tr>\n",
       "    <tr>\n",
       "      <th>6860</th>\n",
       "      <td>Zimbabwe</td>\n",
       "      <td>1997</td>\n",
       "      <td>3580.048793</td>\n",
       "      <td>NaN</td>\n",
       "    </tr>\n",
       "    <tr>\n",
       "      <th>6861</th>\n",
       "      <td>Zimbabwe</td>\n",
       "      <td>1996</td>\n",
       "      <td>3520.430146</td>\n",
       "      <td>NaN</td>\n",
       "    </tr>\n",
       "    <tr>\n",
       "      <th>6862</th>\n",
       "      <td>Zimbabwe</td>\n",
       "      <td>1995</td>\n",
       "      <td>3226.413930</td>\n",
       "      <td>NaN</td>\n",
       "    </tr>\n",
       "    <tr>\n",
       "      <th>6863</th>\n",
       "      <td>Zimbabwe</td>\n",
       "      <td>1994</td>\n",
       "      <td>3263.934978</td>\n",
       "      <td>NaN</td>\n",
       "    </tr>\n",
       "    <tr>\n",
       "      <th>6864</th>\n",
       "      <td>Zimbabwe</td>\n",
       "      <td>1993</td>\n",
       "      <td>3033.504852</td>\n",
       "      <td>NaN</td>\n",
       "    </tr>\n",
       "    <tr>\n",
       "      <th>6865</th>\n",
       "      <td>Zimbabwe</td>\n",
       "      <td>1992</td>\n",
       "      <td>3054.889178</td>\n",
       "      <td>NaN</td>\n",
       "    </tr>\n",
       "    <tr>\n",
       "      <th>6866</th>\n",
       "      <td>Zimbabwe</td>\n",
       "      <td>1991</td>\n",
       "      <td>3426.598094</td>\n",
       "      <td>NaN</td>\n",
       "    </tr>\n",
       "    <tr>\n",
       "      <th>6867</th>\n",
       "      <td>Zimbabwe</td>\n",
       "      <td>1990</td>\n",
       "      <td>3324.348171</td>\n",
       "      <td>NaN</td>\n",
       "    </tr>\n",
       "  </tbody>\n",
       "</table>\n",
       "</div>"
      ],
      "text/plain": [
       "     Country or Area  Year        Value  Value Footnotes\n",
       "6858        Zimbabwe  1999  3600.849291              NaN\n",
       "6859        Zimbabwe  1998  3653.920016              NaN\n",
       "6860        Zimbabwe  1997  3580.048793              NaN\n",
       "6861        Zimbabwe  1996  3520.430146              NaN\n",
       "6862        Zimbabwe  1995  3226.413930              NaN\n",
       "6863        Zimbabwe  1994  3263.934978              NaN\n",
       "6864        Zimbabwe  1993  3033.504852              NaN\n",
       "6865        Zimbabwe  1992  3054.889178              NaN\n",
       "6866        Zimbabwe  1991  3426.598094              NaN\n",
       "6867        Zimbabwe  1990  3324.348171              NaN"
      ]
     },
     "execution_count": 11,
     "metadata": {},
     "output_type": "execute_result"
    }
   ],
   "source": [
    "gdp_df.tail(10)"
   ]
  },
  {
   "cell_type": "markdown",
   "id": "e0555f85",
   "metadata": {},
   "source": [
    "10 drop 'value footnotes'"
   ]
  },
  {
   "cell_type": "code",
   "execution_count": 12,
   "id": "c02f6067",
   "metadata": {},
   "outputs": [],
   "source": [
    "del internet_df['Value Footnotes']"
   ]
  },
  {
   "cell_type": "code",
   "execution_count": 13,
   "id": "21a70ad5",
   "metadata": {},
   "outputs": [],
   "source": [
    "del gdp_df['Value Footnotes']"
   ]
  },
  {
   "cell_type": "markdown",
   "id": "ae798f96",
   "metadata": {},
   "source": [
    "11 'Country, Year, GDP per Capita'"
   ]
  },
  {
   "cell_type": "code",
   "execution_count": 15,
   "id": "a34144a2",
   "metadata": {},
   "outputs": [
    {
     "data": {
      "text/html": [
       "<div>\n",
       "<style scoped>\n",
       "    .dataframe tbody tr th:only-of-type {\n",
       "        vertical-align: middle;\n",
       "    }\n",
       "\n",
       "    .dataframe tbody tr th {\n",
       "        vertical-align: top;\n",
       "    }\n",
       "\n",
       "    .dataframe thead th {\n",
       "        text-align: right;\n",
       "    }\n",
       "</style>\n",
       "<table border=\"1\" class=\"dataframe\">\n",
       "  <thead>\n",
       "    <tr style=\"text-align: right;\">\n",
       "      <th></th>\n",
       "      <th>Country</th>\n",
       "      <th>Year</th>\n",
       "      <th>Internet_users_Pct</th>\n",
       "    </tr>\n",
       "  </thead>\n",
       "  <tbody>\n",
       "    <tr>\n",
       "      <th>0</th>\n",
       "      <td>Afghanistan</td>\n",
       "      <td>2014</td>\n",
       "      <td>6.390000</td>\n",
       "    </tr>\n",
       "    <tr>\n",
       "      <th>1</th>\n",
       "      <td>Afghanistan</td>\n",
       "      <td>2013</td>\n",
       "      <td>5.900000</td>\n",
       "    </tr>\n",
       "    <tr>\n",
       "      <th>2</th>\n",
       "      <td>Afghanistan</td>\n",
       "      <td>2012</td>\n",
       "      <td>5.454545</td>\n",
       "    </tr>\n",
       "    <tr>\n",
       "      <th>3</th>\n",
       "      <td>Afghanistan</td>\n",
       "      <td>2011</td>\n",
       "      <td>5.000000</td>\n",
       "    </tr>\n",
       "    <tr>\n",
       "      <th>4</th>\n",
       "      <td>Afghanistan</td>\n",
       "      <td>2010</td>\n",
       "      <td>4.000000</td>\n",
       "    </tr>\n",
       "    <tr>\n",
       "      <th>...</th>\n",
       "      <td>...</td>\n",
       "      <td>...</td>\n",
       "      <td>...</td>\n",
       "    </tr>\n",
       "    <tr>\n",
       "      <th>4490</th>\n",
       "      <td>Zimbabwe</td>\n",
       "      <td>1997</td>\n",
       "      <td>0.033080</td>\n",
       "    </tr>\n",
       "    <tr>\n",
       "      <th>4491</th>\n",
       "      <td>Zimbabwe</td>\n",
       "      <td>1996</td>\n",
       "      <td>0.016790</td>\n",
       "    </tr>\n",
       "    <tr>\n",
       "      <th>4492</th>\n",
       "      <td>Zimbabwe</td>\n",
       "      <td>1995</td>\n",
       "      <td>0.007684</td>\n",
       "    </tr>\n",
       "    <tr>\n",
       "      <th>4493</th>\n",
       "      <td>Zimbabwe</td>\n",
       "      <td>1994</td>\n",
       "      <td>0.001739</td>\n",
       "    </tr>\n",
       "    <tr>\n",
       "      <th>4494</th>\n",
       "      <td>Zimbabwe</td>\n",
       "      <td>1990</td>\n",
       "      <td>0.000000</td>\n",
       "    </tr>\n",
       "  </tbody>\n",
       "</table>\n",
       "<p>4495 rows × 3 columns</p>\n",
       "</div>"
      ],
      "text/plain": [
       "          Country  Year  Internet_users_Pct\n",
       "0     Afghanistan  2014            6.390000\n",
       "1     Afghanistan  2013            5.900000\n",
       "2     Afghanistan  2012            5.454545\n",
       "3     Afghanistan  2011            5.000000\n",
       "4     Afghanistan  2010            4.000000\n",
       "...           ...   ...                 ...\n",
       "4490     Zimbabwe  1997            0.033080\n",
       "4491     Zimbabwe  1996            0.016790\n",
       "4492     Zimbabwe  1995            0.007684\n",
       "4493     Zimbabwe  1994            0.001739\n",
       "4494     Zimbabwe  1990            0.000000\n",
       "\n",
       "[4495 rows x 3 columns]"
      ]
     },
     "execution_count": 15,
     "metadata": {},
     "output_type": "execute_result"
    }
   ],
   "source": [
    "internet_df.rename(columns={'Country or Area':'Country', 'Value': 'Internet_users_Pct'})"
   ]
  },
  {
   "cell_type": "markdown",
   "id": "1b460b35",
   "metadata": {},
   "source": [
    "13 merge data frames"
   ]
  },
  {
   "cell_type": "code",
   "execution_count": 16,
   "id": "1cf8f805",
   "metadata": {},
   "outputs": [],
   "source": [
    "gdp_df= gdp_df= gdp_df.rename(columns={'Country or Area':'Country', 'Value': 'GDP_Per_Capita'})"
   ]
  },
  {
   "cell_type": "code",
   "execution_count": 17,
   "id": "9b61c33e",
   "metadata": {},
   "outputs": [
    {
     "name": "stdout",
     "output_type": "stream",
     "text": [
      "          Country  Year  GDP_Per_Capita\n",
      "0     Afghanistan  2019     2065.036398\n",
      "1     Afghanistan  2018     2033.779002\n",
      "2     Afghanistan  2017     2058.383832\n",
      "3     Afghanistan  2016     2057.062164\n",
      "4     Afghanistan  2015     2068.265904\n",
      "...           ...   ...             ...\n",
      "6863     Zimbabwe  1994     3263.934978\n",
      "6864     Zimbabwe  1993     3033.504852\n",
      "6865     Zimbabwe  1992     3054.889178\n",
      "6866     Zimbabwe  1991     3426.598094\n",
      "6867     Zimbabwe  1990     3324.348171\n",
      "\n",
      "[6868 rows x 3 columns]\n"
     ]
    }
   ],
   "source": [
    "print(gdp_df)"
   ]
  },
  {
   "cell_type": "markdown",
   "id": "6e20fc7e",
   "metadata": {},
   "source": [
    "14 First 5"
   ]
  },
  {
   "cell_type": "code",
   "execution_count": 49,
   "id": "36cc2506",
   "metadata": {},
   "outputs": [
    {
     "name": "stdout",
     "output_type": "stream",
     "text": [
      "     Country or Area  Year     Value      Country  GDP_Per_Capita\n",
      "0        Afghanistan  2014  6.390000  Afghanistan     2102.385234\n",
      "1        Afghanistan  2013  5.900000  Afghanistan     2116.465454\n",
      "2        Afghanistan  2012  5.454545  Afghanistan     2075.491747\n",
      "3        Afghanistan  2011  5.000000  Afghanistan     1904.559799\n",
      "4        Afghanistan  2010  4.000000  Afghanistan     1957.029338\n",
      "...              ...   ...       ...          ...             ...\n",
      "7900             NaN  2016       NaN     Zimbabwe     2934.733650\n",
      "7901             NaN  2015       NaN     Zimbabwe     2958.209004\n",
      "7902             NaN  1993       NaN     Zimbabwe     3033.504852\n",
      "7903             NaN  1992       NaN     Zimbabwe     3054.889178\n",
      "7904             NaN  1991       NaN     Zimbabwe     3426.598094\n",
      "\n",
      "[7905 rows x 5 columns]\n"
     ]
    }
   ],
   "source": [
    "df3 = pd.merge(internet_df, gdp_df, how ='outer', left_on=['Year', 'Country or Area',], right_on= ['Year', 'Country'])\n",
    "df3.head(5)                                                                                               \n",
    "print(df3)"
   ]
  },
  {
   "cell_type": "markdown",
   "id": "646f3f63",
   "metadata": {},
   "source": [
    "15 last 5 rows"
   ]
  },
  {
   "cell_type": "code",
   "execution_count": 19,
   "id": "e8acec8e",
   "metadata": {},
   "outputs": [
    {
     "data": {
      "text/html": [
       "<div>\n",
       "<style scoped>\n",
       "    .dataframe tbody tr th:only-of-type {\n",
       "        vertical-align: middle;\n",
       "    }\n",
       "\n",
       "    .dataframe tbody tr th {\n",
       "        vertical-align: top;\n",
       "    }\n",
       "\n",
       "    .dataframe thead th {\n",
       "        text-align: right;\n",
       "    }\n",
       "</style>\n",
       "<table border=\"1\" class=\"dataframe\">\n",
       "  <thead>\n",
       "    <tr style=\"text-align: right;\">\n",
       "      <th></th>\n",
       "      <th>Country or Area</th>\n",
       "      <th>Year</th>\n",
       "      <th>Internet_Users_Pct</th>\n",
       "      <th>Country</th>\n",
       "      <th>GDP_Per_Capita</th>\n",
       "    </tr>\n",
       "  </thead>\n",
       "  <tbody>\n",
       "    <tr>\n",
       "      <th>0</th>\n",
       "      <td>Afghanistan</td>\n",
       "      <td>2014</td>\n",
       "      <td>6.390000</td>\n",
       "      <td>Afghanistan</td>\n",
       "      <td>2102.385234</td>\n",
       "    </tr>\n",
       "    <tr>\n",
       "      <th>1</th>\n",
       "      <td>Afghanistan</td>\n",
       "      <td>2013</td>\n",
       "      <td>5.900000</td>\n",
       "      <td>Afghanistan</td>\n",
       "      <td>2116.465454</td>\n",
       "    </tr>\n",
       "    <tr>\n",
       "      <th>2</th>\n",
       "      <td>Afghanistan</td>\n",
       "      <td>2012</td>\n",
       "      <td>5.454545</td>\n",
       "      <td>Afghanistan</td>\n",
       "      <td>2075.491747</td>\n",
       "    </tr>\n",
       "    <tr>\n",
       "      <th>3</th>\n",
       "      <td>Afghanistan</td>\n",
       "      <td>2011</td>\n",
       "      <td>5.000000</td>\n",
       "      <td>Afghanistan</td>\n",
       "      <td>1904.559799</td>\n",
       "    </tr>\n",
       "    <tr>\n",
       "      <th>4</th>\n",
       "      <td>Afghanistan</td>\n",
       "      <td>2010</td>\n",
       "      <td>4.000000</td>\n",
       "      <td>Afghanistan</td>\n",
       "      <td>1957.029338</td>\n",
       "    </tr>\n",
       "    <tr>\n",
       "      <th>...</th>\n",
       "      <td>...</td>\n",
       "      <td>...</td>\n",
       "      <td>...</td>\n",
       "      <td>...</td>\n",
       "      <td>...</td>\n",
       "    </tr>\n",
       "    <tr>\n",
       "      <th>7900</th>\n",
       "      <td>NaN</td>\n",
       "      <td>2016</td>\n",
       "      <td>NaN</td>\n",
       "      <td>Zimbabwe</td>\n",
       "      <td>2934.733650</td>\n",
       "    </tr>\n",
       "    <tr>\n",
       "      <th>7901</th>\n",
       "      <td>NaN</td>\n",
       "      <td>2015</td>\n",
       "      <td>NaN</td>\n",
       "      <td>Zimbabwe</td>\n",
       "      <td>2958.209004</td>\n",
       "    </tr>\n",
       "    <tr>\n",
       "      <th>7902</th>\n",
       "      <td>NaN</td>\n",
       "      <td>1993</td>\n",
       "      <td>NaN</td>\n",
       "      <td>Zimbabwe</td>\n",
       "      <td>3033.504852</td>\n",
       "    </tr>\n",
       "    <tr>\n",
       "      <th>7903</th>\n",
       "      <td>NaN</td>\n",
       "      <td>1992</td>\n",
       "      <td>NaN</td>\n",
       "      <td>Zimbabwe</td>\n",
       "      <td>3054.889178</td>\n",
       "    </tr>\n",
       "    <tr>\n",
       "      <th>7904</th>\n",
       "      <td>NaN</td>\n",
       "      <td>1991</td>\n",
       "      <td>NaN</td>\n",
       "      <td>Zimbabwe</td>\n",
       "      <td>3426.598094</td>\n",
       "    </tr>\n",
       "  </tbody>\n",
       "</table>\n",
       "<p>7905 rows × 5 columns</p>\n",
       "</div>"
      ],
      "text/plain": [
       "     Country or Area  Year  Internet_Users_Pct      Country  GDP_Per_Capita\n",
       "0        Afghanistan  2014            6.390000  Afghanistan     2102.385234\n",
       "1        Afghanistan  2013            5.900000  Afghanistan     2116.465454\n",
       "2        Afghanistan  2012            5.454545  Afghanistan     2075.491747\n",
       "3        Afghanistan  2011            5.000000  Afghanistan     1904.559799\n",
       "4        Afghanistan  2010            4.000000  Afghanistan     1957.029338\n",
       "...              ...   ...                 ...          ...             ...\n",
       "7900             NaN  2016                 NaN     Zimbabwe     2934.733650\n",
       "7901             NaN  2015                 NaN     Zimbabwe     2958.209004\n",
       "7902             NaN  1993                 NaN     Zimbabwe     3033.504852\n",
       "7903             NaN  1992                 NaN     Zimbabwe     3054.889178\n",
       "7904             NaN  1991                 NaN     Zimbabwe     3426.598094\n",
       "\n",
       "[7905 rows x 5 columns]"
      ]
     },
     "execution_count": 19,
     "metadata": {},
     "output_type": "execute_result"
    }
   ],
   "source": [
    "df3.tail(5)\n",
    "df3.rename(columns={'Value' : 'Internet_Users_Pct', 'Value_y' : 'GDP'})"
   ]
  },
  {
   "cell_type": "markdown",
   "id": "f56895c1",
   "metadata": {},
   "source": [
    "16 2004, 2009, 2014"
   ]
  },
  {
   "cell_type": "code",
   "execution_count": 50,
   "id": "393d3026",
   "metadata": {},
   "outputs": [
    {
     "name": "stdout",
     "output_type": "stream",
     "text": [
      "     Country or Area  Year      Value             Country  GDP_Per_Capita\n",
      "0        Afghanistan  2014   6.390000         Afghanistan     2102.385234\n",
      "5        Afghanistan  2009   3.550000         Afghanistan     1758.904043\n",
      "10       Afghanistan  2004   0.105809         Afghanistan     1200.278256\n",
      "15           Albania  2014  60.100000             Albania    11623.866679\n",
      "20           Albania  2009  41.200000             Albania    10346.864199\n",
      "...              ...   ...        ...                 ...             ...\n",
      "7843             NaN  2009        NaN  West Bank and Gaza     5250.116075\n",
      "7848             NaN  2004        NaN  West Bank and Gaza     4485.525458\n",
      "7864             NaN  2014        NaN               World    15189.648507\n",
      "7869             NaN  2009        NaN               World    13396.524163\n",
      "7874             NaN  2004        NaN               World    12077.823821\n",
      "\n",
      "[830 rows x 5 columns]\n"
     ]
    }
   ],
   "source": [
    "filtered_df3= df3[df3.Year.isin([2004, 2009, 2014])]\n",
    "print(filtered_df3)"
   ]
  },
  {
   "cell_type": "markdown",
   "id": "94fd87f1",
   "metadata": {},
   "source": [
    "17 filtered_df(s)"
   ]
  },
  {
   "cell_type": "code",
   "execution_count": 21,
   "id": "277571aa",
   "metadata": {},
   "outputs": [
    {
     "name": "stdout",
     "output_type": "stream",
     "text": [
      "     Country or Area  Year      Value              Country  GDP_Per_Capita\n",
      "10       Afghanistan  2004   0.105809          Afghanistan     1200.278256\n",
      "25           Albania  2004   2.420388              Albania     7604.838002\n",
      "46           Algeria  2004   4.634475              Algeria    10058.435939\n",
      "69           Andorra  2004  26.837954                  NaN             NaN\n",
      "88            Angola  2004   0.464815               Angola     5593.241537\n",
      "...              ...   ...        ...                  ...             ...\n",
      "7698             NaN  2004        NaN               Tuvalu     3336.952920\n",
      "7761             NaN  2004        NaN  Upper middle income     8567.061394\n",
      "7818             NaN  2004        NaN              Vietnam     3689.732423\n",
      "7848             NaN  2004        NaN   West Bank and Gaza     4485.525458\n",
      "7874             NaN  2004        NaN                World    12077.823821\n",
      "\n",
      "[276 rows x 5 columns]\n"
     ]
    }
   ],
   "source": [
    "filtered_df = df3[df3.Year.isin([2004])]\n",
    "print(filtered_df)"
   ]
  },
  {
   "cell_type": "code",
   "execution_count": 22,
   "id": "ae26e505",
   "metadata": {},
   "outputs": [
    {
     "name": "stdout",
     "output_type": "stream",
     "text": [
      "     Country or Area  Year  Value              Country  GDP_Per_Capita\n",
      "5        Afghanistan  2009   3.55          Afghanistan     1758.904043\n",
      "20           Albania  2009  41.20              Albania    10346.864199\n",
      "41           Algeria  2009  11.23              Algeria    10782.361398\n",
      "64           Andorra  2009  78.53                  NaN             NaN\n",
      "83            Angola  2009   6.00               Angola     7643.493749\n",
      "...              ...   ...    ...                  ...             ...\n",
      "7602             NaN  2009    NaN           The Gambia     2283.183556\n",
      "7756             NaN  2009    NaN  Upper middle income    11212.934078\n",
      "7813             NaN  2009    NaN              Vietnam     4830.304958\n",
      "7843             NaN  2009    NaN   West Bank and Gaza     5250.116075\n",
      "7869             NaN  2009    NaN                World    13396.524163\n",
      "\n",
      "[277 rows x 5 columns]\n"
     ]
    }
   ],
   "source": [
    "filtered_df2 = df3[df3.Year.isin([2009])]\n",
    "print(filtered_df2)"
   ]
  },
  {
   "cell_type": "code",
   "execution_count": 23,
   "id": "12e35b09",
   "metadata": {},
   "outputs": [
    {
     "name": "stdout",
     "output_type": "stream",
     "text": [
      "     Country or Area  Year  Value              Country  GDP_Per_Capita\n",
      "0        Afghanistan  2014   6.39          Afghanistan     2102.385234\n",
      "15           Albania  2014  60.10              Albania    11623.866679\n",
      "36           Algeria  2014  18.09              Algeria    11512.705405\n",
      "59           Andorra  2014  95.90                  NaN             NaN\n",
      "78            Angola  2014  21.26               Angola     8239.828837\n",
      "...              ...   ...    ...                  ...             ...\n",
      "7695             NaN  2014    NaN               Tuvalu     3450.793169\n",
      "7751             NaN  2014    NaN  Upper middle income    14275.343977\n",
      "7808             NaN  2014    NaN              Vietnam     6098.489609\n",
      "7838             NaN  2014    NaN   West Bank and Gaza     5967.073437\n",
      "7864             NaN  2014    NaN                World    15189.648507\n",
      "\n",
      "[277 rows x 5 columns]\n"
     ]
    }
   ],
   "source": [
    "filtered_df4 = df3[df3.Year.isin([2014])]\n",
    "print(filtered_df4)"
   ]
  },
  {
   "cell_type": "markdown",
   "id": "e25d2cd3",
   "metadata": {},
   "source": [
    "18 highest interenet useres 2014"
   ]
  },
  {
   "cell_type": "code",
   "execution_count": 24,
   "id": "3e401db0",
   "metadata": {},
   "outputs": [
    {
     "data": {
      "text/html": [
       "<div>\n",
       "<style scoped>\n",
       "    .dataframe tbody tr th:only-of-type {\n",
       "        vertical-align: middle;\n",
       "    }\n",
       "\n",
       "    .dataframe tbody tr th {\n",
       "        vertical-align: top;\n",
       "    }\n",
       "\n",
       "    .dataframe thead th {\n",
       "        text-align: right;\n",
       "    }\n",
       "</style>\n",
       "<table border=\"1\" class=\"dataframe\">\n",
       "  <thead>\n",
       "    <tr style=\"text-align: right;\">\n",
       "      <th></th>\n",
       "      <th>Country or Area</th>\n",
       "      <th>Year</th>\n",
       "      <th>Value</th>\n",
       "      <th>Country</th>\n",
       "      <th>GDP_Per_Capita</th>\n",
       "    </tr>\n",
       "  </thead>\n",
       "  <tbody>\n",
       "    <tr>\n",
       "      <th>1866</th>\n",
       "      <td>Iceland</td>\n",
       "      <td>2014</td>\n",
       "      <td>98.1600</td>\n",
       "      <td>Iceland</td>\n",
       "      <td>49652.149500</td>\n",
       "    </tr>\n",
       "    <tr>\n",
       "      <th>415</th>\n",
       "      <td>Bermuda</td>\n",
       "      <td>2014</td>\n",
       "      <td>96.8000</td>\n",
       "      <td>Bermuda</td>\n",
       "      <td>77361.104881</td>\n",
       "    </tr>\n",
       "    <tr>\n",
       "      <th>1867</th>\n",
       "      <td>Iceland</td>\n",
       "      <td>2013</td>\n",
       "      <td>96.5468</td>\n",
       "      <td>Iceland</td>\n",
       "      <td>49183.313022</td>\n",
       "    </tr>\n",
       "  </tbody>\n",
       "</table>\n",
       "</div>"
      ],
      "text/plain": [
       "     Country or Area  Year    Value  Country  GDP_Per_Capita\n",
       "1866         Iceland  2014  98.1600  Iceland    49652.149500\n",
       "415          Bermuda  2014  96.8000  Bermuda    77361.104881\n",
       "1867         Iceland  2013  96.5468  Iceland    49183.313022"
      ]
     },
     "execution_count": 24,
     "metadata": {},
     "output_type": "execute_result"
    }
   ],
   "source": [
    "df3.nlargest(3, 'Value')"
   ]
  },
  {
   "cell_type": "markdown",
   "id": "3366e1c0",
   "metadata": {},
   "source": [
    "19 lowest interent 2014"
   ]
  },
  {
   "cell_type": "code",
   "execution_count": 25,
   "id": "33e5514c",
   "metadata": {},
   "outputs": [
    {
     "data": {
      "text/html": [
       "<div>\n",
       "<style scoped>\n",
       "    .dataframe tbody tr th:only-of-type {\n",
       "        vertical-align: middle;\n",
       "    }\n",
       "\n",
       "    .dataframe tbody tr th {\n",
       "        vertical-align: top;\n",
       "    }\n",
       "\n",
       "    .dataframe thead th {\n",
       "        text-align: right;\n",
       "    }\n",
       "</style>\n",
       "<table border=\"1\" class=\"dataframe\">\n",
       "  <thead>\n",
       "    <tr style=\"text-align: right;\">\n",
       "      <th></th>\n",
       "      <th>Country or Area</th>\n",
       "      <th>Year</th>\n",
       "      <th>Value</th>\n",
       "      <th>Country</th>\n",
       "      <th>GDP_Per_Capita</th>\n",
       "    </tr>\n",
       "  </thead>\n",
       "  <tbody>\n",
       "    <tr>\n",
       "      <th>1065</th>\n",
       "      <td>Dem. People's Rep. of Korea</td>\n",
       "      <td>2014</td>\n",
       "      <td>0.00</td>\n",
       "      <td>NaN</td>\n",
       "      <td>NaN</td>\n",
       "    </tr>\n",
       "    <tr>\n",
       "      <th>1256</th>\n",
       "      <td>Eritrea</td>\n",
       "      <td>2014</td>\n",
       "      <td>0.99</td>\n",
       "      <td>NaN</td>\n",
       "      <td>NaN</td>\n",
       "    </tr>\n",
       "    <tr>\n",
       "      <th>4019</th>\n",
       "      <td>Timor-Leste</td>\n",
       "      <td>2014</td>\n",
       "      <td>1.14</td>\n",
       "      <td>Timor-Leste</td>\n",
       "      <td>3264.56807</td>\n",
       "    </tr>\n",
       "  </tbody>\n",
       "</table>\n",
       "</div>"
      ],
      "text/plain": [
       "                  Country or Area  Year  Value      Country  GDP_Per_Capita\n",
       "1065  Dem. People's Rep. of Korea  2014   0.00          NaN             NaN\n",
       "1256                      Eritrea  2014   0.99          NaN             NaN\n",
       "4019                  Timor-Leste  2014   1.14  Timor-Leste      3264.56807"
      ]
     },
     "execution_count": 25,
     "metadata": {},
     "output_type": "execute_result"
    }
   ],
   "source": [
    "df3.loc[(df3['Year']== 2014)].nsmallest(3,'Value')"
   ]
  },
  {
   "cell_type": "markdown",
   "id": "b3cf2021",
   "metadata": {},
   "source": [
    "20 lowest internet 2004, 2009 "
   ]
  },
  {
   "cell_type": "code",
   "execution_count": 26,
   "id": "eb04d60c",
   "metadata": {},
   "outputs": [
    {
     "data": {
      "text/html": [
       "<div>\n",
       "<style scoped>\n",
       "    .dataframe tbody tr th:only-of-type {\n",
       "        vertical-align: middle;\n",
       "    }\n",
       "\n",
       "    .dataframe tbody tr th {\n",
       "        vertical-align: top;\n",
       "    }\n",
       "\n",
       "    .dataframe thead th {\n",
       "        text-align: right;\n",
       "    }\n",
       "</style>\n",
       "<table border=\"1\" class=\"dataframe\">\n",
       "  <thead>\n",
       "    <tr style=\"text-align: right;\">\n",
       "      <th></th>\n",
       "      <th>Country or Area</th>\n",
       "      <th>Year</th>\n",
       "      <th>Value</th>\n",
       "      <th>Country</th>\n",
       "      <th>GDP_Per_Capita</th>\n",
       "    </tr>\n",
       "  </thead>\n",
       "  <tbody>\n",
       "    <tr>\n",
       "      <th>1074</th>\n",
       "      <td>Dem. People's Rep. of Korea</td>\n",
       "      <td>2004</td>\n",
       "      <td>0.000000</td>\n",
       "      <td>NaN</td>\n",
       "      <td>NaN</td>\n",
       "    </tr>\n",
       "    <tr>\n",
       "      <th>2824</th>\n",
       "      <td>Myanmar</td>\n",
       "      <td>2004</td>\n",
       "      <td>0.024337</td>\n",
       "      <td>Myanmar</td>\n",
       "      <td>1696.881760</td>\n",
       "    </tr>\n",
       "    <tr>\n",
       "      <th>2346</th>\n",
       "      <td>Liberia</td>\n",
       "      <td>2004</td>\n",
       "      <td>0.031011</td>\n",
       "      <td>Liberia</td>\n",
       "      <td>1181.546158</td>\n",
       "    </tr>\n",
       "  </tbody>\n",
       "</table>\n",
       "</div>"
      ],
      "text/plain": [
       "                  Country or Area  Year     Value  Country  GDP_Per_Capita\n",
       "1074  Dem. People's Rep. of Korea  2004  0.000000      NaN             NaN\n",
       "2824                      Myanmar  2004  0.024337  Myanmar     1696.881760\n",
       "2346                      Liberia  2004  0.031011  Liberia     1181.546158"
      ]
     },
     "execution_count": 26,
     "metadata": {},
     "output_type": "execute_result"
    }
   ],
   "source": [
    "df3.loc[(df3['Year']== 2004)].nsmallest(3,'Value')"
   ]
  },
  {
   "cell_type": "code",
   "execution_count": 27,
   "id": "8a924986",
   "metadata": {},
   "outputs": [
    {
     "data": {
      "text/html": [
       "<div>\n",
       "<style scoped>\n",
       "    .dataframe tbody tr th:only-of-type {\n",
       "        vertical-align: middle;\n",
       "    }\n",
       "\n",
       "    .dataframe tbody tr th {\n",
       "        vertical-align: top;\n",
       "    }\n",
       "\n",
       "    .dataframe thead th {\n",
       "        text-align: right;\n",
       "    }\n",
       "</style>\n",
       "<table border=\"1\" class=\"dataframe\">\n",
       "  <thead>\n",
       "    <tr style=\"text-align: right;\">\n",
       "      <th></th>\n",
       "      <th>Country or Area</th>\n",
       "      <th>Year</th>\n",
       "      <th>Value</th>\n",
       "      <th>Country</th>\n",
       "      <th>GDP_Per_Capita</th>\n",
       "    </tr>\n",
       "  </thead>\n",
       "  <tbody>\n",
       "    <tr>\n",
       "      <th>1069</th>\n",
       "      <td>Dem. People's Rep. of Korea</td>\n",
       "      <td>2009</td>\n",
       "      <td>0.000000</td>\n",
       "      <td>NaN</td>\n",
       "      <td>NaN</td>\n",
       "    </tr>\n",
       "    <tr>\n",
       "      <th>4024</th>\n",
       "      <td>Timor-Leste</td>\n",
       "      <td>2009</td>\n",
       "      <td>0.185252</td>\n",
       "      <td>Timor-Leste</td>\n",
       "      <td>2724.770973</td>\n",
       "    </tr>\n",
       "    <tr>\n",
       "      <th>2819</th>\n",
       "      <td>Myanmar</td>\n",
       "      <td>2009</td>\n",
       "      <td>0.220000</td>\n",
       "      <td>Myanmar</td>\n",
       "      <td>2874.780227</td>\n",
       "    </tr>\n",
       "  </tbody>\n",
       "</table>\n",
       "</div>"
      ],
      "text/plain": [
       "                  Country or Area  Year     Value      Country  GDP_Per_Capita\n",
       "1069  Dem. People's Rep. of Korea  2009  0.000000          NaN             NaN\n",
       "4024                  Timor-Leste  2009  0.185252  Timor-Leste     2724.770973\n",
       "2819                      Myanmar  2009  0.220000      Myanmar     2874.780227"
      ]
     },
     "execution_count": 27,
     "metadata": {},
     "output_type": "execute_result"
    }
   ],
   "source": [
    "df3.loc[(df3['Year']== 2009)].nsmallest(3,'Value')"
   ]
  },
  {
   "cell_type": "markdown",
   "id": "8ac80300",
   "metadata": {},
   "source": [
    "21 highest gdp per capita 2014"
   ]
  },
  {
   "cell_type": "code",
   "execution_count": 28,
   "id": "f6717ed6",
   "metadata": {},
   "outputs": [
    {
     "data": {
      "text/html": [
       "<div>\n",
       "<style scoped>\n",
       "    .dataframe tbody tr th:only-of-type {\n",
       "        vertical-align: middle;\n",
       "    }\n",
       "\n",
       "    .dataframe tbody tr th {\n",
       "        vertical-align: top;\n",
       "    }\n",
       "\n",
       "    .dataframe thead th {\n",
       "        text-align: right;\n",
       "    }\n",
       "</style>\n",
       "<table border=\"1\" class=\"dataframe\">\n",
       "  <thead>\n",
       "    <tr style=\"text-align: right;\">\n",
       "      <th></th>\n",
       "      <th>Country or Area</th>\n",
       "      <th>Year</th>\n",
       "      <th>Value</th>\n",
       "      <th>Country</th>\n",
       "      <th>GDP_Per_Capita</th>\n",
       "    </tr>\n",
       "  </thead>\n",
       "  <tbody>\n",
       "    <tr>\n",
       "      <th>6394</th>\n",
       "      <td>NaN</td>\n",
       "      <td>2014</td>\n",
       "      <td>NaN</td>\n",
       "      <td>Macao SAR, China</td>\n",
       "      <td>156514.133850</td>\n",
       "    </tr>\n",
       "    <tr>\n",
       "      <th>2407</th>\n",
       "      <td>Luxembourg</td>\n",
       "      <td>2014</td>\n",
       "      <td>94.67</td>\n",
       "      <td>Luxembourg</td>\n",
       "      <td>108760.916030</td>\n",
       "    </tr>\n",
       "    <tr>\n",
       "      <th>3279</th>\n",
       "      <td>Qatar</td>\n",
       "      <td>2014</td>\n",
       "      <td>91.49</td>\n",
       "      <td>Qatar</td>\n",
       "      <td>95578.416973</td>\n",
       "    </tr>\n",
       "  </tbody>\n",
       "</table>\n",
       "</div>"
      ],
      "text/plain": [
       "     Country or Area  Year  Value           Country  GDP_Per_Capita\n",
       "6394             NaN  2014    NaN  Macao SAR, China   156514.133850\n",
       "2407      Luxembourg  2014  94.67        Luxembourg   108760.916030\n",
       "3279           Qatar  2014  91.49             Qatar    95578.416973"
      ]
     },
     "execution_count": 28,
     "metadata": {},
     "output_type": "execute_result"
    }
   ],
   "source": [
    "df3.loc[(df3['Year']== 2014)].nlargest(3,'GDP_Per_Capita')"
   ]
  },
  {
   "cell_type": "markdown",
   "id": "c3ed896b",
   "metadata": {},
   "source": [
    "22"
   ]
  },
  {
   "cell_type": "code",
   "execution_count": 51,
   "id": "0a0bd49e",
   "metadata": {},
   "outputs": [
    {
     "data": {
      "text/html": [
       "<div>\n",
       "<style scoped>\n",
       "    .dataframe tbody tr th:only-of-type {\n",
       "        vertical-align: middle;\n",
       "    }\n",
       "\n",
       "    .dataframe tbody tr th {\n",
       "        vertical-align: top;\n",
       "    }\n",
       "\n",
       "    .dataframe thead th {\n",
       "        text-align: right;\n",
       "    }\n",
       "</style>\n",
       "<table border=\"1\" class=\"dataframe\">\n",
       "  <thead>\n",
       "    <tr style=\"text-align: right;\">\n",
       "      <th></th>\n",
       "      <th>Country or Area</th>\n",
       "      <th>Year</th>\n",
       "      <th>Value</th>\n",
       "      <th>Country</th>\n",
       "      <th>GDP_Per_Capita</th>\n",
       "    </tr>\n",
       "  </thead>\n",
       "  <tbody>\n",
       "    <tr>\n",
       "      <th>4906</th>\n",
       "      <td>NaN</td>\n",
       "      <td>2014</td>\n",
       "      <td>NaN</td>\n",
       "      <td>Central African Republic</td>\n",
       "      <td>822.610458</td>\n",
       "    </tr>\n",
       "    <tr>\n",
       "      <th>623</th>\n",
       "      <td>Burundi</td>\n",
       "      <td>2014</td>\n",
       "      <td>1.38</td>\n",
       "      <td>Burundi</td>\n",
       "      <td>886.235777</td>\n",
       "    </tr>\n",
       "    <tr>\n",
       "      <th>2473</th>\n",
       "      <td>Malawi</td>\n",
       "      <td>2014</td>\n",
       "      <td>5.83</td>\n",
       "      <td>Malawi</td>\n",
       "      <td>1027.208496</td>\n",
       "    </tr>\n",
       "  </tbody>\n",
       "</table>\n",
       "</div>"
      ],
      "text/plain": [
       "     Country or Area  Year  Value                   Country  GDP_Per_Capita\n",
       "4906             NaN  2014    NaN  Central African Republic      822.610458\n",
       "623          Burundi  2014   1.38                   Burundi      886.235777\n",
       "2473          Malawi  2014   5.83                    Malawi     1027.208496"
      ]
     },
     "execution_count": 51,
     "metadata": {},
     "output_type": "execute_result"
    }
   ],
   "source": [
    "df3.loc[(df3['Year']== 2014)].nsmallest(3,'GDP_Per_Capita')"
   ]
  },
  {
   "cell_type": "markdown",
   "id": "7489f5d1",
   "metadata": {},
   "source": [
    "23 scatter plot"
   ]
  },
  {
   "cell_type": "code",
   "execution_count": 30,
   "id": "ce3830c9",
   "metadata": {},
   "outputs": [
    {
     "data": {
      "text/plain": [
       "<AxesSubplot:xlabel='Value', ylabel='GDP_Per_Capita'>"
      ]
     },
     "execution_count": 30,
     "metadata": {},
     "output_type": "execute_result"
    },
    {
     "data": {
      "image/png": "[encoded data removed]",
      "text/plain": [
       "<Figure size 432x288 with 1 Axes>"
      ]
     },
     "metadata": {
      "needs_background": "light"
     },
     "output_type": "display_data"
    }
   ],
   "source": [
    "filtered_df.plot.scatter( x = 'Value', y = 'GDP_Per_Capita')"
   ]
  },
  {
   "cell_type": "code",
   "execution_count": 31,
   "id": "94a49473",
   "metadata": {},
   "outputs": [
    {
     "data": {
      "text/plain": [
       "<AxesSubplot:xlabel='Value', ylabel='GDP_Per_Capita'>"
      ]
     },
     "execution_count": 31,
     "metadata": {},
     "output_type": "execute_result"
    },
    {
     "data": {
      "image/png": "[encoded data removed]",
      "text/plain": [
       "<Figure size 432x288 with 1 Axes>"
      ]
     },
     "metadata": {
      "needs_background": "light"
     },
     "output_type": "display_data"
    }
   ],
   "source": [
    "filtered_df2.plot.scatter( x = 'Value', y = 'GDP_Per_Capita')"
   ]
  },
  {
   "cell_type": "code",
   "execution_count": 32,
   "id": "c5f8d52e",
   "metadata": {},
   "outputs": [
    {
     "data": {
      "text/plain": [
       "<AxesSubplot:xlabel='Value', ylabel='GDP_Per_Capita'>"
      ]
     },
     "execution_count": 32,
     "metadata": {},
     "output_type": "execute_result"
    },
    {
     "data": {
      "image/png": "[encoded data removed]",
      "text/plain": [
       "<Figure size 432x288 with 1 Axes>"
      ]
     },
     "metadata": {
      "needs_background": "light"
     },
     "output_type": "display_data"
    }
   ],
   "source": [
    "filtered_df3.plot.scatter( x = 'Value', y = 'GDP_Per_Capita')"
   ]
  },
  {
   "cell_type": "markdown",
   "id": "453f0901",
   "metadata": {},
   "source": [
    "#working on it"
   ]
  },
  {
   "cell_type": "markdown",
   "id": "17cb2619",
   "metadata": {},
   "source": [
    "24"
   ]
  },
  {
   "cell_type": "markdown",
   "id": "0155efbd",
   "metadata": {},
   "source": [
    "2014 has more separation"
   ]
  },
  {
   "cell_type": "markdown",
   "id": "cb28b42c",
   "metadata": {},
   "source": [
    "25 distribution gdp"
   ]
  },
  {
   "cell_type": "code",
   "execution_count": 33,
   "id": "2e8db17e",
   "metadata": {},
   "outputs": [
    {
     "data": {
      "text/plain": [
       "array([[<AxesSubplot:title={'center':'2004'}>,\n",
       "        <AxesSubplot:title={'center':'2009'}>],\n",
       "       [<AxesSubplot:title={'center':'2014'}>, <AxesSubplot:>]],\n",
       "      dtype=object)"
      ]
     },
     "execution_count": 33,
     "metadata": {},
     "output_type": "execute_result"
    },
    {
     "data": {
      "image/png": "[encoded data removed]",
      "text/plain": [
       "<Figure size 432x288 with 4 Axes>"
      ]
     },
     "metadata": {
      "needs_background": "light"
     },
     "output_type": "display_data"
    }
   ],
   "source": [
    "filtered_df3.hist(column= 'GDP_Per_Capita', by= 'Year')"
   ]
  },
  {
   "cell_type": "markdown",
   "id": "f756fe5d",
   "metadata": {},
   "source": [
    "26 distribution internet"
   ]
  },
  {
   "cell_type": "code",
   "execution_count": 35,
   "id": "4f609099",
   "metadata": {},
   "outputs": [
    {
     "data": {
      "text/plain": [
       "array([[<AxesSubplot:title={'center':'2004'}>,\n",
       "        <AxesSubplot:title={'center':'2009'}>],\n",
       "       [<AxesSubplot:title={'center':'2014'}>, <AxesSubplot:>]],\n",
       "      dtype=object)"
      ]
     },
     "execution_count": 35,
     "metadata": {},
     "output_type": "execute_result"
    },
    {
     "data": {
      "image/png": "[encoded data removed]",
      "text/plain": [
       "<Figure size 432x288 with 4 Axes>"
      ]
     },
     "metadata": {
      "needs_background": "light"
     },
     "output_type": "display_data"
    }
   ],
   "source": [
    "filtered_df3.hist(column= 'Value', by= 'Year')"
   ]
  },
  {
   "cell_type": "markdown",
   "id": "5465cc34",
   "metadata": {},
   "source": [
    "27 top 5 countries internet 2014"
   ]
  },
  {
   "cell_type": "code",
   "execution_count": 36,
   "id": "fce58662",
   "metadata": {
    "scrolled": true
   },
   "outputs": [
    {
     "data": {
      "text/html": [
       "<div>\n",
       "<style scoped>\n",
       "    .dataframe tbody tr th:only-of-type {\n",
       "        vertical-align: middle;\n",
       "    }\n",
       "\n",
       "    .dataframe tbody tr th {\n",
       "        vertical-align: top;\n",
       "    }\n",
       "\n",
       "    .dataframe thead th {\n",
       "        text-align: right;\n",
       "    }\n",
       "</style>\n",
       "<table border=\"1\" class=\"dataframe\">\n",
       "  <thead>\n",
       "    <tr style=\"text-align: right;\">\n",
       "      <th></th>\n",
       "      <th>Country or Area</th>\n",
       "      <th>Year</th>\n",
       "      <th>Value</th>\n",
       "      <th>Country</th>\n",
       "      <th>GDP_Per_Capita</th>\n",
       "    </tr>\n",
       "  </thead>\n",
       "  <tbody>\n",
       "    <tr>\n",
       "      <th>59</th>\n",
       "      <td>Andorra</td>\n",
       "      <td>2014</td>\n",
       "      <td>95.90</td>\n",
       "      <td>NaN</td>\n",
       "      <td>NaN</td>\n",
       "    </tr>\n",
       "    <tr>\n",
       "      <th>1083</th>\n",
       "      <td>Denmark</td>\n",
       "      <td>2014</td>\n",
       "      <td>95.99</td>\n",
       "      <td>Denmark</td>\n",
       "      <td>52214.537753</td>\n",
       "    </tr>\n",
       "    <tr>\n",
       "      <th>3016</th>\n",
       "      <td>Norway</td>\n",
       "      <td>2014</td>\n",
       "      <td>96.30</td>\n",
       "      <td>Norway</td>\n",
       "      <td>62589.373548</td>\n",
       "    </tr>\n",
       "    <tr>\n",
       "      <th>415</th>\n",
       "      <td>Bermuda</td>\n",
       "      <td>2014</td>\n",
       "      <td>96.80</td>\n",
       "      <td>Bermuda</td>\n",
       "      <td>77361.104881</td>\n",
       "    </tr>\n",
       "    <tr>\n",
       "      <th>1866</th>\n",
       "      <td>Iceland</td>\n",
       "      <td>2014</td>\n",
       "      <td>98.16</td>\n",
       "      <td>Iceland</td>\n",
       "      <td>49652.149500</td>\n",
       "    </tr>\n",
       "  </tbody>\n",
       "</table>\n",
       "</div>"
      ],
      "text/plain": [
       "     Country or Area  Year  Value  Country  GDP_Per_Capita\n",
       "59           Andorra  2014  95.90      NaN             NaN\n",
       "1083         Denmark  2014  95.99  Denmark    52214.537753\n",
       "3016          Norway  2014  96.30   Norway    62589.373548\n",
       "415          Bermuda  2014  96.80  Bermuda    77361.104881\n",
       "1866         Iceland  2014  98.16  Iceland    49652.149500"
      ]
     },
     "execution_count": 36,
     "metadata": {},
     "output_type": "execute_result"
    }
   ],
   "source": [
    "filtered_df3.sort_values('Value', ascending=False).drop_duplicates('Value').head(5).sort_values('Value')"
   ]
  },
  {
   "cell_type": "markdown",
   "id": "7c77fc67",
   "metadata": {},
   "source": [
    "28 top 5 internet 2004, 2009, 2014"
   ]
  },
  {
   "cell_type": "code",
   "execution_count": 37,
   "id": "c5c95770",
   "metadata": {},
   "outputs": [
    {
     "name": "stdout",
     "output_type": "stream",
     "text": [
      "      Country or Area  Year  Value      Country  GDP_Per_Capita\n",
      "1866          Iceland  2014  98.16      Iceland    49652.149500\n",
      "415           Bermuda  2014  96.80      Bermuda    77361.104881\n",
      "3016           Norway  2014  96.30       Norway    62589.373548\n",
      "1083          Denmark  2014  95.99      Denmark    52214.537753\n",
      "59            Andorra  2014  95.90          NaN             NaN\n",
      "1871          Iceland  2009  93.00      Iceland    48177.084123\n",
      "3021           Norway  2009  92.08       Norway    61886.564498\n",
      "3830           Sweden  2009  91.00       Sweden    45638.035577\n",
      "2885      Netherlands  2009  89.63  Netherlands    51772.424928\n",
      "2412       Luxembourg  2009  87.31   Luxembourg   104932.811953\n",
      "3835           Sweden  2004  83.89       Sweden    44496.023401\n",
      "1876          Iceland  2004  83.88      Iceland    45145.545658\n",
      "1093          Denmark  2004  80.93      Denmark    50607.628971\n",
      "3026           Norway  2004  77.69       Norway    60893.410993\n",
      "2203  Korea (Rep. of)  2004  72.70          NaN             NaN\n"
     ]
    }
   ],
   "source": [
    "top_5_internet = filtered_df3.sort_values(['Value', 'Year'], ascending=False).drop_duplicates('Value').groupby('Year').head(5)\n",
    "print(top_5_internet)\n"
   ]
  },
  {
   "cell_type": "markdown",
   "id": "20a56ff7",
   "metadata": {},
   "source": [
    "29 facet grid"
   ]
  },
  {
   "cell_type": "code",
   "execution_count": 38,
   "id": "b87a8146",
   "metadata": {},
   "outputs": [
    {
     "data": {
      "text/plain": [
       "<function matplotlib.pyplot.show(close=None, block=None)>"
      ]
     },
     "execution_count": 38,
     "metadata": {},
     "output_type": "execute_result"
    },
    {
     "data": {
      "image/png": "[encoded data removed]",
      "text/plain": [
       "<Figure size 216x216 with 1 Axes>"
      ]
     },
     "metadata": {
      "needs_background": "light"
     },
     "output_type": "display_data"
    }
   ],
   "source": [
    "graph = sns.FacetGrid(top_5_internet)\n",
    "graph.map(plt.scatter, 'Year', 'Value')\n",
    "plt.show"
   ]
  },
  {
   "cell_type": "markdown",
   "id": "d1af9152",
   "metadata": {},
   "source": [
    "30a bottom 5 internet"
   ]
  },
  {
   "cell_type": "code",
   "execution_count": 39,
   "id": "55c97734",
   "metadata": {},
   "outputs": [
    {
     "data": {
      "text/html": [
       "<div>\n",
       "<style scoped>\n",
       "    .dataframe tbody tr th:only-of-type {\n",
       "        vertical-align: middle;\n",
       "    }\n",
       "\n",
       "    .dataframe tbody tr th {\n",
       "        vertical-align: top;\n",
       "    }\n",
       "\n",
       "    .dataframe thead th {\n",
       "        text-align: right;\n",
       "    }\n",
       "</style>\n",
       "<table border=\"1\" class=\"dataframe\">\n",
       "  <thead>\n",
       "    <tr style=\"text-align: right;\">\n",
       "      <th></th>\n",
       "      <th>Country or Area</th>\n",
       "      <th>Year</th>\n",
       "      <th>Value</th>\n",
       "      <th>Country</th>\n",
       "      <th>GDP_Per_Capita</th>\n",
       "    </tr>\n",
       "  </thead>\n",
       "  <tbody>\n",
       "    <tr>\n",
       "      <th>1069</th>\n",
       "      <td>Dem. People's Rep. of Korea</td>\n",
       "      <td>2009</td>\n",
       "      <td>0.000000</td>\n",
       "      <td>NaN</td>\n",
       "      <td>NaN</td>\n",
       "    </tr>\n",
       "    <tr>\n",
       "      <th>2824</th>\n",
       "      <td>Myanmar</td>\n",
       "      <td>2004</td>\n",
       "      <td>0.024337</td>\n",
       "      <td>Myanmar</td>\n",
       "      <td>1696.881760</td>\n",
       "    </tr>\n",
       "    <tr>\n",
       "      <th>2346</th>\n",
       "      <td>Liberia</td>\n",
       "      <td>2004</td>\n",
       "      <td>0.031011</td>\n",
       "      <td>Liberia</td>\n",
       "      <td>1181.546158</td>\n",
       "    </tr>\n",
       "    <tr>\n",
       "      <th>3949</th>\n",
       "      <td>Tajikistan</td>\n",
       "      <td>2004</td>\n",
       "      <td>0.077480</td>\n",
       "      <td>Tajikistan</td>\n",
       "      <td>1737.743630</td>\n",
       "    </tr>\n",
       "    <tr>\n",
       "      <th>4541</th>\n",
       "      <td>NaN</td>\n",
       "      <td>2014</td>\n",
       "      <td>NaN</td>\n",
       "      <td>Arab World</td>\n",
       "      <td>14219.562395</td>\n",
       "    </tr>\n",
       "  </tbody>\n",
       "</table>\n",
       "</div>"
      ],
      "text/plain": [
       "                  Country or Area  Year     Value     Country  GDP_Per_Capita\n",
       "1069  Dem. People's Rep. of Korea  2009  0.000000         NaN             NaN\n",
       "2824                      Myanmar  2004  0.024337     Myanmar     1696.881760\n",
       "2346                      Liberia  2004  0.031011     Liberia     1181.546158\n",
       "3949                   Tajikistan  2004  0.077480  Tajikistan     1737.743630\n",
       "4541                          NaN  2014       NaN  Arab World    14219.562395"
      ]
     },
     "execution_count": 39,
     "metadata": {},
     "output_type": "execute_result"
    }
   ],
   "source": [
    "filtered_df3.sort_values('Value', ascending=False).drop_duplicates('Value').tail(5).sort_values('Value')"
   ]
  },
  {
   "cell_type": "markdown",
   "id": "32f86bd4",
   "metadata": {},
   "source": [
    "30b bottom 5 internet 2004, 2009, 2014"
   ]
  },
  {
   "cell_type": "code",
   "execution_count": 40,
   "id": "b1051b2e",
   "metadata": {
    "scrolled": true
   },
   "outputs": [
    {
     "name": "stdout",
     "output_type": "stream",
     "text": [
      "                  Country or Area  Year     Value       Country  \\\n",
      "623                       Burundi  2014  1.380000       Burundi   \n",
      "4019                  Timor-Leste  2014  1.140000   Timor-Leste   \n",
      "1256                      Eritrea  2014  0.990000           NaN   \n",
      "1261                      Eritrea  2009  0.540000           NaN   \n",
      "671                      Cambodia  2009  0.530000      Cambodia   \n",
      "3538                 Sierra Leone  2009  0.260000  Sierra Leone   \n",
      "2819                      Myanmar  2009  0.220000       Myanmar   \n",
      "4024                  Timor-Leste  2009  0.185252   Timor-Leste   \n",
      "1309                     Ethiopia  2004  0.155335      Ethiopia   \n",
      "10                    Afghanistan  2004  0.105809   Afghanistan   \n",
      "3949                   Tajikistan  2004  0.077480    Tajikistan   \n",
      "2346                      Liberia  2004  0.031011       Liberia   \n",
      "2824                      Myanmar  2004  0.024337       Myanmar   \n",
      "1065  Dem. People's Rep. of Korea  2014  0.000000           NaN   \n",
      "4541                          NaN  2014       NaN    Arab World   \n",
      "\n",
      "      GDP_Per_Capita  \n",
      "623       886.235777  \n",
      "4019     3264.568070  \n",
      "1256             NaN  \n",
      "1261             NaN  \n",
      "671      2603.583778  \n",
      "3538     1372.392285  \n",
      "2819     2874.780227  \n",
      "4024     2724.770973  \n",
      "1309      793.093786  \n",
      "10       1200.278256  \n",
      "3949     1737.743630  \n",
      "2346     1181.546158  \n",
      "2824     1696.881760  \n",
      "1065             NaN  \n",
      "4541    14219.562395  \n"
     ]
    }
   ],
   "source": [
    "bottom_5_internet = filtered_df3.sort_values(['Value', 'Year'], ascending=False).drop_duplicates('Value').groupby('Year').tail(5)\n",
    "print(bottom_5_internet)"
   ]
  },
  {
   "cell_type": "markdown",
   "id": "71517a19",
   "metadata": {},
   "source": [
    "30c"
   ]
  },
  {
   "cell_type": "code",
   "execution_count": 41,
   "id": "eb190279",
   "metadata": {},
   "outputs": [
    {
     "data": {
      "text/plain": [
       "<function matplotlib.pyplot.show(close=None, block=None)>"
      ]
     },
     "execution_count": 41,
     "metadata": {},
     "output_type": "execute_result"
    },
    {
     "data": {
      "image/png": "[encoded data removed]",
      "text/plain": [
       "<Figure size 216x216 with 1 Axes>"
      ]
     },
     "metadata": {
      "needs_background": "light"
     },
     "output_type": "display_data"
    }
   ],
   "source": [
    "graph = sns.FacetGrid(bottom_5_internet)\n",
    "graph.map(plt.scatter, 'Year', 'Value')\n",
    "plt.show"
   ]
  },
  {
   "cell_type": "markdown",
   "id": "b061f79b",
   "metadata": {},
   "source": [
    "31"
   ]
  },
  {
   "cell_type": "code",
   "execution_count": 42,
   "id": "ed0b12b0",
   "metadata": {},
   "outputs": [
    {
     "name": "stdout",
     "output_type": "stream",
     "text": [
      "           Country or Area  Year      Value               Country  \\\n",
      "6394                   NaN  2014        NaN      Macao SAR, China   \n",
      "2407            Luxembourg  2014  94.670000            Luxembourg   \n",
      "2412            Luxembourg  2009  87.310000            Luxembourg   \n",
      "2417            Luxembourg  2004  65.880000            Luxembourg   \n",
      "4241  United Arab Emirates  2004  30.131296  United Arab Emirates   \n",
      "6399                   NaN  2009        NaN      Macao SAR, China   \n",
      "3279                 Qatar  2014  91.490000                 Qatar   \n",
      "3289                 Qatar  2004  20.701648                 Qatar   \n",
      "425                Bermuda  2004  60.990867               Bermuda   \n",
      "420                Bermuda  2009  83.250000               Bermuda   \n",
      "3284                 Qatar  2009  53.100000                 Qatar   \n",
      "3556             Singapore  2014  82.000000             Singapore   \n",
      "3432            San Marino  2004  50.566343            San Marino   \n",
      "415                Bermuda  2014  96.800000               Bermuda   \n",
      "3427            San Marino  2009  54.210000            San Marino   \n",
      "\n",
      "      GDP_Per_Capita  \n",
      "6394   156514.133850  \n",
      "2407   108760.916030  \n",
      "2412   104932.811953  \n",
      "2417   102708.212547  \n",
      "4241    97758.023345  \n",
      "6399    95939.340822  \n",
      "3279    95578.416973  \n",
      "3289    93748.301216  \n",
      "425     90195.811033  \n",
      "420     89961.982744  \n",
      "3284    89954.519993  \n",
      "3556    87808.663157  \n",
      "3432    80391.828516  \n",
      "415     77361.104881  \n",
      "3427    76736.328963  \n"
     ]
    }
   ],
   "source": [
    "top_5_gdp = filtered_df3.sort_values(['GDP_Per_Capita', 'Year'], ascending=False).drop_duplicates('GDP_Per_Capita').groupby('Year').head(5)\n",
    "print(top_5_gdp)"
   ]
  },
  {
   "cell_type": "markdown",
   "id": "b631b9cb",
   "metadata": {},
   "source": [
    "32a"
   ]
  },
  {
   "cell_type": "code",
   "execution_count": 43,
   "id": "dfa120cf",
   "metadata": {},
   "outputs": [
    {
     "data": {
      "text/plain": [
       "<function matplotlib.pyplot.show(close=None, block=None)>"
      ]
     },
     "execution_count": 43,
     "metadata": {},
     "output_type": "execute_result"
    },
    {
     "data": {
      "image/png": "[encoded data removed]",
      "text/plain": [
       "<Figure size 216x216 with 1 Axes>"
      ]
     },
     "metadata": {
      "needs_background": "light"
     },
     "output_type": "display_data"
    }
   ],
   "source": [
    "graph = sns.FacetGrid(top_5_gdp)\n",
    "graph.map(plt.scatter, 'Year', 'GDP_Per_Capita')\n",
    "plt.show"
   ]
  },
  {
   "cell_type": "markdown",
   "id": "8b919b3b",
   "metadata": {},
   "source": [
    "32b"
   ]
  },
  {
   "cell_type": "code",
   "execution_count": 44,
   "id": "c256f9a0",
   "metadata": {},
   "outputs": [
    {
     "data": {
      "text/html": [
       "<div>\n",
       "<style scoped>\n",
       "    .dataframe tbody tr th:only-of-type {\n",
       "        vertical-align: middle;\n",
       "    }\n",
       "\n",
       "    .dataframe tbody tr th {\n",
       "        vertical-align: top;\n",
       "    }\n",
       "\n",
       "    .dataframe thead th {\n",
       "        text-align: right;\n",
       "    }\n",
       "</style>\n",
       "<table border=\"1\" class=\"dataframe\">\n",
       "  <thead>\n",
       "    <tr style=\"text-align: right;\">\n",
       "      <th></th>\n",
       "      <th>Country or Area</th>\n",
       "      <th>Year</th>\n",
       "      <th>Value</th>\n",
       "      <th>Country</th>\n",
       "      <th>GDP_Per_Capita</th>\n",
       "    </tr>\n",
       "  </thead>\n",
       "  <tbody>\n",
       "    <tr>\n",
       "      <th>1309</th>\n",
       "      <td>Ethiopia</td>\n",
       "      <td>2004</td>\n",
       "      <td>0.155335</td>\n",
       "      <td>Ethiopia</td>\n",
       "      <td>793.093786</td>\n",
       "    </tr>\n",
       "    <tr>\n",
       "      <th>2804</th>\n",
       "      <td>Mozambique</td>\n",
       "      <td>2004</td>\n",
       "      <td>0.679448</td>\n",
       "      <td>Mozambique</td>\n",
       "      <td>792.727155</td>\n",
       "    </tr>\n",
       "    <tr>\n",
       "      <th>2483</th>\n",
       "      <td>Malawi</td>\n",
       "      <td>2004</td>\n",
       "      <td>0.347505</td>\n",
       "      <td>Malawi</td>\n",
       "      <td>775.346132</td>\n",
       "    </tr>\n",
       "    <tr>\n",
       "      <th>5073</th>\n",
       "      <td>NaN</td>\n",
       "      <td>2004</td>\n",
       "      <td>NaN</td>\n",
       "      <td>Dem. Rep. Congo</td>\n",
       "      <td>757.685942</td>\n",
       "    </tr>\n",
       "    <tr>\n",
       "      <th>59</th>\n",
       "      <td>Andorra</td>\n",
       "      <td>2014</td>\n",
       "      <td>95.900000</td>\n",
       "      <td>NaN</td>\n",
       "      <td>NaN</td>\n",
       "    </tr>\n",
       "  </tbody>\n",
       "</table>\n",
       "</div>"
      ],
      "text/plain": [
       "     Country or Area  Year      Value          Country  GDP_Per_Capita\n",
       "1309        Ethiopia  2004   0.155335         Ethiopia      793.093786\n",
       "2804      Mozambique  2004   0.679448       Mozambique      792.727155\n",
       "2483          Malawi  2004   0.347505           Malawi      775.346132\n",
       "5073             NaN  2004        NaN  Dem. Rep. Congo      757.685942\n",
       "59           Andorra  2014  95.900000              NaN             NaN"
      ]
     },
     "execution_count": 44,
     "metadata": {},
     "output_type": "execute_result"
    }
   ],
   "source": [
    "filtered_df3.sort_values('GDP_Per_Capita', ascending=False).drop_duplicates('GDP_Per_Capita').tail(5).sort_values('Year')"
   ]
  },
  {
   "cell_type": "markdown",
   "id": "dedec873",
   "metadata": {},
   "source": [
    "32c"
   ]
  },
  {
   "cell_type": "code",
   "execution_count": 45,
   "id": "93422fb3",
   "metadata": {},
   "outputs": [
    {
     "name": "stdout",
     "output_type": "stream",
     "text": [
      "     Country or Area  Year      Value                   Country  \\\n",
      "5063             NaN  2014        NaN           Dem. Rep. Congo   \n",
      "2473          Malawi  2014   5.830000                    Malawi   \n",
      "2980           Niger  2009   0.760000                     Niger   \n",
      "2799      Mozambique  2009   2.680000                Mozambique   \n",
      "2478          Malawi  2009   1.070000                    Malawi   \n",
      "623          Burundi  2014   1.380000                   Burundi   \n",
      "5068             NaN  2009        NaN           Dem. Rep. Congo   \n",
      "628          Burundi  2009   0.900000                   Burundi   \n",
      "4906             NaN  2014        NaN  Central African Republic   \n",
      "633          Burundi  2004   0.349060                   Burundi   \n",
      "1309        Ethiopia  2004   0.155335                  Ethiopia   \n",
      "2804      Mozambique  2004   0.679448                Mozambique   \n",
      "2483          Malawi  2004   0.347505                    Malawi   \n",
      "5073             NaN  2004        NaN           Dem. Rep. Congo   \n",
      "59           Andorra  2014  95.900000                       NaN   \n",
      "\n",
      "      GDP_Per_Capita  \n",
      "5063     1029.790785  \n",
      "2473     1027.208496  \n",
      "2980      992.409977  \n",
      "2799      991.323181  \n",
      "2478      932.867635  \n",
      "623       886.235777  \n",
      "5068      835.611696  \n",
      "628       831.564131  \n",
      "4906      822.610458  \n",
      "633       817.460585  \n",
      "1309      793.093786  \n",
      "2804      792.727155  \n",
      "2483      775.346132  \n",
      "5073      757.685942  \n",
      "59               NaN  \n"
     ]
    }
   ],
   "source": [
    "bottom_5_1_gdp = filtered_df3.sort_values(['GDP_Per_Capita', 'Year'], ascending=False).drop_duplicates('GDP_Per_Capita').groupby('Year').tail(5)\n",
    "print(bottom_5_1_gdp)"
   ]
  },
  {
   "cell_type": "markdown",
   "id": "411789bb",
   "metadata": {},
   "source": [
    "32d"
   ]
  },
  {
   "cell_type": "code",
   "execution_count": 46,
   "id": "52e34689",
   "metadata": {},
   "outputs": [
    {
     "data": {
      "text/plain": [
       "<function matplotlib.pyplot.show(close=None, block=None)>"
      ]
     },
     "execution_count": 46,
     "metadata": {},
     "output_type": "execute_result"
    },
    {
     "data": {
      "image/png": "[encoded data removed]",
      "text/plain": [
       "<Figure size 216x216 with 1 Axes>"
      ]
     },
     "metadata": {
      "needs_background": "light"
     },
     "output_type": "display_data"
    }
   ],
   "source": [
    "graph = sns.FacetGrid(bottom_5_1_gdp)\n",
    "graph.map(plt.scatter, 'Year', 'GDP_Per_Capita')\n",
    "plt.show"
   ]
  }
 ],
 "metadata": {
  "kernelspec": {
   "display_name": "Python 3 (ipykernel)",
   "language": "python",
   "name": "python3"
  },
  "language_info": {
   "codemirror_mode": {
    "name": "ipython",
    "version": 3
   },
   "file_extension": ".py",
   "mimetype": "text/x-python",
   "name": "python",
   "nbconvert_exporter": "python",
   "pygments_lexer": "ipython3",
   "version": "3.9.12"
  }
 },
 "nbformat": 4,
 "nbformat_minor": 5
}
